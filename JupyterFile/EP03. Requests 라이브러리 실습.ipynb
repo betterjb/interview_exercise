{
 "cells": [
  {
   "cell_type": "code",
   "execution_count": 8,
   "metadata": {
    "collapsed": true
   },
   "outputs": [],
   "source": [
    "# 단순 GET 요청\n",
    "import requests\n",
    "response = requests.get('http://news.naver.com/main/home.nhn')"
   ]
  },
  {
   "cell_type": "code",
   "execution_count": 9,
   "metadata": {
    "collapsed": false
   },
   "outputs": [
    {
     "data": {
      "text/plain": [
       "200"
      ]
     },
     "execution_count": 9,
     "metadata": {},
     "output_type": "execute_result"
    }
   ],
   "source": [
    "response.status_code"
   ]
  },
  {
   "cell_type": "code",
   "execution_count": 10,
   "metadata": {
    "collapsed": true
   },
   "outputs": [],
   "source": [
    "html = response.text"
   ]
  },
  {
   "cell_type": "code",
   "execution_count": 11,
   "metadata": {
    "collapsed": false
   },
   "outputs": [
    {
     "data": {
      "text/plain": [
       "'text/html;charset=EUC-KR'"
      ]
     },
     "execution_count": 11,
     "metadata": {},
     "output_type": "execute_result"
    }
   ],
   "source": [
    "response.headers['Content-Type']"
   ]
  },
  {
   "cell_type": "code",
   "execution_count": 12,
   "metadata": {
    "collapsed": false
   },
   "outputs": [
    {
     "data": {
      "text/plain": [
       "'EUC-KR'"
      ]
     },
     "execution_count": 12,
     "metadata": {},
     "output_type": "execute_result"
    }
   ],
   "source": [
    "response.encoding"
   ]
  },
  {
   "cell_type": "code",
   "execution_count": 13,
   "metadata": {
    "collapsed": false
   },
   "outputs": [
    {
     "name": "stdout",
     "output_type": "stream",
     "text": [
      "상식in뉴스\n",
      "'베이징 체류' 北김영철, 북미정상회담 조율차 뉴욕 향발\n",
      "대법, 비트코인 재산가치 첫 인정…제도권 편입 근거 되나\n",
      "지구촌 화제\n",
      "\n",
      "남북관계와 한반도 정세\n",
      "\n",
      "'박근혜·최순실' 국정농단 재판\n",
      "\n",
      "MB 다스 의혹 등 검찰 수사\n",
      "\n",
      "세월호 인양 그 후\n",
      "\n",
      "각계 #미투 확산\n",
      "\n",
      "커지는 미세먼지 위협\n",
      "\n",
      "美 '트럼프 시대'\n",
      "\n",
      "글로벌 경제 리포트\n",
      "\n",
      "가상화폐 둘러싼 논란\n",
      "\n",
      "부동산 시장 리포트\n",
      "\n",
      "세계와 생각 나누기\n",
      "\n",
      "김인수 기자의 사람이니까 경영이다\n",
      "불공정 선거 보도 기사 모음\n"
     ]
    }
   ],
   "source": [
    "# 간단한 크롤링\n",
    "from bs4 import BeautifulSoup\n",
    "soup = BeautifulSoup(html,'html.parser')\n",
    "for tag in soup.select('a[href*=sectionList.nhn]'): # a tag에서 sectionList.nhn이라는 href 값을 찾는다.\n",
    "    print(tag.text.strip()) # text 중에서 일부 공백을 제거한다."
   ]
  },
  {
   "cell_type": "code",
   "execution_count": 14,
   "metadata": {
    "collapsed": true
   },
   "outputs": [],
   "source": [
    "# GET 요청 시에 커스텀 Header 지정\n",
    "\n",
    "request_headers = {\n",
    "    'User-Agent': ('Mozilla/5.0 (Macintosh; Intel Mac OS X 10_12_6) AppleWebKit/537.36 '\n",
    "                   '(KHTML, like Gecko) Chrome/58.0.3029.110 Safari/537.36'), # <-- 한줄이다\n",
    "    'Referer': 'http://news.naver.com/main/home.nhn', # 뉴스홈\n",
    "}\n",
    "response = requests.get('http://news.naver.com/main/main.nhn', headers=request_headers)"
   ]
  },
  {
   "cell_type": "code",
   "execution_count": 15,
   "metadata": {
    "collapsed": false
   },
   "outputs": [
    {
     "data": {
      "text/plain": [
       "<Response [200]>"
      ]
     },
     "execution_count": 15,
     "metadata": {},
     "output_type": "execute_result"
    }
   ],
   "source": [
    "response"
   ]
  },
  {
   "cell_type": "code",
   "execution_count": 18,
   "metadata": {
    "collapsed": true
   },
   "outputs": [],
   "source": [
    "# 동일 key의 GET 인자 지정\n",
    "# http://httpbin.org/get --> 내가 http 요청을 제대로 했는지 알려주는 site\n",
    "\n",
    "get_params = (('k1', 'v1'), ('k1', 'v3'), ('k2', 'v2'))\n",
    "response = requests.get('http://httpbin.org/get', params=get_params)"
   ]
  },
  {
   "cell_type": "code",
   "execution_count": 17,
   "metadata": {
    "collapsed": false
   },
   "outputs": [
    {
     "data": {
      "text/plain": [
       "{'args': {'k1': ['v1', 'v3'], 'k2': 'v2'},\n",
       " 'headers': {'Accept': '*/*',\n",
       "  'Accept-Encoding': 'gzip, deflate',\n",
       "  'Connection': 'close',\n",
       "  'Host': 'httpbin.org',\n",
       "  'User-Agent': 'python-requests/2.18.4'},\n",
       " 'origin': '211.249.69.177',\n",
       " 'url': 'http://httpbin.org/get?k1=v1&k1=v3&k2=v2'}"
      ]
     },
     "execution_count": 17,
     "metadata": {},
     "output_type": "execute_result"
    }
   ],
   "source": [
    "response.json()"
   ]
  },
  {
   "cell_type": "code",
   "execution_count": 19,
   "metadata": {
    "collapsed": true
   },
   "outputs": [],
   "source": [
    "# 사전형인 경우 동일 key의 GET 인자 지정을 허용하지 않는다.\n",
    "\n",
    "get_params = dict([('k1', 'v1'), ('k1', 'v3'), ('k2', 'v2')])\n",
    "response = requests.get('http://httpbin.org/get', params=get_params)"
   ]
  },
  {
   "cell_type": "code",
   "execution_count": 21,
   "metadata": {
    "collapsed": false
   },
   "outputs": [
    {
     "data": {
      "text/plain": [
       "{'args': {'k1': 'v3', 'k2': 'v2'},\n",
       " 'headers': {'Accept': '*/*',\n",
       "  'Accept-Encoding': 'gzip, deflate',\n",
       "  'Connection': 'close',\n",
       "  'Host': 'httpbin.org',\n",
       "  'User-Agent': 'python-requests/2.18.4'},\n",
       " 'origin': '211.249.69.177',\n",
       " 'url': 'http://httpbin.org/get?k1=v3&k2=v2'}"
      ]
     },
     "execution_count": 21,
     "metadata": {},
     "output_type": "execute_result"
    }
   ],
   "source": [
    "# 사전형의 key 중복을 허용하지 않으므로 결과 값의 key값이 중복 제거 되어진다.\n",
    "response.json()"
   ]
  },
  {
   "cell_type": "code",
   "execution_count": 24,
   "metadata": {
    "collapsed": false
   },
   "outputs": [
    {
     "data": {
      "text/plain": [
       "200"
      ]
     },
     "execution_count": 24,
     "metadata": {},
     "output_type": "execute_result"
    }
   ],
   "source": [
    "# 상태코드 int형\n",
    "response.status_code"
   ]
  },
  {
   "cell_type": "code",
   "execution_count": 27,
   "metadata": {
    "collapsed": false
   },
   "outputs": [
    {
     "data": {
      "text/plain": [
       "True"
      ]
     },
     "execution_count": 27,
     "metadata": {},
     "output_type": "execute_result"
    }
   ],
   "source": [
    "# 상태코드 bool형\n",
    "response.ok"
   ]
  },
  {
   "cell_type": "code",
   "execution_count": 28,
   "metadata": {
    "collapsed": false
   },
   "outputs": [
    {
     "data": {
      "text/plain": [
       "requests.structures.CaseInsensitiveDict"
      ]
     },
     "execution_count": 28,
     "metadata": {},
     "output_type": "execute_result"
    }
   ],
   "source": [
    "# 응답헤더\n",
    "response.headers.__class__ # dict 타입이 아니라 대소문자를 가리지 않는 다는 타입이다."
   ]
  },
  {
   "cell_type": "code",
   "execution_count": 29,
   "metadata": {
    "collapsed": false
   },
   "outputs": [
    {
     "data": {
      "text/plain": [
       "'application/json'"
      ]
     },
     "execution_count": 29,
     "metadata": {},
     "output_type": "execute_result"
    }
   ],
   "source": [
    "response.headers['Content-TYPE']"
   ]
  },
  {
   "cell_type": "code",
   "execution_count": 30,
   "metadata": {
    "collapsed": false
   },
   "outputs": [
    {
     "name": "stdout",
     "output_type": "stream",
     "text": [
      "None\n"
     ]
    }
   ],
   "source": [
    "print(response.encoding)"
   ]
  },
  {
   "cell_type": "code",
   "execution_count": 36,
   "metadata": {
    "collapsed": false
   },
   "outputs": [
    {
     "name": "stdout",
     "output_type": "stream",
     "text": [
      "{\"args\":{\"k1\":\"v3\",\"k2\":\"v2\"},\"headers\":{\"Accept\":\"*/*\",\"Accept-Encoding\":\"gzip, deflate\",\"Connection\":\"close\",\"Host\":\"httpbin.org\",\"User-Agent\":\"python-requests/2.18.4\"},\"origin\":\"211.249.69.177\",\"url\":\"http://httpbin.org/get?k1=v3&k2=v2\"}\n",
      "\n",
      "{'k1': 'v3', 'k2': 'v2'}\n"
     ]
    }
   ],
   "source": [
    "# json 포맷의 응답일 경우\n",
    "print(response.text) # body에서 문자열 응답\n",
    "print(response.json()['args']) # Deserialize"
   ]
  },
  {
   "cell_type": "code",
   "execution_count": 43,
   "metadata": {
    "collapsed": false
   },
   "outputs": [
    {
     "data": {
      "text/plain": [
       "{'k1': 'v3', 'k2': 'v2'}"
      ]
     },
     "execution_count": 43,
     "metadata": {},
     "output_type": "execute_result"
    }
   ],
   "source": [
    "# 또 다른 방식이지만 위 방식이 더 간결해서 좋다.\n",
    "import json\n",
    "json.loads(response.text)['args']"
   ]
  },
  {
   "cell_type": "code",
   "execution_count": 48,
   "metadata": {
    "collapsed": false
   },
   "outputs": [
    {
     "data": {
      "text/plain": [
       "{'args': {},\n",
       " 'data': '',\n",
       " 'files': {},\n",
       " 'form': {'J1': 'V1', 'J2': 'V2'},\n",
       " 'headers': {'Accept': '*/*',\n",
       "  'Accept-Encoding': 'gzip, deflate',\n",
       "  'Connection': 'close',\n",
       "  'Content-Length': '11',\n",
       "  'Content-Type': 'application/x-www-form-urlencoded',\n",
       "  'Host': 'httpbin.org',\n",
       "  'User-Agent': 'python-requests/2.18.4'},\n",
       " 'json': None,\n",
       " 'origin': '211.249.69.177',\n",
       " 'url': 'http://httpbin.org/post'}"
      ]
     },
     "execution_count": 48,
     "metadata": {},
     "output_type": "execute_result"
    }
   ],
   "source": [
    "# POST 요청\n",
    "#data = {'J1':'V1', 'J2':'V2'}\n",
    "data = [('J1','V1'),('J2','V2')]\n",
    "response = requests.post('http://httpbin.org/post', data=data)\n",
    "response.json() # form 값에서 확인됨"
   ]
  },
  {
   "cell_type": "code",
   "execution_count": 51,
   "metadata": {
    "collapsed": false
   },
   "outputs": [
    {
     "data": {
      "text/plain": [
       "{'args': {},\n",
       " 'data': '{\"k1\": \"v1\", \"k2\": \"v2\", \"k3\": [1, 2, 3], \"name\": \"\\\\uc81c\\\\uc774\\\\ube44\"}',\n",
       " 'files': {},\n",
       " 'form': {},\n",
       " 'headers': {'Accept': '*/*',\n",
       "  'Accept-Encoding': 'gzip, deflate',\n",
       "  'Connection': 'close',\n",
       "  'Content-Length': '71',\n",
       "  'Host': 'httpbin.org',\n",
       "  'User-Agent': 'python-requests/2.18.4'},\n",
       " 'json': {'k1': 'v1', 'k2': 'v2', 'k3': [1, 2, 3], 'name': '제이비'},\n",
       " 'origin': '211.249.69.177',\n",
       " 'url': 'http://httpbin.org/post'}"
      ]
     },
     "execution_count": 51,
     "metadata": {},
     "output_type": "execute_result"
    }
   ],
   "source": [
    "# JSON 요청\n",
    "import json\n",
    "json_data = {'k1':'v1','k2':'v2','k3':[1,2,3], 'name':'제이비'}\n",
    "\n",
    "# json 포맷 문자열로 변환 후, data인자로 지정\n",
    "json_string = json.dumps(json_data)\n",
    "response = requests.post('http://httpbin.org/post', data=json_string)\n",
    "response.json()"
   ]
  },
  {
   "cell_type": "code",
   "execution_count": 53,
   "metadata": {
    "collapsed": false
   },
   "outputs": [
    {
     "data": {
      "text/plain": [
       "{'args': {},\n",
       " 'data': '\"{\\\\\"k1\\\\\": \\\\\"v1\\\\\", \\\\\"k2\\\\\": \\\\\"v2\\\\\", \\\\\"k3\\\\\": [1, 2, 3], \\\\\"name\\\\\": \\\\\"\\\\\\\\uc81c\\\\\\\\uc774\\\\\\\\ube44\\\\\"}\"',\n",
       " 'files': {},\n",
       " 'form': {},\n",
       " 'headers': {'Accept': '*/*',\n",
       "  'Accept-Encoding': 'gzip, deflate',\n",
       "  'Connection': 'close',\n",
       "  'Content-Length': '90',\n",
       "  'Content-Type': 'application/json',\n",
       "  'Host': 'httpbin.org',\n",
       "  'User-Agent': 'python-requests/2.18.4'},\n",
       " 'json': '{\"k1\": \"v1\", \"k2\": \"v2\", \"k3\": [1, 2, 3], \"name\": \"\\\\uc81c\\\\uc774\\\\ube44\"}',\n",
       " 'origin': '211.249.69.177',\n",
       " 'url': 'http://httpbin.org/post'}"
      ]
     },
     "execution_count": 53,
     "metadata": {},
     "output_type": "execute_result"
    }
   ],
   "source": [
    "# 요즘은 json인자 지원해준대\n",
    "response = requests.post('http://httpbin.org/post', json=json_string)\n",
    "response.json()"
   ]
  },
  {
   "cell_type": "code",
   "execution_count": 55,
   "metadata": {
    "collapsed": false
   },
   "outputs": [],
   "source": [
    "# 파일 업로드 요청\n",
    "files = {\n",
    "    'photo1':open('f1.jpg', 'rb'), # rb:read binery\n",
    "    'photo2':open('f2.jpg', 'rb'), \n",
    "    'photo3':('f3.jpg',open('f3.jpg', 'rb'), 'image/jpeg',{'Expires':'0'})\n",
    "}\n",
    "post_params = {'k1':'v1'}\n",
    "response = requests.post('http://httpbin.org/post',files=files, data=post_params)"
   ]
  },
  {
   "cell_type": "code",
   "execution_count": 56,
   "metadata": {
    "collapsed": false
   },
   "outputs": [
    {
     "data": {
      "text/plain": [
       "{'args': {},\n",
       " 'data': '',\n",
       " 'files': {'photo1': 'data:application/octet-stream;base64,/9j/4AAQSkZJRgABAQEAYABgAAD/4RCERXhpZgAATU0AKgAAAAgABAE7AAIAAAAGAAAISodpAAQAAAABAAAIUJydAAEAAAAMAAAQcOocAAcAAAgMAAAAPgAAAAAc6gAAAAgAAAAAAAAAAAAAAAAAAAAAAAAAAAAAAAAAAAAAAAAAAAAAAAAAAAAAAAAAAAAAAAAAAAAAAAAAAAAAAAAAAAAAAAAAAAAAAAAAAAAAAAAAAAAAAAAAAAAAAAAAAAAAAAAAAAAAAAAAAAAAAAAAAAAAAAAAAAAAAAAAAAAAAAAAAAAAAAAAAAAAAAAAAAAAAAAAAAAAAAAAAAAAAAAAAAAAAAAAAAAAAAAAAAAAAAAAAAAAAAAAAAAAAAAAAAAAAAAAAAAAAAAAAAAAAAAAAAAAAAAAAAAAAAAAAAAAAAAAAAAAAAAAAAAAAAAAAAAAAAAAAAAAAAAAAAAAAAAAAAAAAAAAAAAAAAAAAAAAAAAAAAAAAAAAAAAAAAAAAAAAAAAAAAAAAAAAAAAAAAAAAAAAAAAAAAAAAAAAAAAAAAAAAAAAAAAAAAAAAAAAAAAAAAAAAAAAAAAAAAAAAAAAAAAAAAAAAAAAAAAAAAAAAAAAAAAAAAAAAAAAAAAAAAAAAAAAAAAAAAAAAAAAAAAAAAAAAAAAAAAAAAAAAAAAAAAAAAAAAAAAAAAAAAAAAAAAAAAAAAAAAAAAAAAAAAAAAAAAAAAAAAAAAAAAAAAAAAAAAAAAAAAAAAAAAAAAAAAAAAAAAAAAAAAAAAAAAAAAAAAAAAAAAAAAAAAAAAAAAAAAAAAAAAAAAAAAAAAAAAAAAAAAAAAAAAAAAAAAAAAAAAAAAAAAAAAAAAAAAAAAAAAAAAAAAAAAAAAAAAAAAAAAAAAAAAAAAAAAAAAAAAAAAAAAAAAAAAAAAAAAAAAAAAAAAAAAAAAAAAAAAAAAAAAAAAAAAAAAAAAAAAAAAAAAAAAAAAAAAAAAAAAAAAAAAAAAAAAAAAAAAAAAAAAAAAAAAAAAAAAAAAAAAAAAAAAAAAAAAAAAAAAAAAAAAAAAAAAAAAAAAAAAAAAAAAAAAAAAAAAAAAAAAAAAAAAAAAAAAAAAAAAAAAAAAAAAAAAAAAAAAAAAAAAAAAAAAAAAAAAAAAAAAAAAAAAAAAAAAAAAAAAAAAAAAAAAAAAAAAAAAAAAAAAAAAAAAAAAAAAAAAAAAAAAAAAAAAAAAAAAAAAAAAAAAAAAAAAAAAAAAAAAAAAAAAAAAAAAAAAAAAAAAAAAAAAAAAAAAAAAAAAAAAAAAAAAAAAAAAAAAAAAAAAAAAAAAAAAAAAAAAAAAAAAAAAAAAAAAAAAAAAAAAAAAAAAAAAAAAAAAAAAAAAAAAAAAAAAAAAAAAAAAAAAAAAAAAAAAAAAAAAAAAAAAAAAAAAAAAAAAAAAAAAAAAAAAAAAAAAAAAAAAAAAAAAAAAAAAAAAAAAAAAAAAAAAAAAAAAAAAAAAAAAAAAAAAAAAAAAAAAAAAAAAAAAAAAAAAAAAAAAAAAAAAAAAAAAAAAAAAAAAAAAAAAAAAAAAAAAAAAAAAAAAAAAAAAAAAAAAAAAAAAAAAAAAAAAAAAAAAAAAAAAAAAAAAAAAAAAAAAAAAAAAAAAAAAAAAAAAAAAAAAAAAAAAAAAAAAAAAAAAAAAAAAAAAAAAAAAAAAAAAAAAAAAAAAAAAAAAAAAAAAAAAAAAAAAAAAAAAAAAAAAAAAAAAAAAAAAAAAAAAAAAAAAAAAAAAAAAAAAAAAAAAAAAAAAAAAAAAAAAAAAAAAAAAAAAAAAAAAAAAAAAAAAAAAAAAAAAAAAAAAAAAAAAAAAAAAAAAAAAAAAAAAAAAAAAAAAAAAAAAAAAAAAAAAAAAAAAAAAAAAAAAAAAAAAAAAAAAAAAAAAAAAAAAAAAAAAAAAAAAAAAAAAAAAAAAAAAAAAAAAAAAAAAAAAAAAAAAAAAAAAAAAAAAAAAAAAAAAAAAAAAAAAAAAAAAAAAAAAAAAAAAAAAAAAAAAAAAAAAAAAAAAAAAAAAAAAAAAAAAAAAAAAAAAAAAAAAAAAAAAAAAAAAAAAAAAAAAAAAAAAAAAAAAAAAAAAAAAAAAAAAAAAAAAAAAAAAAAAAAAAAAAAAAAAAAAAAAAAAAAAAAAAAAAAAAAAAAAAAAAAAAAAAAAAAAAAAAAAAAAAAAAAAAAAAAAAAAAAAAAAAAAAAAAAAAAAAAAAAAAAAAAAAAAAAAAAAAAAAAAAAAAAAAAAAAAAAAAAAAAAAAAAAAAAAAAAAAAAAAAAAAAAAAAAAAAAAAAAAAAAAAAAAAAAAAAAAAAAAAAAAAAAAAAAAAAAAAAAAAAAAAAAAAAAAAAAAAAAAAAAAAAAAAAAAAAAAAAAAAAAAAAAAAAAAAAAAAAAAAAAAAAAAAAAAAAAAAAAAAAAAAAAAAAAAAAAAAAAAAAAAAAAAAAAAAAAAAAAAAAAAAAAAAAAAAAAAAAAAAAAAAAAAAAAAAAAAAAAAAAAAAAAAAAAAAAAAAAAAAAAAAAAAAAAAAAAAAAAAAAAAAAAAAAAAAAAAAAAAAAAAAAAAAAAAAAAAAAAAAAAAAAAAAAAAAAAAAAAAAAAAAAAAAAAAAAAAAAAAAAAAAAAAAAAAAAAAAAAAAAAAAAAAAAAAAAAAAAAAAAAAAAAAAAAAAAAAAAAAAAAAAAAAAAAAAAAAAAAAAAAAAAAAAAAAAAAAAAAAAAAAAAAAAAAAAAAAAAAAAAAAAAAAAAAAAAAAAAAAAAAAAAAAAAAAAAAAAAAAAAAAAAAAAAAAAAAAAAAAAAAAAAAAAAAAAAAAAAAAAAAAAAAAAAAAAAAAAAAAAAAAAAAAAAAAAE5BVkVSAAAB6hwABwAACAwAAAhiAAAAABzqAAAACAAAAAAAAAAAAAAAAAAAAAAAAAAAAAAAAAAAAAAAAAAAAAAAAAAAAAAAAAAAAAAAAAAAAAAAAAAAAAAAAAAAAAAAAAAAAAAAAAAAAAAAAAAAAAAAAAAAAAAAAAAAAAAAAAAAAAAAAAAAAAAAAAAAAAAAAAAAAAAAAAAAAAAAAAAAAAAAAAAAAAAAAAAAAAAAAAAAAAAAAAAAAAAAAAAAAAAAAAAAAAAAAAAAAAAAAAAAAAAAAAAAAAAAAAAAAAAAAAAAAAAAAAAAAAAAAAAAAAAAAAAAAAAAAAAAAAAAAAAAAAAAAAAAAAAAAAAAAAAAAAAAAAAAAAAAAAAAAAAAAAAAAAAAAAAAAAAAAAAAAAAAAAAAAAAAAAAAAAAAAAAAAAAAAAAAAAAAAAAAAAAAAAAAAAAAAAAAAAAAAAAAAAAAAAAAAAAAAAAAAAAAAAAAAAAAAAAAAAAAAAAAAAAAAAAAAAAAAAAAAAAAAAAAAAAAAAAAAAAAAAAAAAAAAAAAAAAAAAAAAAAAAAAAAAAAAAAAAAAAAAAAAAAAAAAAAAAAAAAAAAAAAAAAAAAAAAAAAAAAAAAAAAAAAAAAAAAAAAAAAAAAAAAAAAAAAAAAAAAAAAAAAAAAAAAAAAAAAAAAAAAAAAAAAAAAAAAAAAAAAAAAAAAAAAAAAAAAAAAAAAAAAAAAAAAAAAAAAAAAAAAAAAAAAAAAAAAAAAAAAAAAAAAAAAAAAAAAAAAAAAAAAAAAAAAAAAAAAAAAAAAAAAAAAAAAAAAAAAAAAAAAAAAAAAAAAAAAAAAAAAAAAAAAAAAAAAAAAAAAAAAAAAAAAAAAAAAAAAAAAAAAAAAAAAAAAAAAAAAAAAAAAAAAAAAAAAAAAAAAAAAAAAAAAAAAAAAAAAAAAAAAAAAAAAAAAAAAAAAAAAAAAAAAAAAAAAAAAAAAAAAAAAAAAAAAAAAAAAAAAAAAAAAAAAAAAAAAAAAAAAAAAAAAAAAAAAAAAAAAAAAAAAAAAAAAAAAAAAAAAAAAAAAAAAAAAAAAAAAAAAAAAAAAAAAAAAAAAAAAAAAAAAAAAAAAAAAAAAAAAAAAAAAAAAAAAAAAAAAAAAAAAAAAAAAAAAAAAAAAAAAAAAAAAAAAAAAAAAAAAAAAAAAAAAAAAAAAAAAAAAAAAAAAAAAAAAAAAAAAAAAAAAAAAAAAAAAAAAAAAAAAAAAAAAAAAAAAAAAAAAAAAAAAAAAAAAAAAAAAAAAAAAAAAAAAAAAAAAAAAAAAAAAAAAAAAAAAAAAAAAAAAAAAAAAAAAAAAAAAAAAAAAAAAAAAAAAAAAAAAAAAAAAAAAAAAAAAAAAAAAAAAAAAAAAAAAAAAAAAAAAAAAAAAAAAAAAAAAAAAAAAAAAAAAAAAAAAAAAAAAAAAAAAAAAAAAAAAAAAAAAAAAAAAAAAAAAAAAAAAAAAAAAAAAAAAAAAAAAAAAAAAAAAAAAAAAAAAAAAAAAAAAAAAAAAAAAAAAAAAAAAAAAAAAAAAAAAAAAAAAAAAAAAAAAAAAAAAAAAAAAAAAAAAAAAAAAAAAAAAAAAAAAAAAAAAAAAAAAAAAAAAAAAAAAAAAAAAAAAAAAAAAAAAAAAAAAAAAAAAAAAAAAAAAAAAAAAAAAAAAAAAAAAAAAAAAAAAAAAAAAAAAAAAAAAAAAAAAAAAAAAAAAAAAAAAAAAAAAAAAAAAAAAAAAAAAAAAAAAAAAAAAAAAAAAAAAAAAAAAAAAAAAAAAAAAAAAAAAAAAAAAAAAAAAAAAAAAAAAAAAAAAAAAAAAAAAAAAAAAAAAAAAAAAAAAAAAAAAAAAAAAAAAAAAAAAAAAAAAAAAAAAAAAAAAAAAAAAAAAAAAAAAAAAAAAAAAAAAAAAAAAAAAAAAAAAAAAAAAAAAAAAAAAAAAAAAAAAAAAAAAAAAAAAAAAAAAAAAAAAAAAAAAAAAAAAAAAAAAAAAAAAAAAAAAAAAAAAAAAAAAAAAAAAAAAAAAAAAAAAAAAAAAAAAAAAAAAAAAAAAAAAAAAAAAAAAAAAAAAAAAAAAAAAAAAAAAAAAAAAAAAAAAAAAAAAAAAAAAAAAAAAAAAAAAAAAAAAAAAAAAAAAAAAAAAAAAAAAAAAAAAAAAAAAAAAAAAAAAAAAAAAAAAAAAAAAAAAAAAAAAAAAAAAAAAAAAAAAAAAAAAAAAAAAAAAAAAAAAAAAAAAAAAAAAAAAAAAAAAAAAAAAAAAAAAAAAAAAAAAAAAAAAAAAAAAAAAAAAAAAAAAAAAAAAAAAAAAAAAAAAAAAAAAAAAAAAAAAAAAAAAAAAAAAAAAAAAAAAAAAAAAAAAAAAAAAAAAAAAAAAAAAAAAAAAAAAAAAAAAAAAAAAAAAAAAAAAAAAAAAAAAAAAAAAAAAAAAAAAAAAAAAAAAAAAAAAAAAAAAAAAAAAAAAAAAAAAAAAAAAAAAAAAAAAAAAAAAAAAAAAAAAAAAAAAAAAAAAAAAAAAAAAAAAAAAAAAAAAAAAAAAAAAAAAAAAAAAAAAAAAAAAAAAAAAAAAAAAAAAAAAAAAAAAAAAAAAAAAAAAAAAAAAAAAAAAAAAAAAAAAAAAAAAAAAAAAAAAAAAAAAAAAAAAAAAAAAAAAAAAAAAAAAAAAAAAAAAAAAAAAAAAAAAAAAAAAAAAAAAAAAAAAAAAAAAAAAAAAAAAAAAAAAAAAAAAAAAAAAAAAAAAAAAAAAAAAAAAAAAAAAAAAAAAAAAAAAAAAAABOAEEAVgBFAFIAAAD/4QpeaHR0cDovL25zLmFkb2JlLmNvbS94YXAvMS4wLwA8P3hwYWNrZXQgYmVnaW49J++7vycgaWQ9J1c1TTBNcENlaGlIenJlU3pOVGN6a2M5ZCc/Pg0KPHg6eG1wbWV0YSB4bWxuczp4PSJhZG9iZTpuczptZXRhLyI+PHJkZjpSREYgeG1sbnM6cmRmPSJodHRwOi8vd3d3LnczLm9yZy8xOTk5LzAyLzIyLXJkZi1zeW50YXgtbnMjIj48cmRmOkRlc2NyaXB0aW9uIHJkZjphYm91dD0idXVpZDpmYWY1YmRkNS1iYTNkLTExZGEtYWQzMS1kMzNkNzUxODJmMWIiIHhtbG5zOmRjPSJodHRwOi8vcHVybC5vcmcvZGMvZWxlbWVudHMvMS4xLyIvPjxyZGY6RGVzY3JpcHRpb24gcmRmOmFib3V0PSJ1dWlkOmZhZjViZGQ1LWJhM2QtMTFkYS1hZDMxLWQzM2Q3NTE4MmYxYiIgeG1sbnM6ZGM9Imh0dHA6Ly9wdXJsLm9yZy9kYy9lbGVtZW50cy8xLjEvIj48ZGM6Y3JlYXRvcj48cmRmOlNlcSB4bWxuczpyZGY9Imh0dHA6Ly93d3cudzMub3JnLzE5OTkvMDIvMjItcmRmLXN5bnRheC1ucyMiPjxyZGY6bGk+TkFWRVI8L3JkZjpsaT48L3JkZjpTZXE+DQoJCQk8L2RjOmNyZWF0b3I+PC9yZGY6RGVzY3JpcHRpb24+PC9yZGY6UkRGPjwveDp4bXBtZXRhPg0KICAgICAgICAgICAgICAgICAgICAgICAgICAgICAgICAgICAgICAgICAgICAgICAgICAgICAgICAgICAgICAgICAgICAgICAgICAgICAgICAgICAgICAgICAgICAgICAgICAgIAogICAgICAgICAgICAgICAgICAgICAgICAgICAgICAgICAgICAgICAgICAgICAgICAgICAgICAgICAgICAgICAgICAgICAgICAgICAgICAgICAgICAgICAgICAgICAgICAgICAgCiAgICAgICAgICAgICAgICAgICAgICAgICAgICAgICAgICAgICAgICAgICAgICAgICAgICAgICAgICAgICAgICAgICAgICAgICAgICAgICAgICAgICAgICAgICAgICAgICAgICAKICAgICAgICAgICAgICAgICAgICAgICAgICAgICAgICAgICAgICAgICAgICAgICAgICAgICAgICAgICAgICAgICAgICAgICAgICAgICAgICAgICAgICAgICAgICAgICAgICAgIAogICAgICAgICAgICAgICAgICAgICAgICAgICAgICAgICAgICAgICAgICAgICAgICAgICAgICAgICAgICAgICAgICAgICAgICAgICAgICAgICAgICAgICAgICAgICAgICAgICAgCiAgICAgICAgICAgICAgICAgICAgICAgICAgICAgICAgICAgICAgICAgICAgICAgICAgICAgICAgICAgICAgICAgICAgICAgICAgICAgICAgICAgICAgICAgICAgICAgICAgICAKICAgICAgICAgICAgICAgICAgICAgICAgICAgICAgICAgICAgICAgICAgICAgICAgICAgICAgICAgICAgICAgICAgICAgICAgICAgICAgICAgICAgICAgICAgICAgICAgICAgIAogICAgICAgICAgICAgICAgICAgICAgICAgICAgICAgICAgICAgICAgICAgICAgICAgICAgICAgICAgICAgICAgICAgICAgICAgICAgICAgICAgICAgICAgICAgICAgICAgICAgCiAgICAgICAgICAgICAgICAgICAgICAgICAgICAgICAgICAgICAgICAgICAgICAgICAgICAgICAgICAgICAgICAgICAgICAgICAgICAgICAgICAgICAgICAgICAgICAgICAgICAKICAgICAgICAgICAgICAgICAgICAgICAgICAgICAgICAgICAgICAgICAgICAgICAgICAgICAgICAgICAgICAgICAgICAgICAgICAgICAgICAgICAgICAgICAgICAgICAgICAgIAogICAgICAgICAgICAgICAgICAgICAgICAgICAgICAgICAgICAgICAgICAgICAgICAgICAgICAgICAgICAgICAgICAgICAgICAgICAgICAgICAgICAgICAgICAgICAgICAgICAgCiAgICAgICAgICAgICAgICAgICAgICAgICAgICAgICAgICAgICAgICAgICAgICAgICAgICAgICAgICAgICAgICAgICAgICAgICAgICAgICAgICAgICAgICAgICAgICAgICAgICAKICAgICAgICAgICAgICAgICAgICAgICAgICAgICAgICAgICAgICAgICAgICAgICAgICAgICAgICAgICAgICAgICAgICAgICAgICAgICAgICAgICAgICAgICAgICAgICAgICAgIAogICAgICAgICAgICAgICAgICAgICAgICAgICAgICAgICAgICAgICAgICAgICAgICAgICAgICAgICAgICAgICAgICAgICAgICAgICAgICAgICAgICAgICAgICAgICAgICAgICAgCiAgICAgICAgICAgICAgICAgICAgICAgICAgICAgICAgICAgICAgICAgICAgICAgICAgICAgICAgICAgICAgICAgICAgICAgICAgICAgICAgICAgICAgICAgICAgICAgICAgICAKICAgICAgICAgICAgICAgICAgICAgICAgICAgICAgICAgICAgICAgICAgICAgICAgICAgICAgICAgICAgICAgICAgICAgICAgICAgICAgICAgICAgICAgICAgICAgICAgICAgIAogICAgICAgICAgICAgICAgICAgICAgICAgICAgICAgICAgICAgICAgICAgICAgICAgICAgICAgICAgICAgICAgICAgICAgICAgICAgICAgICAgICAgICAgICAgICAgICAgICAgCiAgICAgICAgICAgICAgICAgICAgICAgICAgICAgICAgICAgICAgICAgICAgICAgICAgICAgICAgICAgICAgICAgICAgICAgICAgICAgICAgICAgICAgICAgICAgICAgICAgICAKICAgICAgICAgICAgICAgICAgICAgICAgICAgICAgICAgICAgICAgICAgICAgICAgICAgICAgICAgICAgICAgICAgICAgICAgICAgICAgICAgICAgICAgICAgICAgICAgICAgIAogICAgICAgICAgICAgICAgICAgICAgICAgICAgICAgICAgICAgICAgICAgICAgICAgICAgICAgICAgICAgICAgICAgICAgICAgICAgICAgICAgICAgICAgICAgICAgICAgICAgCiAgICAgICAgICAgICAgICAgICAgICAgICAgICA8P3hwYWNrZXQgZW5kPSd3Jz8+/9sAQwAHBQUGBQQHBgUGCAcHCAoRCwoJCQoVDxAMERgVGhkYFRgXGx4nIRsdJR0XGCIuIiUoKSssKxogLzMvKjInKisq/9sAQwEHCAgKCQoUCwsUKhwYHCoqKioqKioqKioqKioqKioqKioqKioqKioqKioqKioqKioqKioqKioqKioqKioqKioq/8AAEQgAnQJ8AwEiAAIRAQMRAf/EAB8AAAEFAQEBAQEBAAAAAAAAAAABAgMEBQYHCAkKC//EALUQAAIBAwMCBAMFBQQEAAABfQECAwAEEQUSITFBBhNRYQcicRQygZGhCCNCscEVUtHwJDNicoIJChYXGBkaJSYnKCkqNDU2Nzg5OkNERUZHSElKU1RVVldYWVpjZGVmZ2hpanN0dXZ3eHl6g4SFhoeIiYqSk5SVlpeYmZqio6Slpqeoqaqys7S1tre4ubrCw8TFxsfIycrS09TV1tfY2drh4uPk5ebn6Onq8fLz9PX29/j5+v/EAB8BAAMBAQEBAQEBAQEAAAAAAAABAgMEBQYHCAkKC//EALURAAIBAgQEAwQHBQQEAAECdwABAgMRBAUhMQYSQVEHYXETIjKBCBRCkaGxwQkjM1LwFWJy0QoWJDThJfEXGBkaJicoKSo1Njc4OTpDREVGR0hJSlNUVVZXWFlaY2RlZmdoaWpzdHV2d3h5eoKDhIWGh4iJipKTlJWWl5iZmqKjpKWmp6ipqrKztLW2t7i5usLDxMXGx8jJytLT1NXW19jZ2uLj5OXm5+jp6vLz9PX29/j5+v/aAAwDAQACEQMRAD8A+ib7m1IPQugPuCwqD7Jbf8+8X/fAqe+/49h/10j/APQxUNzdQWdu095PHBCmN0krhVXJwMk8dTQAn2S2/wCfeL/vgUfZLb/n3i/74Fcf4Y1698QaxGXkto05vZIY7/zGVWUxomwLjChQzKT951bj7ldpLLHBC8szrHHGpZ3c4Cgckk9hTatoRCamroj+yW3/AD7xf98Cj7Jbf8+8X/fArj7JHtonv5pNRdrS1FwbWS/n+eeVt8duct95AFTBBLeapK9Ab93ewaV4PtYVvNkreWpM7C0muAJF89gJSpDMC5zkHLZzkg0+UlVNLs6H7Jbf8+8X/fAo+yW3/PvF/wB8CuR01bXUpp7fSnsIbW7lhL2FrLETDDHlpHkVHKsZDiM4/hK5zgiu0pNWKhLmVyH7Jbf8+8X/AHwKPslt/wA+8X/fArD1eKa/1O4hGmx6nDHAiQCUxvDb3B3EmVCwb7piOQCQpOPvHMnh6xvYriebUbyO+8hEs7eZV5ZUH7xzl2wxf5W6ZMQz2wW0FzvmtY2Pslt/z7xf98Cj7Jbf8+8X/fArhzNJdzLJNeX9ncXKmb7IbLUmMfTco2ygEKWAyoA6cDIFbIins/B10YLi/uJbltok8qfzIA5EZZEctIAo+fGSSQSCARh8pKqX6G/9ktv+feL/AL4FH2S2/wCfeL/vgVz3/Em/6mL/AMqNdLFGIYUjQsVRQoLsWJA9SeSfc80mjSMrkf2S2/594v8AvgUfZLb/AJ94v++BWLrV6V1y3srtr+Kye2eX/QkdzOwZQQTGDIgXKnIwG34J4wxpH7/UVn0ea7/s5VkjuftzTOZJAcAIJTuUqQ244wc45I+QtoTz62Nr7Jbf8+8X/fAo+yW3/PvF/wB8CuU122Osyi7WO9ltIcjbPp0Z2MV4VEkhaXBYKWcBsZGARuKa3heAjTnupFUNMwSMLghYowI02sFUFDtMgwqj94cDnJdtLgql5Wsav2S2/wCfeL/vgUfZLb/n3i/74FTUVJoQ/ZLb/n3i/wC+BR9ktv8An3i/74FTUUAQ/ZLb/n3i/wC+BR9ktv8An3i/74FTUUAQ/ZLb/n3i/wC+BR9ktv8An3i/74FTUUAQ/ZLb/n3i/wC+BR9ktv8An3i/74FTUUAQ/ZLb/n3i/wC+BR9ktv8An3i/74FTUUAQ/ZLb/n3i/wC+BR9ktv8An3i/74FTUUAQ/ZLb/n3i/wC+BR9ktv8An3i/74FTUUAQ/ZLb/n3i/wC+BR9ktv8An3i/74FTUUAQ/ZLb/n3i/wC+BR9ktv8An3i/74FTUUAQ/ZLb/n3i/wC+BR9ktv8An3i/74FTUUAQ/ZLb/n3i/wC+BR9ktv8An3i/74FTUUAQ/ZLb/n3i/wC+BR9ktv8An3i/74FTUUAQ/ZLb/n3i/wC+BR9ktv8An3i/74FTUUAQ/ZLb/n3i/wC+BR9ktv8An3i/74FTUUAQ/ZLb/n3i/wC+BR9ktv8An3i/74FTUUAQ/ZLb/n3i/wC+BR9ktv8An3i/74FTUUAQ/ZLb/n3i/wC+BR9ktv8An3i/74FTUUAQ/ZLb/n3i/wC+BR9ktv8An3i/74FTUUAQ/ZLb/n3i/wC+BR9ktv8An3i/74FTUUAQ/ZLb/n3i/wC+BR9ktv8An3i/74FTUUAQ/ZLb/n3i/wC+BR9ktv8An3i/74FTUUAQ/ZLb/n3i/wC+BR9ktv8An3i/74FTUUAQ/ZLb/n3i/wC+BR9ktv8An3i/74FTUUAQ/ZLb/n3i/wC+BR9ktv8An3i/74FTUUAQ/ZLb/n3i/wC+BR9ktv8An3i/74FTUUAQ/ZLb/n3i/wC+BR9ktv8An3i/74FTUUAQ/ZLb/n3i/wC+BR9ktv8An3i/74FTUUAQ/ZLb/n3i/wC+BR9ktv8An3i/74FTUUAQ/ZLb/n3i/wC+BR9ktv8An3i/74FTUUAQ/ZLb/n3i/wC+BR9ktv8An3i/74FTUUALff8AHsP+ukf/AKGKr31nHf2MtpOWEUy7JApwWU/eX2BGQcc4PBB5qxff8ew/66R/+hiorlp1tZWtI45bgITFHLIUVmxwCwDFQT1IBx6HpQG4y2s47Vrh0LM9xKZZGY8k4CjpxgKqqPYc5OSa+raWdWtHtWvbm2hkRo5VgEf7xWGCCWViOM9Mda4fR7/UU+A1/rmsm4F3daNJqLzWuqSPLIWtQ5dGdMW7E5IRFKIcbc9K6jxncz2uhW0ltNJC7atpsZaNipKtewKy5HYqSCO4JFArJqxInhmNLrz5L+7uHkuVnuPOfiXYo2Dam1VIZI23BcnbgnBNT6zpl5qXki0v/sqJuLpiT5ycYO6ORGGOeMkHdyOBWF4o8fQeH9eGkrLokFwtsly7a1q4sFZXZ1URny3LkGJt3AxlOuTiOw8fXOuXEX/CP6TbzxvZw332a81AW97LDJGkm+GHYyuo8wJuaRF8xXUkBdxd2TyRtY3NI0W5067aa6u47rKFFJWZnXkHhpJnwDjkADOFz0FbNFcV4f8Aiho/iLXLfSrOHbNcbtp/tTT5sbVLH5Irl3PA7KfU4GSC9yoxUVZGnd+C7K91C5vLi4keW4k3t5ltbSY4AABeIkAAAYz+pJrRh0dLPSYbDTrqaySJi2+FY8sSSW4ZCoBJJwAAOgwOKsahfxaZYyXdylw8ceNy21tJPIckDhI1Zj17A4HPQVi/D/T47DwHo58q3F3dWcFxezwMj/abhol8yZpFJEjMRkvk7uuTRdkqEU7otNoE7Xcd02u6iZo0aNG2W/CsVLDHlY6ov5Van0+5l8vy9YvYNiBW8tITvI/iO6M8n2wPYVfoouPlRnRaZdxzI765fyqrAlHS3ww9DiIHB9iDWjRRSGlYxm0CdruO6bXdRM0aNGjbLfhWKlhjysdUX8qtaVpZ0uKSMXtzdLJI0mJxH8rMzMxG1V6liec+2Kv0U7iUUnc5g+EpWeRriTSb53kZjPf6UJZmBYkBmEgBwCAMAAAAACugsbOPT9OtrOEs0dvEsSFzkkKABn34qeihtsUYRjsFFFFIsKKKKACiiigAooooAKKKKACiiigAooooAKKKKACiiigAooooAKKKKACiiigAooooAKKKKACiiigAooooAKKKKACiiigAooooAKKKKACiiigAooooAKKKKACiiigAooooAKKKKACiiigAooooAKKKKACiiigAooooAW+/49h/10j/APQxSUt9/wAew/66R/8AoYpKAOc/4RL/AItd/wAId9t/5g39l/a/K/6Y+V5mzP47c+2e9aOu6T/bWnRWvneR5d5a3W7Zuz5NxHNtxkdfL257ZzzjFaVFAGBqOiap/b0uraBqdnZ3FzbRW1wt7YtcqyxNIyFAssZU5mkzktn5cYwc0tc8I6nrUKWc+t281kNjeZd6asl5BKE2Ga3mRkWKTqyt5bFXZiPlwg6yqzpdnVIJI5UFmsMiyxkfM0hZNhHHQASZ5/iHB7A0rlmise18SW11cMn2a6hgFw9p9qljCxGZZCmzOc8kcNjaSQud/wAtUNA8UvLoelTa7bXFobq0RzfXBhEUziLzGPyOSoKq7fMqgAdjgVPOjb6vUs3bb/g/5HT1i+EdMvdD8L2Wj6gLc/2bDHZwTQSs3nxRoqrIwKjYzYJKAsB/eaoNU8UNa6DqV1b2NxHd21pJcwQXSBDMij/WAbh8oJBZSQ6jGVBZQdJ9VEGnx3F1aXEE0rbI7NijTO/OFG1iuSATndgDJYgAkHMiXRmkm15F+isHU9YmfSre406T7NImo2tvdQzRgyIHmRHjPOFOHB3fMCpyvDK1at0l29xZm1lRIkmLXKsOXj8twAOOu8oe3APPYnMJ02ld+f4Fmiqzz3K6pBAlpvtHhkeW680Dy3VkCJs6ncGc5HA8vB+8Krf27bfbvJ2S+R5nkfbMDyfOzjyt2c5zxnG3d8m7f8tNtLcycktzSorAtPGGn3GmpqFxDd2NnLbG5hmuotolUJvcKAScqATggbgCyblBNFx4qWzXbfaRqFtO+3yLdzCzT5lSL5SshUYaWPO4r97jODiPaQte5n7aFr3/AK/rbub9FcxrniKf/hFrt9PWWw1E3cGm/vlRms5riSKNJCAWR9onSTaCQfukg5xtTWlxDptvbaXMUaF4F33EjSM0Suu8Fm3MzFAwyckk5znmrvdXRrG0rWLtFcZ4wvru11C1t7GK5Y3c/ltJbeVvQCJnwvmHbk7e4IwG6HbTZbi5TxPa24lX7LLZzSGMJzvV4hkt6Yc8cd854xqop/h+Jr7J2Tutbv7jtaK5yss6mtrFrVzcPJLFYOWKCMAoogRyq8/N1JyccnHQA1TppbsiMXPb+uh29FcUmt2wVzdJNaFV3os8eGlQkAMqjJJJIG3G8FlBUFhm5pmpXOpWur2OnxTWGqRWqtGbpF2xu4kEZyNwYApk4yO3UECJRjFXuWqM+q0OpoooqDIKKrOl2dUgkjlQWawyLLGR8zSFk2EcdABJnn+IcHtWg1pLnWbjToLO6c2sgjnn2qIoyY1kXksC2QwGFBIPUAEEq5ag2rr1NKiue8L+IW1LR9LN/HcR3F1aRstxNGES6k2AvsA6EHJwQu4Asu5QSNSG0uJtNuLbVJi7TPOu+3kaNliZ22AMu1lYIVGRggjOc80lJPYqpSlTbUuhdorF8I6hc6j4ahfUJfPu7aaeynn2hftD28zwNLtAwu8xl9o4XdjJxmtqqMgorL8Qawmi6Z53WeeQQWy+WzhpWztBC844ycc4Bxk4BfouqHV7aa7RGW2aXFsXieNnj2rhjuHIJyQRxtI75AdtLk8y5uXqaNFVbnUrS0u7e1uJds9znyYwpJfBUHGB23An0GT0BIoHxFaReI5dNuJ40A8qKMkHPnMGYoT0GV2Fc43EsASQQCzByit2bNFNJk85QFUx7TuYtyDxgAY5HXnPGBwc8VYNXsblbp4rhSlozLO7AqsZUkMCx4yNpJ9sHoQSh3RcoqhHrVjJbyzb5IxDjeksDxyfMcLhGAY7jwMDkggZPFH9tWP2T7Rvkx5nl+X5D+bvxnb5eN+dvzYx935unNOzFzR7l+is7RdUGs2015blXsnlxayqpUyIFUEkHkHfvHQcAfU19S8RWml61Da3k8cUJgMkzMDlCzqkZJ6BSd4LHgELkjIyWYc8bX6GzRUEtwFvoLZZVWSRXkKMhJdFwDg9AQzp1zxnjuKsWv6dPfLaQzs8rSvB8sL7RIm7chbG0MAhOCc4wehGUPmS3NGiqdnq1nfTGO2kZm271LRMgkX+8hIAdeR8y5HI9RTLfW9Pu9PS+t7jfbSSJGkoRsMzlVUDjnlgD6HIOCDh2YuZdy/RUUdzFLcSwxtueHHmAA4UkZAz0zjBx1AIPcZlpFBRRRQAUUUUAFFFFABRRRQAUUUUAFFFFABRRRQAUUUUAFFFFABRRRQAUUUUAFFFFABRRRQAUUUUAFFFFABRRRQAt9/x7D/rpH/6GKSlvv8Aj2H/AF0j/wDQxSUAFFFFABRRVZ3uxqkEccSGzaGQyyE/MsgZNgHPQgyZ4/hHI7g0rmDYaNqkkLWWoC3isRqct6rIx84gXTTRpjlcEhWLZzg7doPz0S+FZbvwtoej3cqBbOHybpomOSptJIDsJHXMgIyOn5Vq2viDTL2+a0trnfKsjwn92wXzEJDR7iNu8bSduc7Ruxt5qn4d8UQazpunNOJYbu6t0kIe0lijdym5ljd12t3IAJJAJ5AJrK0Njtc8RrK1ra7d76/mMvNCvtZguxqs1vDK9hPYQtbBmUrKF3SsGxg5RcICduD87ZG25dWd9fWlncyR28Go2UxnjiWZpIWba6bS+0HBRzzt+UkHDAYMN74qsLfQdR1O0L3YsYTKY1jcGQYO1l+XmNiDiQArgMc4Bxf/ALVtRpf9oSGWKD0lgeNyd20Dy2AbJOABjJJGM5FP3e5EnWSV49bLT718/wDhjNk0O5m0+Yu8Qu7vUba+nAJ8tPLeHKKcZOEhAyQMtk4UHA3qypry+1BLZtBkt0hkV2kuriFpAjKQvlmPcjBiS2cn5TGQRk8M07UdQv7HTriOGJ0luJI7iVeFaFRIFmQE9HZY2HLfK/U/epqyehMlOUbt7fh/Vi+9nv1SC9+0XC+TDJD5CviJ97IdzL3ZfLwp7B39ayf7Cud32HfF/Zn237f5mT52/wA7z/LxjbjzOd+c7fl25+etZ7zZqkFl9nuG86GSbz1TMSbGQbWbszeZlR3CP6Uz+1rL+1P7P87/AEnpjY23dt3bN+Nu/b82zO7b82Mc0SUXucc1F/Ecva+FtV1LwfYaRrT29oLSw8mN4Mu/mPbtD869AEWRhwx3nDZQDaZo/C0rYMGh6DpDLPbuWsss8ipcRysC4jTaMRnjB3EjldvOzY+J9H1KAz2l8hgEP2jzpFaNGjAG5gzAAhcgNj7hOGweKjbxVpSQvJM13Ds24Sawnjkfc6oNiMgZ/mdQdoOCy5xkVjyUrbnOoUbb/iv6/rUp6t4cu73TdcS3khF1c30OoWHmMdglgSBohLgZ2mWAbgvO08EHp0NtK89rFLLBJbvIgZoZSpaMkZKnaSuR0OCR6E1iaz4lWDwvcX2kYe7Msdnbx3UToI7maRIovNQ7XVd0iM3GdhyAcjOlMt9aabbx2jG9uEeCOSS42hpE3qJHO3au7ZubgAZ6DtW6slodUEnpHqYuu2klzrVlLGVC2tz5rgnkgwunHvlx+GarS2kj65a3gK+XDbTRMCeSXaIjHt8h/StLxNqq6X9iiihzcX0xiWb7DJciMKjOSUj5Y/LgDIPJbkKaj1ibUrGO9vYYLGO1tMeVbyW5eS9O1SAjhxsLM3lgFWORnnIFa+1ilax1RhUfK9rppfl+bIV8/wC1ybvL+z7F8vGd+/Lbs9sY2Y/4F7ViTWF5daD4gxbNFPqSyGG3d13g+QsYDEEqCShPUjBGccgd/wDZoP8AnjH/AN8Cs1b21hXWJ737Mtvp0h3NHExMaCFJDu45PzE/LkYK981UqkWtSaUpp3gtdPzX62OUvNMvb0G5v0jknt02QJaybS37xHMnzjAbMalUOVBGGZg2RqeDbfUTqOpX+qKyPPFBEqMiJjYZTwqu+F+cdWJzu6DArattT0e7gnmhkhEVuu+SSRPLUR4JEgLAZjIBw4ypwcE4NQLrMF5Y6inh1Vl1O2t/MFrNC0JDsG8tXVgpXJU8HBwQehBOcpQeprzVXB03Gy9NtvuLupy6hHHbLpMEcsslzEsryn5Iod2ZGPIOdgZVxn52TI27iLtFFI4wqhp9jLaX2qzSMhW8u1mjCk5CiCKPn3zGfwxUzvdjVII44kNm0MhlkJ+ZZAybAOehBkzx/COR3hTWrCXVpNMileS7hbbLGkLsIiUDjewGFBU8EkAnIGSCAnbqaRU7Pl1utfS5laJoepW9no1rq72pTR418p7UsTM4hMXzBh8oVXYcEljhvkxtPQXMrwWsssUElw8aFlhiKhpCBkKNxC5PQZIHqRWR4a8SW+vaXZSeYn2ua0SaRURlQsVG/YTwwVjtOCdpwGwavQrfXem3Ed2xsrh3njjkt9paNN7CNxu3Lu2bW5BGeo7VMbW0NK/tHN+00a/4Jk2Gn6voPgZoLKK3utck82dl3f6OLueVpHPJVvJWSRjj7+xcDc3Xo6yfDGqz6x4egub1Y0vI3ltrsRAiPz4ZGilKZJOwvGxXPO3GcHIrWqznMHXdBn1e7E0VxJAYoCkLJdSpslY483apAyilsf395BIABrXsbKDTrGK0tFZYIV2xqzs5UemWJOB29BxU9FO7JUUncpxWcn9sz3sxUqYkhgXOSgBLM3sWJAIHaNTnsKFjpN2LqOS/8kCG5kuw0Tl3kkdWXDEqPlRXKDqSFU/KBtO3RRcOVETLKiTNE3mu2WjSRgqg7QAuQMgZGcnJ5PsKybrRJj4Zt9OgkWeWFoncvI0IuGVgzMzLllYtl9wOd2M5GQduii4OKe5zEnhq5jhSaA+fdSTq86zX8w2RqjhY45iGdcF85GC2X6BtoisdB1nTLK0a2j06W8T7VJMJJpPL86VwUkyVLOVXK5JDYYjdzXWUU+Zkeyj0KekadHpGjWmnxbStvEsZZU2hyBy2PUnJPuaoNpN3cajO1z5It5rmKcurlpFERUxxDKgBdy7yc8F3UDnfW3RSuXyqyRQ+yTjU7q+xHI3kLDbRs5AGMsxLYO3cSoOAeI1PPQZlz4bnl0yOzE0cggsXiBkyBcTvjc7jkrkBgWBLETPgg8noqKLicE9znYvDtytvdTCeSG+nga2iJvppltUYjcys/JbgN0X7qrxyxs6vC01tBpWmReVKskEqMYG8iFI5FbkjAP3MBAc8joMsNmii4citZEFjZx2FjFbRFmWNcF3OWc9SzHuxOST3JJqeiikXsFFFFABRRRQAUUUUAFFFFABRRRQAUUUUAFFFFABRRRQAUUUUAFFFFABRRRQAUUUUAFFFFABRRRQAUUUUAFFFFAC33/HsP+ukf/oYpKW+/wCPYf8AXSP/ANDFJQAUUUUAFFFVnuZU1SC1W2dopYZJGnGdqMrIAp46sHYjn+A9ewNJvY5uws9Ru7NtNmsHtoV1eW8F27jBjS9aVRs4bcxUY427W3bifkplx4avb/wX4f0iVfIkht/IumyreRmylhJxn5sM4GAf05rp4tSsZ7s2sN5byXAVnMKSqXCqxRjjOcBgVPoRjrVDw/4n03xDY20lpeWrXUtuk8tpFcLI8OQMggc8E4yQOay5Y7Nnb7atrKMbJO/zd9f600KGp6XqPiCC8M1slhL/AGZdWEaySh1kkmCZcFekYMYwSAx3HKrgbr97HdX1vp2oR2UsU9jcG4+xSsgdx5ckZXcrFQcSFhzgkAErkkTX3iDTbDR7/Unu4pYLDes/lSKSrr1j64D5IG0kHJA71Zi1Kxn0838N5byWYVnNykqmMKudx3ZxgYOfTFVZX3M3Opyr3dFp167r5/f2ObuLPU1uJJJ9KuLqy1OZ7m7s7eSLehWOGOOJy7qGUqjM4UkZwuWXO/p7SeS4tUlmtZbR2zmGYoWXnHOxmX34J61Tu9SuW+yjRbWK++0xtMszzmOAINuP3iq/J3gqMYIDHPHLLTWZbuCxdLJyZ7uW1uNrFlgaMShmzjld8W0E7c7geDxSVkwqc84JtLT/AIPn5dr6Fx4LltUgnS72WiQyJLa+UD5jsyFH39RtCuMDg+Zk/dFYf9k3vl/2T5P+jf2j/aH27eu3b9p+0eXszu37vl/u7fm3Z+Stx9Qto9Ug055cXdxDJPFHtPzJGyK5zjAwZU4Jyc8dDilaarPf+JtQs7dY/sOmokU8pBLPcuBJsHIwEjaNicEN5wAIKMDUoqRxSgpbnMQaJq+u+BdM0q4sv7Oks9OKiSd8iR3tHhVcD5lx5hL7gCpXaA4O4WX0OW6kimttG1O3lintz5mpamZ22C6hkcIvmyDG2IknKn5VADZOOrtbmWe4vI5LZ4Vt5hHG7ZxMpjRtw46ZYr35U/QY9j4rj1W3vp9JS3vlgmWCFLe5DyMxkMe+RVU+XHkbgwLZTLY4xWHsoLRsUcC5Lvt267FPWtE1C50vX2tbfzbg6nbalZw71H2o2620gj3E4Te8BTcfu53YI69TbTpdWsVxEJFSVA6iWNo2AIyMqwDKfUEAjuKo6bqVzcX1zY6jaxW91BHHMRBOZUKOXC/MVU5zG2RjGMcnJAs3901nbrKiJIWmiiw8ojADyKhOT3AbIHUkYHJFbxslobeycJcnX/PUrapaTXGo6NLCm5La9aWU5A2qbeZM+/zOo49aoTzagniCea40S9vordgLFreSARqpjG58PIp8zcXXJHCjAxubdsT6lY2s6Q3N5bwyuyIsckqqzM5IQAE8lirY9dpx0outSsbF0S9vLe2aRXdBNKqFlQbnIyeQByfQUml3NozmrLlvpbr6/wBeQ9ZJjfSxNb7YFjRkn3g72Jbcu3qMAKc993sa5i6gnvPC3i+aC2uCNQWVrWN4WSSQfZI4/wDVsAwO9GABAJ6jggnpEuZX1Se1a2dYooY5FnOdrszOCo46qEUnn+MdO9mm1zIUKjpSvbt+jOV1WyvdUZdQvbOWzawj2okW24MknnQy+YFUgtGpgXjiRwWAVSF3TeHJb7UNc1HU722+zxzW9vBGvlSptKNMWH71UZv9Yp3bFHzbRkqSdtNSsZUkeO9t3WKf7PIyyqQkuQvlnnhssBt65I9aZ/bGmf2X/aX9o2n2D/n689fK+9t+/nHXjr14qbK97g8UnTcLL/JXTf4oTU76eyjtvsllJeTT3MUIjTICKW+eRmwQoVA7c43FQoO5lBu1my+JNDhtYLmbWdPjguN3kyvdIFl2nDbTnBweDjpUeqarPBrGl6VYLG1zeu8spkBIitoseY+MjJLPFGBnIMobDBGFWmnsc6knszWrN0u0mt9R1mWZNqXN6ssRyDuUW8KZ9vmRhz6VZe5lTVILVbZ2ilhkkacZ2oysgCnjqwdiOf4D17UG8RWx8VroUMtqZ1jEkyyXIWQbgxVUTBLnC5YErhWU85pNrqbwjNp8q6fhf/gGboOnam2n+HrTUrH7EdGjRpH85ZBM3kNEFXac8ByWJxgqAu8HcOmuZ0tbWW4lEjJEhdhFG0jEAZOFUFmPoACT2FZFrrd89xYfb9NS1t9RbZb/AL9jMreW0gEsZQBDtRs4ZsNgcjkbdKFraFYhzc7ySXp6vzfW5y+krqHhzwFJPJp0lxqkr3F6NNjbJFxczPKLfeuRhXlCGX7oALnaucdRVC31aBtHtL+/lt7MXEKykNcKyKdm9gH6MAoY5HGFJ6VNLqVjBp4v5ry3jsyquLl5VEZVsbTuzjByMeuaq6MnCSdrFmiqct/iazW0j+1Rz3DwSyxNkQbUcknGejJswcYLevFXKZLi1uFFFVrW5lnuLyOS2eFbeYRxu2cTKY0bcOOmWK9+VP0ACTZZorKufENjHb+ZZXFvesJrWN0hnUlFnkRUY4zxh9w9QPxqafVY20G41PSdmprHDJJCts4cTsoPyqVzySMcZ5pcyL9lPTTyL9FZPiXVZ9D0dtVjWN7azdZb4ODlbYf611IPBRSZMYYsEKgZYEa1MzCiiqyXMr6pPatbOsUUMciznO12ZnBUcdVCKTz/ABjp3BpNlmiqceoJu1BrkxQQ2Um1pTMpG3y0cs39zG48HsAehFPTUrGW0kuo7y3e3iXfJMsqlEXaHyTnAG0hvoQelK6HyS7Fmiq0WpWM+nm/hvLeSzCs5uUlUxhVzuO7OMDBz6YqGXXdIgtBdTapZR25ZUEz3CBCzKHUZzjJUhh6g56UXQ1Cbdki/RWbquqfZ9CN7p7RTvP5cdq+d0bPKypGxIPKbnUkjnGcZqy90yapBaBEKywySlzKAwKsgACdSDvOSOBgA/eFF0HJK1/X8CzRVaLUrGe7NrDeW8lwFZzCkqlwqsUY4znAYFT6EY60y31fTbu+lsrTULWe6hz5sEU6s6YODlQcjB4570XQuSXYuUVWg1Kxup3htry3mlRnRo45VZlZCA4IB4Kllz6bhnrRp1zLe6XaXVxbPayzwpI8D53RMyglTkDkE46DpRdA4ySuyzRWT4m1WfR9E+0WixtcS3NtaRGUEqjTzpCHIBBYKZNxUEZxjK5yLJuLu1XTYZ4xdyzv5VzPBGUSMiJ2Mm0ltqlkCgFjjeOT3Ykm9i7RWIdV1e41K/t9N02ylisplhMlxfPEzMYkk+6Im4xIB17Vq/bLbyfN+0ReX5nlb94xv37NufXd8uOueOtJNMuVOUbX6k1FVrXUrG+d0sry3uWjVHcQyq5VXG5CcHgEcj1FMttQSTT5ru6MVvHDJMrt5ysqrG7LuLDgcLkg/d5B5BouieSS3Rcoqm+r6bHa3Fy+oWqwW0hinlM6hYnBAKsc4U5IGDzyKY+u6RFp8d/JqlklnK2yO5a4QRu3PAbOCeD+Rouh+zm+jL9FU5L/AC2ntZx/a4LyTaZ4mysaeW7iTIyCCVVew+cc9i99Qto9Ug055cXdxDJPFHtPzJGyK5zjAwZU4Jyc8dDhkuLW5ZoqslzK+qT2rWzrFFDHIs5ztdmZwVHHVQik8/xjp3ytP8Q3N22mzT2MUNlquPsciXJeTmNpV8xCgC/IhzhmwcDkchcyLVKbTa6f8Ob1FZpm1K/0iZrHytNvRNJHG15A0yBUlKhigZCQyrkfMMbgeQOaVrreoax8PrPX9GsYzfXdhFfQ2MkmQ5ZFk8nf8oBIJQOeASGKkDaWQ007M36KradqFtq2l2uo6fL51peQpPBJtK70dQynBAIyCOCM1ZoEFFFFABRRRQAUUUUAFFFFABRRRQAUUUUALff8ew/66R/+hikpb7/j2H/XSP8A9DFVdQe9jsZH0q3t7m7GPLiuZ2hjbkZy6o5HGT905PHHUAFmiqWi6rBrug6fq1osiW9/bR3MSygBlV1DAEAkZwecE1doAKKKKAOJ0tPtVs9nZWMsN2Ndnu2uvJ2oUW8fe/mDjJQNFt++QcEbPmom0vUrjwP4XsrNZba9S3EZchkNs5sJkDMQMph2UZ6g47121FZ+zOx4p3ul1v8An/mcfqNjNq9jfJo+nS2aLo1xYG3ljEG+VgvlRgfdYJhxuB2DzPlY5bGrqUhv7TTr+3huJLS3u/PuIHt3SR0VXUHymAYlXKOBjPyZUE7QduinykOu3bTb9d/+B2OVVo4o7v8AtXSJZ9H1K4eeOI2jzGL5YtoaBVYje4llyRwcbsO2Bq+G4ZYNDRJY3iXzp2hjdSpSEyuYl2nlQIygCnG0cYGMVq0U1GzuTOtzR5bf1/W5Wf7b/akHl/Z/sHkyedu3eb5u5PL29tu3zd2ec7Md6xdF/wBA8Z+IrK5+WTUJotTtj0WSLyIrdgM9WR4csBkKJYuctgdHRVGAVg6ZJc6Z4fuJfsUsrrqN07RbSG8prtyXAwS2EO8ADLYAHUVvUUmi4zsrNdV+H/DnMaSbfT59WvdJ0u4g0tLSJktYbJoGkmUymTZCwUlipiG7HzYAz8vFzxPNGbWzsxIn2me/tXig3DfIqXETOVXqQqgscdAMmtuip5dLGrrXqKpbb9Dlb2W2i8b6h9q0uW+87SreAeVbiXIaSfMR/uh8DlsJ8vzMOM89rLNpvh7U9D1JrfVNVvrCOMGecBzIkCqFVZPnlBkDPGUDZkdwdhBY+l0VLp36mtPFcjT5e3XtYKxZ7x9f0fXLTRnkgnhMtlDdE7Uabyx8yOuThHYoSOQ8bjGVraorRq6scLV1Y4LxFCl5bQzW2kSxWNv9ls7iylgWLz2+2W5SEKSFcIBIA2fL/e/KxBbE2qW1ze6tFrVn/aFjYC5iZnhtD5+5YbiNpRAyMxz5kMeSm7CZwFVWrt6KxdG7vc53h7u9/wCkcjoliyeKYr6P+07iO4hu2lur+3ETM5+yKvyhE2jERADKCdjHkYJqafDLpM3ge+v43hiTSm0mUOpUwTTLbum/ONoLW5j553yRqAd3Hc0Vcaai7mkKai7/ANdP8grKt4ZV8YahM0biJ7C1RZCp2swkuCQD6gMufqPWtWirsbxlZNd/87nKwNHf6/pl5b6RLY6mJC2pubR0+TyHUxmcqFlAk8vGCQdoYDAyN46pbRafJe3zfYIIpHjd7siIDa5QNknGGIBU9ww9auUUkmjSdRTa028ziSn2Pwz4HW/sZZWt5IDJb+TudGWzlOdh5ypG7A+bK8AnAonuU0XUF1q9HlWUtxNLa2U7LBt3pEvmDzCqJIWWVtjFWKzSH7wdD21FTyG31rW7Xfr3bf6mD4Li8rwvEBBFAjXFy8ccBzGEa4kZdhwMoVIKnABBB71otqsA15NJVZHuGtmuXZACsKhlVQ5zlS5LbePm8qT+6au0VaVlY5qk+ebn3dwooopkHGHS2i+FekWI0p5mVbAz2KwgM5E0TSgq2Bk/MW3YHUk9TW3pIe41i/1KKKWCzuY4URJomiaSRN4eQowBGQY0ywBPl9NoUnYoqFGzOmWIcotNbtv77f5HOePv9I8E6jpUXzXeswvplqg6tLMpQHHXagJkcgEhEdsHFa13qsFnqWn2DLJJcX7uqLGAfLVELNI4zkICFTdz80kY/iFXaKs5gooooA5XUrO5k0PxtGlvKz3PmeQoQky5solG0fxfMCOO4IrNtLLULd9akFlKN0iMrNb7iFGo3TtIikEM6owkUYPOw4OQD3lFZ8mtzsjimoctu34W/wAjgIZ2tI7671F73yodXju86nCIBdx/ZlVMvtWJSGXcobbh0jVtjMCK1iJJ9Zn1u2N1p1jPcXJWbSYUuy5kjtCPuxyA5MUm5lBAdSNx/i9Iopez8y1jEvs9LfL0tY5XS7ZH1LTLOI3TR2Xn6lK92qpMZJnkWMsAAAHD3DbQAV2ruCng35Jo7jx1apBIkrWlhcJcBGBMLO9uyB8fdLBWIz1AOOlbdFUo2VjCVbmlzW6P8b/5s4nS0+1Wz2dlYyw3Y12e7a68nahRbx97+YOMlA0W375BwRs+aqdhpkz6DY2FzqPiCO70+yZdosAIrOQW7xFkdYlaXbvIUI7FjgjIyw9CoqfZm31t62W+v9XRxmhX9rqvjC1m060so4rPTJrWSSzuI5lX95CUXMfSPAfZu2scP8i456bWNVg0TR7nUblZJEgTcIogDJM3RY0BI3OzEKq92YDvV2irirHPWqKo00rW+Zy/juBE0qz1QmQHT7+0kcmRvJSH7VD50kkedjBIwz73B8vbvUqRuHSW1zBeWsVzaTRz28yCSKWJgyyKRkMCOCCDkEVJRVGJxksNjF4i1p9Uj11Glu0eI2K3wjdPs8K5/c/KTuDD14+lWfsdz/wln9qfZ5f7P+27PJ2HPneT5X2v+9j/AJY7Mbcfvc45rqqKz5Dr+su3ytv0027bHE+Ek+06L4WWxsZbM2FuslzI0Plq6PAflVhw+92SQgZHyZfawANyazuT8O9ethbymeX+0/Li2Hc++WYrgdTkEEeuRXVUUKFlYJ4lynzW63/Fv9TnvElk0dtpBsftFpb2N3uZrCASPDH5EsY2R7GyMuq4CnAOeAMjNS3jtAdUim137TNNIy302niRnykSlHgSMOIz5Kc7Eb92cOu5S3Z0U3C7FHEOMUmv+G+7/geRQ0VpZNJiee1S1kdnZkSMxh8uT5mw8qX++VPzAtg5INTP9t/tSDy/s/2DyZPO3bvN83cnl7e23b5u7POdmO9WaKpaI55Pmk2FcfpCyva+FtN+y3SXGk7ftnm20iIm21kiOJGAR/ndR8pOQcjIBNdhRScbsunU5ItW3/ya/UrahqNlpNjJe6reW9laRY8ye5lWONMkAZZiAMkgfU1y/hiVPCnwqsNQ1OC8W4FhDcXFmSxk+0NGg8iKJiBGS+ESFAqhiFVRnFdjRVGRk+FNKn0Lwbouk3bRvcWFhBbStESVZkjVSQSAcZHGQK1qKKACiiigAooooAKKKKACiiigAooooAKKKKAFvv8Aj2H/AF0j/wDQxSUt9/x7D/rpH/6GKq6hp1lq1jJZarZ297aS48yC5iWSN8EEZVgQcEA/UUAYHw3idPhzoUrTySJc2FvPFCwXbao0KEQx4AYovQFy7/3mauooooAKKja5gW6S2aaMXEiNIkRYbmVSoZgOpALqCe24eoqSgAooooAKKKKACiiigAooooAKKzbXWo7zXLzTba1uHWxwlxd/IIklKo4iwW3ltkiNkKVwcbsgipv7Wsvsn2rzv3P2j7Lu2N/rfN8nbjGfv8Z6d+nNFxqLeyLlFVtR1G00nT5r7UZ0t7aBd0kj9AP6kngAcknAp91dw2UKy3L7EaRIgcE/M7hFHHqzAfjSuhqMnay3JqKKha7hS+is2fE8sbyomDyqFQxz04Lr+f1piSb2JqKKrWeo2l+9ytlOkxtZjbzbOQkgAJXPqAwzjoeOoIoCzauizRVCbVB/Zc15ptpcamYpGi+z22xZHZZDG4Hmsi8EN1YZA4zxmbTtQttW0u11HT5fOtLyFJ4JNpXejqGU4IBGQRwRmgGmnZlmiiigQUUUUAFFFFABRRRQAUUUUAFFFFABRRRQAUUUUAFFFFABRRRQAUUUUAFFFFABRRRQAUUUUAFFFFABRRRQAUUUUAFFFFABRRRQAUUUUAFFFFABRRRQAUUUUAFFFFABRRRQAUUUUAFFFFABRRRQAt9/x7D/AK6R/wDoYrlviJePYeDWuE1OTSQL+wWS+jkVDBG15CrtlgVxtLZ3ArjOQRkV1N9/x7D/AK6R/wDoYqrf6fbanbrBexebGk0U6ruIw8UiyIeD2dFOOhxg5FAHDXV1d6f4h/4Rm1vbw6E9zawXF9JcySTWrTR3DNB9pYllLNHagbiZB9rAVl3RbYpE1HUrifT7e8uNQsdLvJ4YLSPVZLS6vYUjgLSJcIwaZoZHlg2syqzFfNcOm491Boul2ujnSbbTbOHTWR4zZRwKsJVs7l2AbcHJyMc5NRXnh3RNR0uDTNQ0ewurC22+RaT2qPFFtXau1CMDCkgYHAOKAOKsLKw1bx14Zuo7rV3+z6ZqSbbi/lWSN4Lu2UxSbH2ybGLoxO8SBFLNJgNXo9UpNF0uW1sraXTbN7ewdJLOJoFK2zIMI0YxhCo4BGMdqpah4T07U76S7ubjV0kkxuW21q8gjGABwkcqqOnYDJ56mgDjtJvp47aTVrbW7y/1M+KLjTDZSXZljWE37q0PkjgFICZg2N6qg+byhso8Faxdz+MtPQTyGz1jQ5dVCXOrSXdxKpkg8qWSFkCWxIkk+SH92TuA4jWu5sPD2kaZeNd2WnW8V2/mhrnZmUiWVpnXefm2mR2bbnAJ4Aoh8O6Jb3y3sGj2EV2k0tws6WqCRZZQBI4YDO5wAGPUgDOaAOK0MSWfwd0vU7vUtXvtQ1iz06OWWTUHDPJMY40UNyIVJlCtJGvmbcvlpAGrmNZ17WLPwpqKwajJby6Prl3HD9k1WW8EZh0eW5EbTuFeYCcbmSQEZGwgqoFey/2dZf2X/Zn2O3+weT9n+yeUvleVt27NmMbdvGMYxxVJfCnh1VdV0HTAJEWNwLOP5lWJolU8cgRuyAdlYr0JFAHHQpqOraNZRC8uL1bS81OFtOj1WSzuriGC8aKORJkYPI0aKE2uwV2lVncEAnsfDFzBdeHoGtpryVI3lhIvmDzRNHIyNE7DO8oylN2W3bc7nzuMl74d0TU7EWWpaPYXdoJmuBBPapJGJWLFn2kY3EuxJ6ksfU1etraCztYra0hjgt4UEcUUShVjUDAUAcAADAAoA47xBpnjm41y4l0LUvIsG2+VH/aMEWPlGflbT5SPmz1kb8Og7WiigDl/Bqzpf+J0vpI5r5dWUXM0MZjilb7HbEFIyWKAIUBBdslWbIDBVteKFS08PqbW23Y1G0kEMIVS7G7jY4yQMsSTkkcnJNaMWkWcGsTapCkkdzOgSbZM4jk6De0edhfCqu8jdtULnAxVqWGOdAk0aSKGVwHUEBlIZT9QQCPQik1dWNKc+Sal2aZyuozS3fgHxFd3cji8ewnSe1LHbaMImPlAeoDZL/x5DD5SgHVSwxzoEmjSRQyuA6ggMpDKfqCAR6EUyWztpvO863ik8+Pypd6A+YnPyt6j5m4PHzH1qaklYqdRSStpr/l/kZupx2z6jo7XNlcXMiXjNbyxKSts/wBnmBkkwRhShdOcjdIvGcEXzDG06zNGhlRSiyFRuVSQSAfQlVz9B6U+iqMTmLOa+fWoNMeS482zv7m6uJGZtj27hzEue4zMgAIxmCQD7gzf0X/kL+If+win/pLb1qiGNZ2mWNBK6hGkCjcygkgE+gLNj6n1oSGOJ5HjjRGlbfIVUAu2AuT6nAA+gFQo2OiVZSvpurfjcIoY4EKQxpGpZnIRQAWYlmP1JJJ9Sa5r4brOPhzoTSyRtbvYW7WcaxkNDAYU2JI2SJHA6uAgbsi9K39QsYtTsZLS5e4SOTG5ra5kgkGCDw8bKw6diMjjoag0y90r+wIbrTHhh0qGIiF1TyoViTgMuQB5eFyrD5SuCCVINWYatmhRTDNGs6wtIgldS6xlhuZQQCQPQFlz9R60+gQUUUUAFFFQrdwvfS2avmeKNJXTB4VywU56clG/L6UDs2TUVWTUbSS4kgWdBLHN9nZG+UmTyxJtGep2ENxnjPoas0A01uFFFFAgopkU0c6F4ZEkUMyEowIDKSrD6ggg+hFCTRyvIkciO0TbJArAlGwGwfQ4IP0IoHZj6KKKBBRRRQAUVDdXcNlCsty+xGkSIHBPzO4RRx6swH41NQOztcKKKKBBRTJpo7eCSa4kSKKNS7yOwVVUDJJJ6ACn0AFFVtQ1Gy0mxkvdVvLeytIseZPcyrHGmSAMsxAGSQPqala5gW6S2aaMXEiNIkRYbmVSoZgOpALqCe24eooAkoqNbmBrp7ZZozcRosjxBhuVWLBWI6gEowB77T6GpKACiiigAoqlba1pd5psWo2mpWc9jM4jiuop1aKRi/lhQ4OCS52gDvx1qzLcwQSQxzTRxvO5jhV2AMjbS21R3O1WOB2UntQBJRRRQAUUUUAFFRrcwNdPbLNGbiNFkeIMNyqxYKxHUAlGAPfafQ1JQAUUUUAFFFFABRRRQAUUUUAFFFFABRRUdzOlray3EokZIkLsIo2kYgDJwqgsx9AASewoAkoqO2uYLy1iubSaOe3mQSRSxMGWRSMhgRwQQcgipKACiiigAooooAKKKKAFvv8Aj2H/AF0j/wDQxWJ4z1C50nwHr+o6fL5N3Z6ZczwSbQ2x0iZlOCCDggcEYrbvv+PYf9dI/wD0MVV1HT7bVtLutO1CLzrS8heCePcV3o6lWGQQRkE8g5oA5PxHc69oem6VaQ6hqGp3uramYZZLKG1jmiX7PLKVt1lxGqhoR/rS7bWYbmbaRSE/jT+zx9vGt2djDcyA3EMdjLqTReXEyyOih4WQMbgFYlMp2w7VJL57XVdIs9ZtVgv0kIRxJHJDM8MsTYI3JIhDocFlJUjIZgeCQc1vBWiG1SERXkbo7P8Aao9RuEunLBQ2+4DiVwQiDDMRiOMY+RcAGBpl5rmueIJ7TTvFf+iWemW1wkv9nIHlmae6TbMrYK4EKrKgEbb0O0w/MprQeNtT1jwnqPi+0f7DbaLZx3TaWAsi3e6ziu3V5Cu4fLMEQpt2spdvMB8sb5+Hfhx9QN3JaSMTbR2pQzuA8aySyMHIO6USNMxkWQsshClgSMnWvPD+mX+qQajd22+5g27SJGVX2tuTegO2TYxLJvB2MSy4JzQByej6trI1TTrq61e4u4dT1/UdMazlihEUEULXZjMZRFfcBbIMszAhm4zgild+INf8O6TqV9rGp3ker21hc3A0++som0+5eOF5P9GmiVWxuQlUkkMvlI5ZAcOvcxeH9Mh+y+Xbbfsl5NfQ/vG+SeXzfMfrznz5eDwN3AGBilB4I0C3kJ+xyTQ7HjS0ubqWe2iVlKFY4HYxxjYzIAqjCsyjCkigDN8Ly+Jhrxi1ODW201rZ2ebWjp+5JgyCNY/sh6FTKW3g/dTBHOdfxTc65aaXG/hm2+03ZmAdPs6TYTa2Tte4gA5287yf9k9RJpXhnTdHumubX7ZNcMhjEt7fz3bIpIJVDM7FASFJC4ztXOdoxrUAYvha51y70uR/E1t9muxMQifZ0hym1cHalxODzu53g/7I6mjr8mrXPjLSNH03V5NLtrmwvLi5eGCOSUmOS2CbDIrKp/etklWBBYYztZeoqs+n20mqQai8Wbu3hkgik3H5UkZGcYzg5MSckZGOOpyAcDrWteLbrX9fj8O2urzvpMywWcVp9gFnM/2aKYC4M7CblpcMYyo2bduGyas3+s65cWS67Zap9ktxr8Wltp/2dJEaFdRW1dt5G7zHwxznaEbaE3Dza6TUPCOj6nfSXV3DcFpsfaIYryaKG5wAv72FHEcuVAU71bKgKcgAVFq3gvRdY1CO+uYJEuY7m3uw8cpC+bDIjrJsOU3kRiMybd/l5TcBxQByeq+NNa0z4U+FfEMc8ct9dWDXN15sQ2zsul3FxggYwDJGhO3b0xwKs28vjkNcxW0GttC1sWabWDpvnI4ljG23+znbvMRnI80FN6xZIXdnfXwB4ZFxFNJpvn+RvEEVzPLNFAjxtG8ccbsUjjKOVMagIQF4+RcSReCtEjjmWSK8ujKgTzL3Ubi5kiG4N+7eR2aI7lRsoVO5EOcqpABx+ttd6j4YNq3iTVxcQ6zpRkivrK3hvLdmvY05xEI3j3YKOilS8T/vJFyo6fxIut2trp6WV7qbWcSML670+G3kvSwC7ZCjoUZMeYXWNDIW8sIuNwq9B4R0eCxurUw3E63WzzZrq8mnm+Q7o8TO5kXYxLLtYbGJZcEk1JfeGdN1G1tIbn7YDZp5cNxDfzxXAXABUzI4kYHapYFjuKqTkgGgCTw/c/a9Dt5v7Q/tHO5ftJh8l22sVxInG2RcbXGFw4b5U+6OT1HWdcs5fGWtLqmbLw3MXh00W6BZ0WygmkR5Mbud7bCuCrElvMXCDrIfD+mW8OnxRW2F02Zri2JkYssrI6M7EnLswlkyWySWLHJ5qkvgvRR4hu9akgklvLu5juZN0pCFo440jDIuFcJ5Qdd4bY7My4JoAyf+Eg1Pyv8AhIPtP+h/2z/ZH9l+WuzZ9t+x+d5mN/mb/wB512bPk27v3tR6RPrZ1JLHX9d1Ow1K6SRGgls7c2rtsYlrOZY+oYFkSZnk8tGLx/xjp/8AhH9M/tz+1/s3+mdd3mNs37dnmeXnZ5mz5PMxv2fLnbxVfT/COj6ZfR3VpDcBoc/Z4ZbyaWG2yCv7qF3McWFJUbFXCkqMAkUAcdpQvNK/Zoa5i1S8luB4XNxbysURrX/QwVWMxqpAUjIJy3qxr0F9Msn0dtK+zRpYNAbb7PENirFt27AFxtGOBjGO1M0rSLPRbVrbTUkity5dYmmd1i4ACRhiRGgAACLhV7AUaPpUGh6PbaZZtI1taJ5UAkIJjjH3EyAMhVwoJySFGSTkkGm07oy9XtZrvxhpcdvfXFiwsLtjJbrGWI8y34+dWGPwzx1rNsTeal4p0qabUrhGgh1CFgiRYlWG7ij+bKHlwF3bccj5dvOeta0he+ivGTM8UbxI+TwrlSwx05KL+X1qt/YtgDCUieNoZpJ0aOV0bc773BIOSrMclD8pwOOBjNxbd/66HXCvFQUWtk1suvN/mjNt7WY/ETUJxfXAjWwtWNuFj2MC1wACdu7AILDBzljkkYArWuo6nFbNqlzffaIjqr2ItPJVVEZvDArbgN29cg56FRjbuO+uhfT7eTUI74q63Ea7NySModecBwDhwNxI3A4JJGCTVOw8N6dp1211DE7TNNLOWdyR5kjMzNt+7uwxUNjdt+XOKOV9A9tTa95dF0XRd/PvuWbJ4Wu9RENzLM63AEqSEkQt5UZ2LxwNpVuM8s30Gbo13DBod/r92/lwXkkl+zgEgQKoWNwBzzDGjEdck8DoNi8t/tdjPbedLB50bR+bC210yMblPYjqD61DdaXbXWlrp+3ybUbF8qIBVKKwPl4xjYQNpXoVJFU0zKMo2s+tr+i/r8Dm5dOuk0/wxbzTS2F7PqMlxcNDsYxTSQXEsiruDLgMzKMg8dyeahu1vrzWLCyk1a6VrHWWt0uFjh8xw1g0u5sx7cjeyjCgbTyCcNXYT2kNxNbyzJue2kMsRyRtYoyZ9/ldhz61Wn0WwuRP5kThp5hcPJHK6OJAgj3KykFTsUL8pGRkdzmHB9DeOJV7yXR9Fu2/0exm6hazTePtKkjvriBVsLljHGsZVgstvkHcpOGyM4IPyjBHOa15qOp27+ItRF9m20aTdHZ+SuJVFtHI6s+N3O47SMbSSTvGFHQ3On293PBNMriW3bdHJHI0bDkEqSpGVJAypypwMg4FU18N6cNWn1J4ne4nmWZ8uQpZURUyowGC7Ay7s7WJIwTTcX0JhWp2XOtlbZd7/l1MTS5r3TbB7/7X5lu+sz232Py1ChZL54927728M+c52lRt25+erN5qFxaaV4yubZkjms2d4XWNchhZxMCePmOT/FnjA6ACtW18P6ZZXzXdtbbJWkeY/vGK+Y5JaTaTt3ncRuxnadudvFTS6TZTW9/BLDuj1HP2pd7DzMxiM9+PlUDjHT1pcsrWG61JzcmvwXdP/PXrcp6XJdQa5e6Zc3st8kNvBcJNOqBwZGlUr8iquB5QI4zknk8Ym1i7mhaxtLV/Jkv7g24nwGMIEbyFgDwTiMgZ4BIJDAbTcW0hS+lvFTE8saRO+TyqFiox04Lt+f0qEaTZDR49LEOLSKNI403tlAmNpDZ3AjAIbOQQDnPNXZ2sY88HPma7dPLf79bdTBn1HU5Lm30uG+8qWPVTYy3fkqzSx/Y2n3bcbVflRkcblzt2nZVy9ubpL42P9qfYUs7Jbo3k6IftJBYNuyAoRdql9u0/vFwyfxaUek2UUdokcOBZyGWH52JDlWVmJzliQ75LZJLEnnmq2raCmrTwyteXFu0LK6hEikUOpJVwsqOFYZPzKAeeScDE8rsa+0puSVrL069+v3dPxMrR7ubXG8Nvcv5klvpyalcyABT50kflx57YYNcHAHBReg4Ja6jqcVs2qXN99oiOqvYi08lVURm8MCtuA3b1yDnoVGNu47629M0a00gSLZhwrLHGodt3lxxoESNSedowTgk/M7HvUNh4b07TrtrqGJ2maaWcs7kjzJGZmbb93dhiobG7b8ucUlGRUq1Jt6adNPVteWr3RlQatq0un6Zf280UkmuRn7PazpiK1cwPNH8yjcw+Ta+ckk7l2AbTQ1eW5k8J69bXOp6kk/8AZk8jW1/bwLIAq5yjxqI3Ug4bbvI3ryjdeqXRNOWe5l+yo5uVZJEkJdNrnLgISVUMeWwBuPLZNMt9A06383Mctz5sZif7ZcSXPyH7yjzGbAOBkDg4Gc4FHLJqw416UZXS/Bd/69SY6ck2jyadqM0t9HNG8UzzbVaRWyCDsCgcHHAH581cqG0tY7K1S3haVkTODNM8rcnPLOSx69zUGp6VBq0dtFdtJ5MFzFcmNCAJGjbegY4zgOEfgjJQA5Usp0RxSd35HN+OLC4vtd8Hrbareacf7WlXfapCxybK5O795G4yApX0w7cZ2ldK8ndfiNo9uBHsk0m/ckxqWBWazAw2NwHzHIBweMg7RjWutPtry4s57mLfJYzGe3bcRscxvGTwefkkcYORznqBQ+n20mqQai8Wbu3hkgik3H5UkZGcYzg5MSckZGOOpyyTFsf+So65/wBgbTv/AEde1yfhzWvHes6bpmqWVrqDPqdmZ3/tX7ENOhL27SRmIQN9o2+b5SgPuPls275sEejJp9tHqk+opFi7uIY4JZNx+ZI2dkGM4GDK/IGTnnoMZMHgjQLeQn7HJNDseNLS5upZ7aJWUoVjgdjHGNjMgCqMKzKMKSKAMC11LXoLe8hs7/V7rWFhDrpet6damUYkQF4nieCGVQrfPiVtpePJVgUelr9x4p1H4VeNF8SxSacU0mZoHjs4YS4Ebl14ubgEEAKc7CAxwc8r2uleGdN0e6a5tftk1wyGMS3t/PdsikglUMzsUBIUkLjO1c52jF3UdPttW0u607UIvOtLyF4J49xXejqVYZBBGQTyDmgDA8RrcaV4Ts45b2TUZl1bTka4vYYWZw9/CDlVRUBAbAIUEYBB3DNS+J/+Ri8Hf9hmT/0gu62r/T7bU7dYL2LzY0minVdxGHikWRDwezopx0OMHIoutPtry4s57mLfJYzGe3bcRscxvGTwefkkcYORznqBQBwOta14tutf1+Pw7a6vO+kzLBZxWn2AWcz/AGaKYC4M7CblpcMYyo2bduGya0vtms2nijGtarqFgkl5stU+xwy6bcRF8InmKvmxyFCi/vHQGZsIJFGw7eoeEdH1O+kuruG4LTY+0QxXk0UNzgBf3sKOI5cqAp3q2VAU5AAo/wCER0f+1Pt/k3G/zvtH2f7ZN9m83du3/Z9/lbt/z5253/P97mgDarJ8TarPo+ifaLRY2uJbm2tIjKCVRp50hDkAgsFMm4qCM4xlc5FnTtKg02S9liaSSa+uWubiSQjLNtVFGAAAFREQYHRATliWNm5toLy1ltruGOe3mQxyxSqGWRSMFSDwQQcEGgDzS8fVdG8banZf23qF7d3dnp0NtJbWlt9tmG6/kMYL7bcMPLdt7IB5a7QC5DkebVfE1n4KnudT1DS7tNfv7N2jjtjLmKK9jV3yjx+Zthw2z5MyOQPubesTwD4dj890tLgXFx5ZlvPt0/2ljHvCN5+/zAwWV03BslDsJ2gKJIPBGgWmjnS7OzktbMXL3UUdvdSxG2kbO4wsrBoQdzDbGVGHYYwzAgGB8QfEeq6N9vn0SbUJZNJ0w6hLa2cFt5Sj94Va5eZgzRt5TDbBhwEkJOWTFnxBqfjm31y4i0LTfPsF2+VJ/Z0EuflGfmbUIifmz1jX8ep29d8IaH4l3jW7H7SskJglQTOizJzgOqsA+0sWQtkoxLLtPNa1tAlraxW8RkZIkCKZZGkYgDAyzEsx9SSSe5oA4Ww1nXLeybXb3VPtdudfl0tdP+zpGiwtqLWqNvA3eYmVOc7Si7Sm4+bRa+IPEE+j6Hq9nc2803iqE/ZLG6jCwWErWklxD86DeygR7JN2SxbcnlgbDv6T4L0XR9QkvraCR7mS5uLsvJKSvmzSO7SbBhN4EhjEm3f5eE3EcVZj8L6LHdXs/wBgjkN6jxzRykyRFZDmVVjYlEEh+ZwoG8gFtx5oA4HxFPfTfD7xbZXuu63HdDQ7qWSy1eztUmAVM5ilhjEUiFTtk2mQr5ifNE3B9L0+1ms7GOC5vrjUJEzuublYxI+STyI1VeM44UcDueazrPwjo9n5+Ybi9+0Qtbyf2leTXv7pvvoPOd9qtgbgMBtq5zgYkl0J10eHT9L1jU9OELlhcJMtzMwOSVZ7lZSRls+owACBxQBm6/Jq1z4y0jR9N1eTS7a5sLy4uXhgjklJjktgmwyKyqf3rZJVgQWGM7WXk9c8b62NEvr/AE+S8e80S2upbq20+3txbloJ7iISzmdt/lSG2YiOE+YgDgsxKGusl8C2l/dWt1rmq6nqtzZpMlvcSSx28sIlMRbY9ukbKf3OMggkSSKSQ2BZ1XwP4c1m1W1v9Lja2W2Fp9nid4YmhAIRGRCFYJklMg+WSWTaeaAK0kmrX3xGurCHV5LPTbGwsrtreGCMtNI81yrKXdThCsQDADdwpVkw27Jg8R6r/wAJzYJFNqF1pmoanc6eZJILaOzQxRTsViAb7R5ivb7Cz5RsSFQAUx2NnpFnY3TXNukhuGtobV5ZZnkZ44i5QEsSSQZHJY8ndyTxWbL4I0CbWIdUazkW8t7k3UEiXUqCGQ53lFDBUD7iZFAAkJy4Y80AcN4E8X+KtZjS0a+t729n0Z54HvYVRPtAtrGdS3lKvyl791YAfcijxht7P1nha8uzqklpqOq6u9z5Jd9P1uzt0lXDLh4pbdVikUBhv2mTBeMExnKtdsPA/hzTV22ulx7DbNaNHK7yq0LRQxMhVyQQUtoVOf7n+02ZbPwrYad58lhPqCXcsLQpd3N9LeS24br5ZuGkC8hSRjDFF3A7RQBW8CfL4YeJeI7fU9Qt4UH3Y4o72ZI0UdlVFVQBwAABwK6Oq2nafbaTpdrp2nxeTaWcKQQR7i2xEUKoySScADknNWaACiiigAooooAKKKKAJLmJpoCqY3blYZ6cEH+lQ7Lr/nnD/wB/T/8AE1booAqbLr/nnD/39P8A8TRsuv8AnnD/AN/T/wDE1booAqbLr/nnD/39P/xNGy6/55w/9/T/APE1booAqbLr/nnD/wB/T/8AE0bLr/nnD/39P/xNW6KAKmy6/wCecP8A39P/AMTRsuv+ecP/AH9P/wATVuigCpsuv+ecP/f0/wDxNGy6/wCecP8A39P/AMTVuigCpsuv+ecP/f0//E0bLr/nnD/39P8A8TVuigCpsuv+ecP/AH9P/wATRsuv+ecP/f0//E1booAqbLr/AJ5w/wDf0/8AxNGy6/55w/8Af0//ABNW6KAKmy6/55w/9/T/APE0bLr/AJ5w/wDf0/8AxNW6KAKmy6/55w/9/T/8TRsuv+ecP/f0/wDxNW6KAKmy6/55w/8Af0//ABNGy6/55w/9/T/8TVuigCpsuv8AnnD/AN/T/wDE0bLr/nnD/wB/T/8AE1booAqbLr/nnD/39P8A8TRsuv8AnnD/AN/T/wDE1booAqbLr/nnD/39P/xNGy6/55w/9/T/APE1booAqbLr/nnD/wB/T/8AE0bLr/nnD/39P/xNW6KAKmy6/wCecP8A39P/AMTRsuv+ecP/AH9P/wATVuigCpsuv+ecP/f0/wDxNGy6/wCecP8A39P/AMTVuigCpsuv+ecP/f0//E0bLr/nnD/39P8A8TVuigCpsuv+ecP/AH9P/wATRsuv+ecP/f0//E1booAqbLr/AJ5w/wDf0/8AxNGy6/55w/8Af0//ABNW6KAKmy6/55w/9/T/APE0bLr/AJ5w/wDf0/8AxNW6KAKmy6/55w/9/T/8TRsuv+ecP/f0/wDxNW6KAKmy6/55w/8Af0//ABNGy6/55w/9/T/8TVuigCpsuv8AnnD/AN/T/wDE0bLr/nnD/wB/T/8AE1booAqbLr/nnD/39P8A8TRsuv8AnnD/AN/T/wDE1booAqbLr/nnD/39P/xNGy6/55w/9/T/APE1booAqbLr/nnD/wB/T/8AE0bLr/nnD/39P/xNW6KAKmy6/wCecP8A39P/AMTRsuv+ecP/AH9P/wATVuigCpsuv+ecP/f0/wDxNGy6/wCecP8A39P/AMTVuigCpsuv+ecP/f0//E0bLr/nnD/39P8A8TVuigCpsuv+ecP/AH9P/wATRsuv+ecP/f0//E1booAqbLr/AJ5w/wDf0/8AxNGy6/55w/8Af0//ABNW6KAKmy6/55w/9/T/APE0bLr/AJ5w/wDf0/8AxNW6KAKmy6/55w/9/T/8TRsuv+ecP/f0/wDxNW6KAKmy6/55w/8Af0//ABNGy6/55w/9/T/8TVuigCpsuv8AnnD/AN/T/wDE0bLr/nnD/wB/T/8AE1booAqbLr/nnD/39P8A8TRsuv8AnnD/AN/T/wDE1booAqbLr/nnD/39P/xNGy6/55w/9/T/APE1booAqbLr/nnD/wB/T/8AE0bLr/nnD/39P/xNW6KAP//Z',\n",
       "  'photo2': 'data:application/octet-stream;base64,/9j/4AAQSkZJRgABAQEAYABgAAD/4RCERXhpZgAATU0AKgAAAAgABAE7AAIAAAAGAAAISodpAAQAAAABAAAIUJydAAEAAAAMAAAQcOocAAcAAAgMAAAAPgAAAAAc6gAAAAgAAAAAAAAAAAAAAAAAAAAAAAAAAAAAAAAAAAAAAAAAAAAAAAAAAAAAAAAAAAAAAAAAAAAAAAAAAAAAAAAAAAAAAAAAAAAAAAAAAAAAAAAAAAAAAAAAAAAAAAAAAAAAAAAAAAAAAAAAAAAAAAAAAAAAAAAAAAAAAAAAAAAAAAAAAAAAAAAAAAAAAAAAAAAAAAAAAAAAAAAAAAAAAAAAAAAAAAAAAAAAAAAAAAAAAAAAAAAAAAAAAAAAAAAAAAAAAAAAAAAAAAAAAAAAAAAAAAAAAAAAAAAAAAAAAAAAAAAAAAAAAAAAAAAAAAAAAAAAAAAAAAAAAAAAAAAAAAAAAAAAAAAAAAAAAAAAAAAAAAAAAAAAAAAAAAAAAAAAAAAAAAAAAAAAAAAAAAAAAAAAAAAAAAAAAAAAAAAAAAAAAAAAAAAAAAAAAAAAAAAAAAAAAAAAAAAAAAAAAAAAAAAAAAAAAAAAAAAAAAAAAAAAAAAAAAAAAAAAAAAAAAAAAAAAAAAAAAAAAAAAAAAAAAAAAAAAAAAAAAAAAAAAAAAAAAAAAAAAAAAAAAAAAAAAAAAAAAAAAAAAAAAAAAAAAAAAAAAAAAAAAAAAAAAAAAAAAAAAAAAAAAAAAAAAAAAAAAAAAAAAAAAAAAAAAAAAAAAAAAAAAAAAAAAAAAAAAAAAAAAAAAAAAAAAAAAAAAAAAAAAAAAAAAAAAAAAAAAAAAAAAAAAAAAAAAAAAAAAAAAAAAAAAAAAAAAAAAAAAAAAAAAAAAAAAAAAAAAAAAAAAAAAAAAAAAAAAAAAAAAAAAAAAAAAAAAAAAAAAAAAAAAAAAAAAAAAAAAAAAAAAAAAAAAAAAAAAAAAAAAAAAAAAAAAAAAAAAAAAAAAAAAAAAAAAAAAAAAAAAAAAAAAAAAAAAAAAAAAAAAAAAAAAAAAAAAAAAAAAAAAAAAAAAAAAAAAAAAAAAAAAAAAAAAAAAAAAAAAAAAAAAAAAAAAAAAAAAAAAAAAAAAAAAAAAAAAAAAAAAAAAAAAAAAAAAAAAAAAAAAAAAAAAAAAAAAAAAAAAAAAAAAAAAAAAAAAAAAAAAAAAAAAAAAAAAAAAAAAAAAAAAAAAAAAAAAAAAAAAAAAAAAAAAAAAAAAAAAAAAAAAAAAAAAAAAAAAAAAAAAAAAAAAAAAAAAAAAAAAAAAAAAAAAAAAAAAAAAAAAAAAAAAAAAAAAAAAAAAAAAAAAAAAAAAAAAAAAAAAAAAAAAAAAAAAAAAAAAAAAAAAAAAAAAAAAAAAAAAAAAAAAAAAAAAAAAAAAAAAAAAAAAAAAAAAAAAAAAAAAAAAAAAAAAAAAAAAAAAAAAAAAAAAAAAAAAAAAAAAAAAAAAAAAAAAAAAAAAAAAAAAAAAAAAAAAAAAAAAAAAAAAAAAAAAAAAAAAAAAAAAAAAAAAAAAAAAAAAAAAAAAAAAAAAAAAAAAAAAAAAAAAAAAAAAAAAAAAAAAAAAAAAAAAAAAAAAAAAAAAAAAAAAAAAAAAAAAAAAAAAAAAAAAAAAAAAAAAAAAAAAAAAAAAAAAAAAAAAAAAAAAAAAAAAAAAAAAAAAAAAAAAAAAAAAAAAAAAAAAAAAAAAAAAAAAAAAAAAAAAAAAAAAAAAAAAAAAAAAAAAAAAAAAAAAAAAAAAAAAAAAAAAAAAAAAAAAAAAAAAAAAAAAAAAAAAAAAAAAAAAAAAAAAAAAAAAAAAAAAAAAAAAAAAAAAAAAAAAAAAAAAAAAAAAAAAAAAAAAAAAAAAAAAAAAAAAAAAAAAAAAAAAAAAAAAAAAAAAAAAAAAAAAAAAAAAAAAAAAAAAAAAAAAAAAAAAAAAAAAAAAAAAAAAAAAAAAAAAAAAAAAAAAAAAAAAAAAAAAAAAAAAAAAAAAAAAAAAAAAAAAAAAAAAAAAAAAAAAAAAAAAAAAAAAAAAAAAAAAAAAAAAAAAAAAAAAAAAAAAAAAAAAAAAAAAAAAAAAAAAAAAAAAAAAAAAAAAAAAAAAAAAAAAAAAAAAAAAAAAAAAAAAAAAAAAAAAAAAAAAAAAAAAAAAAAAAAAAAAAAAAAAAAAAAAAAAAAAAAAAAAAAAAAAAAAAAAAAAAAAAAAAAAAAAAAAAAAAAAAAAAAAAAAAAAAAAAAAAAAAAAAAAAAAAAAAAAAAAAAAAAAAAAAAAAAAAAAAAAAAAAAAAAAAAAAAAAAAAAAAAAAAAAAAAAAAAAAAAAAAAAAAAAAAAAAAAAAAAAAAAAAAAAAAAAAAAAAAAAAAAAAAAAAAAAAAAAAAAAAAAAAAAAAAAAAAAAAAAAAAAAAAAAAAAAAAAAAAAAAAAAAAAAAAAAAAAAAAAAAAAAAAAAAAAAAAAAAAAAAAAAAAAAAAAAAAAAAAAAAAAAAAAAAAAAAAAAAAAAAAAAAAAAAAAAAAAAAAAAAAAAAAAAAAAAAAAAAAAAAAAAAAAAAAAAAAAAAAAAAAAAAAAAAAAAAAAAAAAAAAAAAAAAAAAAAAAAAAAAAAAAAAAAAAAAAAAAAAAAAAAAAAAAAAAAAAAAAAAAAAAAAAAAAAAAAAAAAAAAAAAAAAAAAAAAAAAAAAAAAAAAAAAAAAAAAAAAAAAAAAAAAAAAAAAAAAAAAAAAAAAAAAAAAAAAAAAAAAAAAAAAAAAAAAAAAAAAAAAAAAAAAAAAAAAAAAAAAAAAAAAAAAAAAAAAAAAAAAAAAAAAAAAAAAAAAAAAAAAAAAAAAAAAAAAAAAAAAAAAAE5BVkVSAAAB6hwABwAACAwAAAhiAAAAABzqAAAACAAAAAAAAAAAAAAAAAAAAAAAAAAAAAAAAAAAAAAAAAAAAAAAAAAAAAAAAAAAAAAAAAAAAAAAAAAAAAAAAAAAAAAAAAAAAAAAAAAAAAAAAAAAAAAAAAAAAAAAAAAAAAAAAAAAAAAAAAAAAAAAAAAAAAAAAAAAAAAAAAAAAAAAAAAAAAAAAAAAAAAAAAAAAAAAAAAAAAAAAAAAAAAAAAAAAAAAAAAAAAAAAAAAAAAAAAAAAAAAAAAAAAAAAAAAAAAAAAAAAAAAAAAAAAAAAAAAAAAAAAAAAAAAAAAAAAAAAAAAAAAAAAAAAAAAAAAAAAAAAAAAAAAAAAAAAAAAAAAAAAAAAAAAAAAAAAAAAAAAAAAAAAAAAAAAAAAAAAAAAAAAAAAAAAAAAAAAAAAAAAAAAAAAAAAAAAAAAAAAAAAAAAAAAAAAAAAAAAAAAAAAAAAAAAAAAAAAAAAAAAAAAAAAAAAAAAAAAAAAAAAAAAAAAAAAAAAAAAAAAAAAAAAAAAAAAAAAAAAAAAAAAAAAAAAAAAAAAAAAAAAAAAAAAAAAAAAAAAAAAAAAAAAAAAAAAAAAAAAAAAAAAAAAAAAAAAAAAAAAAAAAAAAAAAAAAAAAAAAAAAAAAAAAAAAAAAAAAAAAAAAAAAAAAAAAAAAAAAAAAAAAAAAAAAAAAAAAAAAAAAAAAAAAAAAAAAAAAAAAAAAAAAAAAAAAAAAAAAAAAAAAAAAAAAAAAAAAAAAAAAAAAAAAAAAAAAAAAAAAAAAAAAAAAAAAAAAAAAAAAAAAAAAAAAAAAAAAAAAAAAAAAAAAAAAAAAAAAAAAAAAAAAAAAAAAAAAAAAAAAAAAAAAAAAAAAAAAAAAAAAAAAAAAAAAAAAAAAAAAAAAAAAAAAAAAAAAAAAAAAAAAAAAAAAAAAAAAAAAAAAAAAAAAAAAAAAAAAAAAAAAAAAAAAAAAAAAAAAAAAAAAAAAAAAAAAAAAAAAAAAAAAAAAAAAAAAAAAAAAAAAAAAAAAAAAAAAAAAAAAAAAAAAAAAAAAAAAAAAAAAAAAAAAAAAAAAAAAAAAAAAAAAAAAAAAAAAAAAAAAAAAAAAAAAAAAAAAAAAAAAAAAAAAAAAAAAAAAAAAAAAAAAAAAAAAAAAAAAAAAAAAAAAAAAAAAAAAAAAAAAAAAAAAAAAAAAAAAAAAAAAAAAAAAAAAAAAAAAAAAAAAAAAAAAAAAAAAAAAAAAAAAAAAAAAAAAAAAAAAAAAAAAAAAAAAAAAAAAAAAAAAAAAAAAAAAAAAAAAAAAAAAAAAAAAAAAAAAAAAAAAAAAAAAAAAAAAAAAAAAAAAAAAAAAAAAAAAAAAAAAAAAAAAAAAAAAAAAAAAAAAAAAAAAAAAAAAAAAAAAAAAAAAAAAAAAAAAAAAAAAAAAAAAAAAAAAAAAAAAAAAAAAAAAAAAAAAAAAAAAAAAAAAAAAAAAAAAAAAAAAAAAAAAAAAAAAAAAAAAAAAAAAAAAAAAAAAAAAAAAAAAAAAAAAAAAAAAAAAAAAAAAAAAAAAAAAAAAAAAAAAAAAAAAAAAAAAAAAAAAAAAAAAAAAAAAAAAAAAAAAAAAAAAAAAAAAAAAAAAAAAAAAAAAAAAAAAAAAAAAAAAAAAAAAAAAAAAAAAAAAAAAAAAAAAAAAAAAAAAAAAAAAAAAAAAAAAAAAAAAAAAAAAAAAAAAAAAAAAAAAAAAAAAAAAAAAAAAAAAAAAAAAAAAAAAAAAAAAAAAAAAAAAAAAAAAAAAAAAAAAAAAAAAAAAAAAAAAAAAAAAAAAAAAAAAAAAAAAAAAAAAAAAAAAAAAAAAAAAAAAAAAAAAAAAAAAAAAAAAAAAAAAAAAAAAAAAAAAAAAAAAAAAAAAAAAAAAAAAAAAAAAAAAAAAAAAAAAAAAAAAAAAAAAAAAAAAAAAAAAAAAAAAAAAAAAAAAAAAAAAAAAAAAAAAAAAAAAAAAAAAAAAAAAAAAAAAAAAAAAAAAAAAAAAAAAAAAAAAAAAAAAAAAAAAAAAAAAAAAAAAAAAAAAAAAAAAAAAAAAAAAAAAAAAAAAAAAAAAAAAAAAAAAAAAAAAAAAAAAAAAAAAAAAAAAAAAAAAAAAAAAAAAAAAAAAAAAAAAAAAAAAAAAAAAAAAAAAAAAAAAAAAAAAAAAAAAAAAAAAAAAAAAAAAAAAAAAAAAAAAAAAAAAAAAAAAAAAAAAAAAAAAAAAAAAAAAAAAAAAAAAAAAAAAAAAAAAAAAAAAAAAAAAAAAAAAAAAAAAAAAAAAAAAAAAAAAAAAAAAAAAAAAAAAAAAAAAAAAAAAAAAAAAAAAAAAAAAAAAAAAAAAAAAAAAAAAAAAAAAAAAAAAAAAAAAAAAAAAAAAAAAAAAAAAAAAAAAAAAAAAAAAAAAAAAAAAAAAAAAAAAAAAAAAAAAAAAAAAAAAAAAAAAAAAAAAAAAAAAAAAAAAAAAAAAAAAAAAAAAAAAAAAAAAAAAAAAAAAAAAAAAAAAAAAAAAAAAAAAAAAAAAAAAAAAAAAAAAAAAAAAAAAAAAAAAAAAAAAAAAAAAAAAAAAAAAAAAAAAAAAAAAAAAAAAAAAAAAAAAAAAAAAAAAAAAAAAAAAAAAAAAAAAAAAAAAAAAAAAAAAAAAAAAAAAAAAAAAAAAAAAAAAAAAAAAAAAAAAAAAAAAAAAAAAAAAAAAAAAAAAAAAAAAAAAAAAAAAAAAAAAAAAAAAAAAAAAAAAAAAAAAAAAAAAAAAAAAAAAAABOAEEAVgBFAFIAAAD/4QpeaHR0cDovL25zLmFkb2JlLmNvbS94YXAvMS4wLwA8P3hwYWNrZXQgYmVnaW49J++7vycgaWQ9J1c1TTBNcENlaGlIenJlU3pOVGN6a2M5ZCc/Pg0KPHg6eG1wbWV0YSB4bWxuczp4PSJhZG9iZTpuczptZXRhLyI+PHJkZjpSREYgeG1sbnM6cmRmPSJodHRwOi8vd3d3LnczLm9yZy8xOTk5LzAyLzIyLXJkZi1zeW50YXgtbnMjIj48cmRmOkRlc2NyaXB0aW9uIHJkZjphYm91dD0idXVpZDpmYWY1YmRkNS1iYTNkLTExZGEtYWQzMS1kMzNkNzUxODJmMWIiIHhtbG5zOmRjPSJodHRwOi8vcHVybC5vcmcvZGMvZWxlbWVudHMvMS4xLyIvPjxyZGY6RGVzY3JpcHRpb24gcmRmOmFib3V0PSJ1dWlkOmZhZjViZGQ1LWJhM2QtMTFkYS1hZDMxLWQzM2Q3NTE4MmYxYiIgeG1sbnM6ZGM9Imh0dHA6Ly9wdXJsLm9yZy9kYy9lbGVtZW50cy8xLjEvIj48ZGM6Y3JlYXRvcj48cmRmOlNlcSB4bWxuczpyZGY9Imh0dHA6Ly93d3cudzMub3JnLzE5OTkvMDIvMjItcmRmLXN5bnRheC1ucyMiPjxyZGY6bGk+TkFWRVI8L3JkZjpsaT48L3JkZjpTZXE+DQoJCQk8L2RjOmNyZWF0b3I+PC9yZGY6RGVzY3JpcHRpb24+PC9yZGY6UkRGPjwveDp4bXBtZXRhPg0KICAgICAgICAgICAgICAgICAgICAgICAgICAgICAgICAgICAgICAgICAgICAgICAgICAgICAgICAgICAgICAgICAgICAgICAgICAgICAgICAgICAgICAgICAgICAgICAgICAgIAogICAgICAgICAgICAgICAgICAgICAgICAgICAgICAgICAgICAgICAgICAgICAgICAgICAgICAgICAgICAgICAgICAgICAgICAgICAgICAgICAgICAgICAgICAgICAgICAgICAgCiAgICAgICAgICAgICAgICAgICAgICAgICAgICAgICAgICAgICAgICAgICAgICAgICAgICAgICAgICAgICAgICAgICAgICAgICAgICAgICAgICAgICAgICAgICAgICAgICAgICAKICAgICAgICAgICAgICAgICAgICAgICAgICAgICAgICAgICAgICAgICAgICAgICAgICAgICAgICAgICAgICAgICAgICAgICAgICAgICAgICAgICAgICAgICAgICAgICAgICAgIAogICAgICAgICAgICAgICAgICAgICAgICAgICAgICAgICAgICAgICAgICAgICAgICAgICAgICAgICAgICAgICAgICAgICAgICAgICAgICAgICAgICAgICAgICAgICAgICAgICAgCiAgICAgICAgICAgICAgICAgICAgICAgICAgICAgICAgICAgICAgICAgICAgICAgICAgICAgICAgICAgICAgICAgICAgICAgICAgICAgICAgICAgICAgICAgICAgICAgICAgICAKICAgICAgICAgICAgICAgICAgICAgICAgICAgICAgICAgICAgICAgICAgICAgICAgICAgICAgICAgICAgICAgICAgICAgICAgICAgICAgICAgICAgICAgICAgICAgICAgICAgIAogICAgICAgICAgICAgICAgICAgICAgICAgICAgICAgICAgICAgICAgICAgICAgICAgICAgICAgICAgICAgICAgICAgICAgICAgICAgICAgICAgICAgICAgICAgICAgICAgICAgCiAgICAgICAgICAgICAgICAgICAgICAgICAgICAgICAgICAgICAgICAgICAgICAgICAgICAgICAgICAgICAgICAgICAgICAgICAgICAgICAgICAgICAgICAgICAgICAgICAgICAKICAgICAgICAgICAgICAgICAgICAgICAgICAgICAgICAgICAgICAgICAgICAgICAgICAgICAgICAgICAgICAgICAgICAgICAgICAgICAgICAgICAgICAgICAgICAgICAgICAgIAogICAgICAgICAgICAgICAgICAgICAgICAgICAgICAgICAgICAgICAgICAgICAgICAgICAgICAgICAgICAgICAgICAgICAgICAgICAgICAgICAgICAgICAgICAgICAgICAgICAgCiAgICAgICAgICAgICAgICAgICAgICAgICAgICAgICAgICAgICAgICAgICAgICAgICAgICAgICAgICAgICAgICAgICAgICAgICAgICAgICAgICAgICAgICAgICAgICAgICAgICAKICAgICAgICAgICAgICAgICAgICAgICAgICAgICAgICAgICAgICAgICAgICAgICAgICAgICAgICAgICAgICAgICAgICAgICAgICAgICAgICAgICAgICAgICAgICAgICAgICAgIAogICAgICAgICAgICAgICAgICAgICAgICAgICAgICAgICAgICAgICAgICAgICAgICAgICAgICAgICAgICAgICAgICAgICAgICAgICAgICAgICAgICAgICAgICAgICAgICAgICAgCiAgICAgICAgICAgICAgICAgICAgICAgICAgICAgICAgICAgICAgICAgICAgICAgICAgICAgICAgICAgICAgICAgICAgICAgICAgICAgICAgICAgICAgICAgICAgICAgICAgICAKICAgICAgICAgICAgICAgICAgICAgICAgICAgICAgICAgICAgICAgICAgICAgICAgICAgICAgICAgICAgICAgICAgICAgICAgICAgICAgICAgICAgICAgICAgICAgICAgICAgIAogICAgICAgICAgICAgICAgICAgICAgICAgICAgICAgICAgICAgICAgICAgICAgICAgICAgICAgICAgICAgICAgICAgICAgICAgICAgICAgICAgICAgICAgICAgICAgICAgICAgCiAgICAgICAgICAgICAgICAgICAgICAgICAgICAgICAgICAgICAgICAgICAgICAgICAgICAgICAgICAgICAgICAgICAgICAgICAgICAgICAgICAgICAgICAgICAgICAgICAgICAKICAgICAgICAgICAgICAgICAgICAgICAgICAgICAgICAgICAgICAgICAgICAgICAgICAgICAgICAgICAgICAgICAgICAgICAgICAgICAgICAgICAgICAgICAgICAgICAgICAgIAogICAgICAgICAgICAgICAgICAgICAgICAgICAgICAgICAgICAgICAgICAgICAgICAgICAgICAgICAgICAgICAgICAgICAgICAgICAgICAgICAgICAgICAgICAgICAgICAgICAgCiAgICAgICAgICAgICAgICAgICAgICAgICAgICA8P3hwYWNrZXQgZW5kPSd3Jz8+/9sAQwAHBQUGBQQHBgUGCAcHCAoRCwoJCQoVDxAMERgVGhkYFRgXGx4nIRsdJR0XGCIuIiUoKSssKxogLzMvKjInKisq/9sAQwEHCAgKCQoUCwsUKhwYHCoqKioqKioqKioqKioqKioqKioqKioqKioqKioqKioqKioqKioqKioqKioqKioqKioq/8AAEQgAnQJ8AwEiAAIRAQMRAf/EAB8AAAEFAQEBAQEBAAAAAAAAAAABAgMEBQYHCAkKC//EALUQAAIBAwMCBAMFBQQEAAABfQECAwAEEQUSITFBBhNRYQcicRQygZGhCCNCscEVUtHwJDNicoIJChYXGBkaJSYnKCkqNDU2Nzg5OkNERUZHSElKU1RVVldYWVpjZGVmZ2hpanN0dXZ3eHl6g4SFhoeIiYqSk5SVlpeYmZqio6Slpqeoqaqys7S1tre4ubrCw8TFxsfIycrS09TV1tfY2drh4uPk5ebn6Onq8fLz9PX29/j5+v/EAB8BAAMBAQEBAQEBAQEAAAAAAAABAgMEBQYHCAkKC//EALURAAIBAgQEAwQHBQQEAAECdwABAgMRBAUhMQYSQVEHYXETIjKBCBRCkaGxwQkjM1LwFWJy0QoWJDThJfEXGBkaJicoKSo1Njc4OTpDREVGR0hJSlNUVVZXWFlaY2RlZmdoaWpzdHV2d3h5eoKDhIWGh4iJipKTlJWWl5iZmqKjpKWmp6ipqrKztLW2t7i5usLDxMXGx8jJytLT1NXW19jZ2uLj5OXm5+jp6vLz9PX29/j5+v/aAAwDAQACEQMRAD8A+ib7m1IPQugPuCwqD7Jbf8+8X/fAqe+/49h/10j/APQxUNzdQWdu095PHBCmN0krhVXJwMk8dTQAn2S2/wCfeL/vgUfZLb/n3i/74Fcf4Y1698QaxGXkto05vZIY7/zGVWUxomwLjChQzKT951bj7ldpLLHBC8szrHHGpZ3c4Cgckk9hTatoRCamroj+yW3/AD7xf98Cj7Jbf8+8X/fArj7JHtonv5pNRdrS1FwbWS/n+eeVt8duct95AFTBBLeapK9Ab93ewaV4PtYVvNkreWpM7C0muAJF89gJSpDMC5zkHLZzkg0+UlVNLs6H7Jbf8+8X/fAo+yW3/PvF/wB8CuR01bXUpp7fSnsIbW7lhL2FrLETDDHlpHkVHKsZDiM4/hK5zgiu0pNWKhLmVyH7Jbf8+8X/AHwKPslt/wA+8X/fArD1eKa/1O4hGmx6nDHAiQCUxvDb3B3EmVCwb7piOQCQpOPvHMnh6xvYriebUbyO+8hEs7eZV5ZUH7xzl2wxf5W6ZMQz2wW0FzvmtY2Pslt/z7xf98Cj7Jbf8+8X/fArhzNJdzLJNeX9ncXKmb7IbLUmMfTco2ygEKWAyoA6cDIFbIins/B10YLi/uJbltok8qfzIA5EZZEctIAo+fGSSQSCARh8pKqX6G/9ktv+feL/AL4FH2S2/wCfeL/vgVz3/Em/6mL/AMqNdLFGIYUjQsVRQoLsWJA9SeSfc80mjSMrkf2S2/594v8AvgUfZLb/AJ94v++BWLrV6V1y3srtr+Kye2eX/QkdzOwZQQTGDIgXKnIwG34J4wxpH7/UVn0ea7/s5VkjuftzTOZJAcAIJTuUqQ244wc45I+QtoTz62Nr7Jbf8+8X/fAo+yW3/PvF/wB8CuU122Osyi7WO9ltIcjbPp0Z2MV4VEkhaXBYKWcBsZGARuKa3heAjTnupFUNMwSMLghYowI02sFUFDtMgwqj94cDnJdtLgql5Wsav2S2/wCfeL/vgUfZLb/n3i/74FTUVJoQ/ZLb/n3i/wC+BR9ktv8An3i/74FTUUAQ/ZLb/n3i/wC+BR9ktv8An3i/74FTUUAQ/ZLb/n3i/wC+BR9ktv8An3i/74FTUUAQ/ZLb/n3i/wC+BR9ktv8An3i/74FTUUAQ/ZLb/n3i/wC+BR9ktv8An3i/74FTUUAQ/ZLb/n3i/wC+BR9ktv8An3i/74FTUUAQ/ZLb/n3i/wC+BR9ktv8An3i/74FTUUAQ/ZLb/n3i/wC+BR9ktv8An3i/74FTUUAQ/ZLb/n3i/wC+BR9ktv8An3i/74FTUUAQ/ZLb/n3i/wC+BR9ktv8An3i/74FTUUAQ/ZLb/n3i/wC+BR9ktv8An3i/74FTUUAQ/ZLb/n3i/wC+BR9ktv8An3i/74FTUUAQ/ZLb/n3i/wC+BR9ktv8An3i/74FTUUAQ/ZLb/n3i/wC+BR9ktv8An3i/74FTUUAQ/ZLb/n3i/wC+BR9ktv8An3i/74FTUUAQ/ZLb/n3i/wC+BR9ktv8An3i/74FTUUAQ/ZLb/n3i/wC+BR9ktv8An3i/74FTUUAQ/ZLb/n3i/wC+BR9ktv8An3i/74FTUUAQ/ZLb/n3i/wC+BR9ktv8An3i/74FTUUAQ/ZLb/n3i/wC+BR9ktv8An3i/74FTUUAQ/ZLb/n3i/wC+BR9ktv8An3i/74FTUUAQ/ZLb/n3i/wC+BR9ktv8An3i/74FTUUAQ/ZLb/n3i/wC+BR9ktv8An3i/74FTUUAQ/ZLb/n3i/wC+BR9ktv8An3i/74FTUUAQ/ZLb/n3i/wC+BR9ktv8An3i/74FTUUAQ/ZLb/n3i/wC+BR9ktv8An3i/74FTUUAQ/ZLb/n3i/wC+BR9ktv8An3i/74FTUUAQ/ZLb/n3i/wC+BR9ktv8An3i/74FTUUAQ/ZLb/n3i/wC+BR9ktv8An3i/74FTUUAQ/ZLb/n3i/wC+BR9ktv8An3i/74FTUUALff8AHsP+ukf/AKGKr31nHf2MtpOWEUy7JApwWU/eX2BGQcc4PBB5qxff8ew/66R/+hiorlp1tZWtI45bgITFHLIUVmxwCwDFQT1IBx6HpQG4y2s47Vrh0LM9xKZZGY8k4CjpxgKqqPYc5OSa+raWdWtHtWvbm2hkRo5VgEf7xWGCCWViOM9Mda4fR7/UU+A1/rmsm4F3daNJqLzWuqSPLIWtQ5dGdMW7E5IRFKIcbc9K6jxncz2uhW0ltNJC7atpsZaNipKtewKy5HYqSCO4JFArJqxInhmNLrz5L+7uHkuVnuPOfiXYo2Dam1VIZI23BcnbgnBNT6zpl5qXki0v/sqJuLpiT5ycYO6ORGGOeMkHdyOBWF4o8fQeH9eGkrLokFwtsly7a1q4sFZXZ1URny3LkGJt3AxlOuTiOw8fXOuXEX/CP6TbzxvZw332a81AW97LDJGkm+GHYyuo8wJuaRF8xXUkBdxd2TyRtY3NI0W5067aa6u47rKFFJWZnXkHhpJnwDjkADOFz0FbNFcV4f8Aiho/iLXLfSrOHbNcbtp/tTT5sbVLH5Irl3PA7KfU4GSC9yoxUVZGnd+C7K91C5vLi4keW4k3t5ltbSY4AABeIkAAAYz+pJrRh0dLPSYbDTrqaySJi2+FY8sSSW4ZCoBJJwAAOgwOKsahfxaZYyXdylw8ceNy21tJPIckDhI1Zj17A4HPQVi/D/T47DwHo58q3F3dWcFxezwMj/abhol8yZpFJEjMRkvk7uuTRdkqEU7otNoE7Xcd02u6iZo0aNG2W/CsVLDHlY6ov5Van0+5l8vy9YvYNiBW8tITvI/iO6M8n2wPYVfoouPlRnRaZdxzI765fyqrAlHS3ww9DiIHB9iDWjRRSGlYxm0CdruO6bXdRM0aNGjbLfhWKlhjysdUX8qtaVpZ0uKSMXtzdLJI0mJxH8rMzMxG1V6liec+2Kv0U7iUUnc5g+EpWeRriTSb53kZjPf6UJZmBYkBmEgBwCAMAAAAACugsbOPT9OtrOEs0dvEsSFzkkKABn34qeihtsUYRjsFFFFIsKKKKACiiigAooooAKKKKACiiigAooooAKKKKACiiigAooooAKKKKACiiigAooooAKKKKACiiigAooooAKKKKACiiigAooooAKKKKACiiigAooooAKKKKACiiigAooooAKKKKACiiigAooooAKKKKACiiigAooooAW+/49h/10j/APQxSUt9/wAew/66R/8AoYpKAOc/4RL/AItd/wAId9t/5g39l/a/K/6Y+V5mzP47c+2e9aOu6T/bWnRWvneR5d5a3W7Zuz5NxHNtxkdfL257ZzzjFaVFAGBqOiap/b0uraBqdnZ3FzbRW1wt7YtcqyxNIyFAssZU5mkzktn5cYwc0tc8I6nrUKWc+t281kNjeZd6asl5BKE2Ga3mRkWKTqyt5bFXZiPlwg6yqzpdnVIJI5UFmsMiyxkfM0hZNhHHQASZ5/iHB7A0rlmise18SW11cMn2a6hgFw9p9qljCxGZZCmzOc8kcNjaSQud/wAtUNA8UvLoelTa7bXFobq0RzfXBhEUziLzGPyOSoKq7fMqgAdjgVPOjb6vUs3bb/g/5HT1i+EdMvdD8L2Wj6gLc/2bDHZwTQSs3nxRoqrIwKjYzYJKAsB/eaoNU8UNa6DqV1b2NxHd21pJcwQXSBDMij/WAbh8oJBZSQ6jGVBZQdJ9VEGnx3F1aXEE0rbI7NijTO/OFG1iuSATndgDJYgAkHMiXRmkm15F+isHU9YmfSre406T7NImo2tvdQzRgyIHmRHjPOFOHB3fMCpyvDK1at0l29xZm1lRIkmLXKsOXj8twAOOu8oe3APPYnMJ02ld+f4Fmiqzz3K6pBAlpvtHhkeW680Dy3VkCJs6ncGc5HA8vB+8Krf27bfbvJ2S+R5nkfbMDyfOzjyt2c5zxnG3d8m7f8tNtLcycktzSorAtPGGn3GmpqFxDd2NnLbG5hmuotolUJvcKAScqATggbgCyblBNFx4qWzXbfaRqFtO+3yLdzCzT5lSL5SshUYaWPO4r97jODiPaQte5n7aFr3/AK/rbub9FcxrniKf/hFrt9PWWw1E3cGm/vlRms5riSKNJCAWR9onSTaCQfukg5xtTWlxDptvbaXMUaF4F33EjSM0Suu8Fm3MzFAwyckk5znmrvdXRrG0rWLtFcZ4wvru11C1t7GK5Y3c/ltJbeVvQCJnwvmHbk7e4IwG6HbTZbi5TxPa24lX7LLZzSGMJzvV4hkt6Yc8cd854xqop/h+Jr7J2Tutbv7jtaK5yss6mtrFrVzcPJLFYOWKCMAoogRyq8/N1JyccnHQA1TppbsiMXPb+uh29FcUmt2wVzdJNaFV3os8eGlQkAMqjJJJIG3G8FlBUFhm5pmpXOpWur2OnxTWGqRWqtGbpF2xu4kEZyNwYApk4yO3UECJRjFXuWqM+q0OpoooqDIKKrOl2dUgkjlQWawyLLGR8zSFk2EcdABJnn+IcHtWg1pLnWbjToLO6c2sgjnn2qIoyY1kXksC2QwGFBIPUAEEq5ag2rr1NKiue8L+IW1LR9LN/HcR3F1aRstxNGES6k2AvsA6EHJwQu4Asu5QSNSG0uJtNuLbVJi7TPOu+3kaNliZ22AMu1lYIVGRggjOc80lJPYqpSlTbUuhdorF8I6hc6j4ahfUJfPu7aaeynn2hftD28zwNLtAwu8xl9o4XdjJxmtqqMgorL8Qawmi6Z53WeeQQWy+WzhpWztBC844ycc4Bxk4BfouqHV7aa7RGW2aXFsXieNnj2rhjuHIJyQRxtI75AdtLk8y5uXqaNFVbnUrS0u7e1uJds9znyYwpJfBUHGB23An0GT0BIoHxFaReI5dNuJ40A8qKMkHPnMGYoT0GV2Fc43EsASQQCzByit2bNFNJk85QFUx7TuYtyDxgAY5HXnPGBwc8VYNXsblbp4rhSlozLO7AqsZUkMCx4yNpJ9sHoQSh3RcoqhHrVjJbyzb5IxDjeksDxyfMcLhGAY7jwMDkggZPFH9tWP2T7Rvkx5nl+X5D+bvxnb5eN+dvzYx935unNOzFzR7l+is7RdUGs2015blXsnlxayqpUyIFUEkHkHfvHQcAfU19S8RWml61Da3k8cUJgMkzMDlCzqkZJ6BSd4LHgELkjIyWYc8bX6GzRUEtwFvoLZZVWSRXkKMhJdFwDg9AQzp1zxnjuKsWv6dPfLaQzs8rSvB8sL7RIm7chbG0MAhOCc4wehGUPmS3NGiqdnq1nfTGO2kZm271LRMgkX+8hIAdeR8y5HI9RTLfW9Pu9PS+t7jfbSSJGkoRsMzlVUDjnlgD6HIOCDh2YuZdy/RUUdzFLcSwxtueHHmAA4UkZAz0zjBx1AIPcZlpFBRRRQAUUUUAFFFFABRRRQAUUUUAFFFFABRRRQAUUUUAFFFFABRRRQAUUUUAFFFFABRRRQAUUUUAFFFFABRRRQAt9/x7D/rpH/6GKSlvv8Aj2H/AF0j/wDQxSUAFFFFABRRVZ3uxqkEccSGzaGQyyE/MsgZNgHPQgyZ4/hHI7g0rmDYaNqkkLWWoC3isRqct6rIx84gXTTRpjlcEhWLZzg7doPz0S+FZbvwtoej3cqBbOHybpomOSptJIDsJHXMgIyOn5Vq2viDTL2+a0trnfKsjwn92wXzEJDR7iNu8bSduc7Ruxt5qn4d8UQazpunNOJYbu6t0kIe0lijdym5ljd12t3IAJJAJ5AJrK0Njtc8RrK1ra7d76/mMvNCvtZguxqs1vDK9hPYQtbBmUrKF3SsGxg5RcICduD87ZG25dWd9fWlncyR28Go2UxnjiWZpIWba6bS+0HBRzzt+UkHDAYMN74qsLfQdR1O0L3YsYTKY1jcGQYO1l+XmNiDiQArgMc4Bxf/ALVtRpf9oSGWKD0lgeNyd20Dy2AbJOABjJJGM5FP3e5EnWSV49bLT718/wDhjNk0O5m0+Yu8Qu7vUba+nAJ8tPLeHKKcZOEhAyQMtk4UHA3qypry+1BLZtBkt0hkV2kuriFpAjKQvlmPcjBiS2cn5TGQRk8M07UdQv7HTriOGJ0luJI7iVeFaFRIFmQE9HZY2HLfK/U/epqyehMlOUbt7fh/Vi+9nv1SC9+0XC+TDJD5CviJ97IdzL3ZfLwp7B39ayf7Cud32HfF/Zn237f5mT52/wA7z/LxjbjzOd+c7fl25+etZ7zZqkFl9nuG86GSbz1TMSbGQbWbszeZlR3CP6Uz+1rL+1P7P87/AEnpjY23dt3bN+Nu/b82zO7b82Mc0SUXucc1F/Ecva+FtV1LwfYaRrT29oLSw8mN4Mu/mPbtD869AEWRhwx3nDZQDaZo/C0rYMGh6DpDLPbuWsss8ipcRysC4jTaMRnjB3EjldvOzY+J9H1KAz2l8hgEP2jzpFaNGjAG5gzAAhcgNj7hOGweKjbxVpSQvJM13Ds24Sawnjkfc6oNiMgZ/mdQdoOCy5xkVjyUrbnOoUbb/iv6/rUp6t4cu73TdcS3khF1c30OoWHmMdglgSBohLgZ2mWAbgvO08EHp0NtK89rFLLBJbvIgZoZSpaMkZKnaSuR0OCR6E1iaz4lWDwvcX2kYe7Msdnbx3UToI7maRIovNQ7XVd0iM3GdhyAcjOlMt9aabbx2jG9uEeCOSS42hpE3qJHO3au7ZubgAZ6DtW6slodUEnpHqYuu2klzrVlLGVC2tz5rgnkgwunHvlx+GarS2kj65a3gK+XDbTRMCeSXaIjHt8h/StLxNqq6X9iiihzcX0xiWb7DJciMKjOSUj5Y/LgDIPJbkKaj1ibUrGO9vYYLGO1tMeVbyW5eS9O1SAjhxsLM3lgFWORnnIFa+1ilax1RhUfK9rppfl+bIV8/wC1ybvL+z7F8vGd+/Lbs9sY2Y/4F7ViTWF5daD4gxbNFPqSyGG3d13g+QsYDEEqCShPUjBGccgd/wDZoP8AnjH/AN8Cs1b21hXWJ737Mtvp0h3NHExMaCFJDu45PzE/LkYK981UqkWtSaUpp3gtdPzX62OUvNMvb0G5v0jknt02QJaybS37xHMnzjAbMalUOVBGGZg2RqeDbfUTqOpX+qKyPPFBEqMiJjYZTwqu+F+cdWJzu6DArattT0e7gnmhkhEVuu+SSRPLUR4JEgLAZjIBw4ypwcE4NQLrMF5Y6inh1Vl1O2t/MFrNC0JDsG8tXVgpXJU8HBwQehBOcpQeprzVXB03Gy9NtvuLupy6hHHbLpMEcsslzEsryn5Iod2ZGPIOdgZVxn52TI27iLtFFI4wqhp9jLaX2qzSMhW8u1mjCk5CiCKPn3zGfwxUzvdjVII44kNm0MhlkJ+ZZAybAOehBkzx/COR3hTWrCXVpNMileS7hbbLGkLsIiUDjewGFBU8EkAnIGSCAnbqaRU7Pl1utfS5laJoepW9no1rq72pTR418p7UsTM4hMXzBh8oVXYcEljhvkxtPQXMrwWsssUElw8aFlhiKhpCBkKNxC5PQZIHqRWR4a8SW+vaXZSeYn2ua0SaRURlQsVG/YTwwVjtOCdpwGwavQrfXem3Ed2xsrh3njjkt9paNN7CNxu3Lu2bW5BGeo7VMbW0NK/tHN+00a/4Jk2Gn6voPgZoLKK3utck82dl3f6OLueVpHPJVvJWSRjj7+xcDc3Xo6yfDGqz6x4egub1Y0vI3ltrsRAiPz4ZGilKZJOwvGxXPO3GcHIrWqznMHXdBn1e7E0VxJAYoCkLJdSpslY483apAyilsf395BIABrXsbKDTrGK0tFZYIV2xqzs5UemWJOB29BxU9FO7JUUncpxWcn9sz3sxUqYkhgXOSgBLM3sWJAIHaNTnsKFjpN2LqOS/8kCG5kuw0Tl3kkdWXDEqPlRXKDqSFU/KBtO3RRcOVETLKiTNE3mu2WjSRgqg7QAuQMgZGcnJ5PsKybrRJj4Zt9OgkWeWFoncvI0IuGVgzMzLllYtl9wOd2M5GQduii4OKe5zEnhq5jhSaA+fdSTq86zX8w2RqjhY45iGdcF85GC2X6BtoisdB1nTLK0a2j06W8T7VJMJJpPL86VwUkyVLOVXK5JDYYjdzXWUU+Zkeyj0KekadHpGjWmnxbStvEsZZU2hyBy2PUnJPuaoNpN3cajO1z5It5rmKcurlpFERUxxDKgBdy7yc8F3UDnfW3RSuXyqyRQ+yTjU7q+xHI3kLDbRs5AGMsxLYO3cSoOAeI1PPQZlz4bnl0yOzE0cggsXiBkyBcTvjc7jkrkBgWBLETPgg8noqKLicE9znYvDtytvdTCeSG+nga2iJvppltUYjcys/JbgN0X7qrxyxs6vC01tBpWmReVKskEqMYG8iFI5FbkjAP3MBAc8joMsNmii4citZEFjZx2FjFbRFmWNcF3OWc9SzHuxOST3JJqeiikXsFFFFABRRRQAUUUUAFFFFABRRRQAUUUUAFFFFABRRRQAUUUUAFFFFABRRRQAUUUUAFFFFABRRRQAUUUUAFFFFAC33/HsP+ukf/oYpKW+/wCPYf8AXSP/ANDFJQAUUUUAFFFVnuZU1SC1W2dopYZJGnGdqMrIAp46sHYjn+A9ewNJvY5uws9Ru7NtNmsHtoV1eW8F27jBjS9aVRs4bcxUY427W3bifkplx4avb/wX4f0iVfIkht/IumyreRmylhJxn5sM4GAf05rp4tSsZ7s2sN5byXAVnMKSqXCqxRjjOcBgVPoRjrVDw/4n03xDY20lpeWrXUtuk8tpFcLI8OQMggc8E4yQOay5Y7Nnb7atrKMbJO/zd9f600KGp6XqPiCC8M1slhL/AGZdWEaySh1kkmCZcFekYMYwSAx3HKrgbr97HdX1vp2oR2UsU9jcG4+xSsgdx5ckZXcrFQcSFhzgkAErkkTX3iDTbDR7/Unu4pYLDes/lSKSrr1j64D5IG0kHJA71Zi1Kxn0838N5byWYVnNykqmMKudx3ZxgYOfTFVZX3M3Opyr3dFp167r5/f2ObuLPU1uJJJ9KuLqy1OZ7m7s7eSLehWOGOOJy7qGUqjM4UkZwuWXO/p7SeS4tUlmtZbR2zmGYoWXnHOxmX34J61Tu9SuW+yjRbWK++0xtMszzmOAINuP3iq/J3gqMYIDHPHLLTWZbuCxdLJyZ7uW1uNrFlgaMShmzjld8W0E7c7geDxSVkwqc84JtLT/AIPn5dr6Fx4LltUgnS72WiQyJLa+UD5jsyFH39RtCuMDg+Zk/dFYf9k3vl/2T5P+jf2j/aH27eu3b9p+0eXszu37vl/u7fm3Z+Stx9Qto9Ug055cXdxDJPFHtPzJGyK5zjAwZU4Jyc8dDilaarPf+JtQs7dY/sOmokU8pBLPcuBJsHIwEjaNicEN5wAIKMDUoqRxSgpbnMQaJq+u+BdM0q4sv7Oks9OKiSd8iR3tHhVcD5lx5hL7gCpXaA4O4WX0OW6kimttG1O3lintz5mpamZ22C6hkcIvmyDG2IknKn5VADZOOrtbmWe4vI5LZ4Vt5hHG7ZxMpjRtw46ZYr35U/QY9j4rj1W3vp9JS3vlgmWCFLe5DyMxkMe+RVU+XHkbgwLZTLY4xWHsoLRsUcC5Lvt267FPWtE1C50vX2tbfzbg6nbalZw71H2o2620gj3E4Te8BTcfu53YI69TbTpdWsVxEJFSVA6iWNo2AIyMqwDKfUEAjuKo6bqVzcX1zY6jaxW91BHHMRBOZUKOXC/MVU5zG2RjGMcnJAs3901nbrKiJIWmiiw8ojADyKhOT3AbIHUkYHJFbxslobeycJcnX/PUrapaTXGo6NLCm5La9aWU5A2qbeZM+/zOo49aoTzagniCea40S9vordgLFreSARqpjG58PIp8zcXXJHCjAxubdsT6lY2s6Q3N5bwyuyIsckqqzM5IQAE8lirY9dpx0outSsbF0S9vLe2aRXdBNKqFlQbnIyeQByfQUml3NozmrLlvpbr6/wBeQ9ZJjfSxNb7YFjRkn3g72Jbcu3qMAKc993sa5i6gnvPC3i+aC2uCNQWVrWN4WSSQfZI4/wDVsAwO9GABAJ6jggnpEuZX1Se1a2dYooY5FnOdrszOCo46qEUnn+MdO9mm1zIUKjpSvbt+jOV1WyvdUZdQvbOWzawj2okW24MknnQy+YFUgtGpgXjiRwWAVSF3TeHJb7UNc1HU722+zxzW9vBGvlSptKNMWH71UZv9Yp3bFHzbRkqSdtNSsZUkeO9t3WKf7PIyyqQkuQvlnnhssBt65I9aZ/bGmf2X/aX9o2n2D/n689fK+9t+/nHXjr14qbK97g8UnTcLL/JXTf4oTU76eyjtvsllJeTT3MUIjTICKW+eRmwQoVA7c43FQoO5lBu1my+JNDhtYLmbWdPjguN3kyvdIFl2nDbTnBweDjpUeqarPBrGl6VYLG1zeu8spkBIitoseY+MjJLPFGBnIMobDBGFWmnsc6knszWrN0u0mt9R1mWZNqXN6ssRyDuUW8KZ9vmRhz6VZe5lTVILVbZ2ilhkkacZ2oysgCnjqwdiOf4D17UG8RWx8VroUMtqZ1jEkyyXIWQbgxVUTBLnC5YErhWU85pNrqbwjNp8q6fhf/gGboOnam2n+HrTUrH7EdGjRpH85ZBM3kNEFXac8ByWJxgqAu8HcOmuZ0tbWW4lEjJEhdhFG0jEAZOFUFmPoACT2FZFrrd89xYfb9NS1t9RbZb/AL9jMreW0gEsZQBDtRs4ZsNgcjkbdKFraFYhzc7ySXp6vzfW5y+krqHhzwFJPJp0lxqkr3F6NNjbJFxczPKLfeuRhXlCGX7oALnaucdRVC31aBtHtL+/lt7MXEKykNcKyKdm9gH6MAoY5HGFJ6VNLqVjBp4v5ry3jsyquLl5VEZVsbTuzjByMeuaq6MnCSdrFmiqct/iazW0j+1Rz3DwSyxNkQbUcknGejJswcYLevFXKZLi1uFFFVrW5lnuLyOS2eFbeYRxu2cTKY0bcOOmWK9+VP0ACTZZorKufENjHb+ZZXFvesJrWN0hnUlFnkRUY4zxh9w9QPxqafVY20G41PSdmprHDJJCts4cTsoPyqVzySMcZ5pcyL9lPTTyL9FZPiXVZ9D0dtVjWN7azdZb4ODlbYf611IPBRSZMYYsEKgZYEa1MzCiiqyXMr6pPatbOsUUMciznO12ZnBUcdVCKTz/ABjp3BpNlmiqceoJu1BrkxQQ2Um1pTMpG3y0cs39zG48HsAehFPTUrGW0kuo7y3e3iXfJMsqlEXaHyTnAG0hvoQelK6HyS7Fmiq0WpWM+nm/hvLeSzCs5uUlUxhVzuO7OMDBz6YqGXXdIgtBdTapZR25ZUEz3CBCzKHUZzjJUhh6g56UXQ1Cbdki/RWbquqfZ9CN7p7RTvP5cdq+d0bPKypGxIPKbnUkjnGcZqy90yapBaBEKywySlzKAwKsgACdSDvOSOBgA/eFF0HJK1/X8CzRVaLUrGe7NrDeW8lwFZzCkqlwqsUY4znAYFT6EY60y31fTbu+lsrTULWe6hz5sEU6s6YODlQcjB4570XQuSXYuUVWg1Kxup3htry3mlRnRo45VZlZCA4IB4Kllz6bhnrRp1zLe6XaXVxbPayzwpI8D53RMyglTkDkE46DpRdA4ySuyzRWT4m1WfR9E+0WixtcS3NtaRGUEqjTzpCHIBBYKZNxUEZxjK5yLJuLu1XTYZ4xdyzv5VzPBGUSMiJ2Mm0ltqlkCgFjjeOT3Ykm9i7RWIdV1e41K/t9N02ylisplhMlxfPEzMYkk+6Im4xIB17Vq/bLbyfN+0ReX5nlb94xv37NufXd8uOueOtJNMuVOUbX6k1FVrXUrG+d0sry3uWjVHcQyq5VXG5CcHgEcj1FMttQSTT5ru6MVvHDJMrt5ysqrG7LuLDgcLkg/d5B5BouieSS3Rcoqm+r6bHa3Fy+oWqwW0hinlM6hYnBAKsc4U5IGDzyKY+u6RFp8d/JqlklnK2yO5a4QRu3PAbOCeD+Rouh+zm+jL9FU5L/AC2ntZx/a4LyTaZ4mysaeW7iTIyCCVVew+cc9i99Qto9Ug055cXdxDJPFHtPzJGyK5zjAwZU4Jyc8dDhkuLW5ZoqslzK+qT2rWzrFFDHIs5ztdmZwVHHVQik8/xjp3ytP8Q3N22mzT2MUNlquPsciXJeTmNpV8xCgC/IhzhmwcDkchcyLVKbTa6f8Ob1FZpm1K/0iZrHytNvRNJHG15A0yBUlKhigZCQyrkfMMbgeQOaVrreoax8PrPX9GsYzfXdhFfQ2MkmQ5ZFk8nf8oBIJQOeASGKkDaWQ007M36KradqFtq2l2uo6fL51peQpPBJtK70dQynBAIyCOCM1ZoEFFFFABRRRQAUUUUAFFFFABRRRQAUUUUALff8ew/66R/+hikpb7/j2H/XSP8A9DFVdQe9jsZH0q3t7m7GPLiuZ2hjbkZy6o5HGT905PHHUAFmiqWi6rBrug6fq1osiW9/bR3MSygBlV1DAEAkZwecE1doAKKKKAOJ0tPtVs9nZWMsN2Ndnu2uvJ2oUW8fe/mDjJQNFt++QcEbPmom0vUrjwP4XsrNZba9S3EZchkNs5sJkDMQMph2UZ6g47121FZ+zOx4p3ul1v8An/mcfqNjNq9jfJo+nS2aLo1xYG3ljEG+VgvlRgfdYJhxuB2DzPlY5bGrqUhv7TTr+3huJLS3u/PuIHt3SR0VXUHymAYlXKOBjPyZUE7QduinykOu3bTb9d/+B2OVVo4o7v8AtXSJZ9H1K4eeOI2jzGL5YtoaBVYje4llyRwcbsO2Bq+G4ZYNDRJY3iXzp2hjdSpSEyuYl2nlQIygCnG0cYGMVq0U1GzuTOtzR5bf1/W5Wf7b/akHl/Z/sHkyedu3eb5u5PL29tu3zd2ec7Md6xdF/wBA8Z+IrK5+WTUJotTtj0WSLyIrdgM9WR4csBkKJYuctgdHRVGAVg6ZJc6Z4fuJfsUsrrqN07RbSG8prtyXAwS2EO8ADLYAHUVvUUmi4zsrNdV+H/DnMaSbfT59WvdJ0u4g0tLSJktYbJoGkmUymTZCwUlipiG7HzYAz8vFzxPNGbWzsxIn2me/tXig3DfIqXETOVXqQqgscdAMmtuip5dLGrrXqKpbb9Dlb2W2i8b6h9q0uW+87SreAeVbiXIaSfMR/uh8DlsJ8vzMOM89rLNpvh7U9D1JrfVNVvrCOMGecBzIkCqFVZPnlBkDPGUDZkdwdhBY+l0VLp36mtPFcjT5e3XtYKxZ7x9f0fXLTRnkgnhMtlDdE7Uabyx8yOuThHYoSOQ8bjGVraorRq6scLV1Y4LxFCl5bQzW2kSxWNv9ls7iylgWLz2+2W5SEKSFcIBIA2fL/e/KxBbE2qW1ze6tFrVn/aFjYC5iZnhtD5+5YbiNpRAyMxz5kMeSm7CZwFVWrt6KxdG7vc53h7u9/wCkcjoliyeKYr6P+07iO4hu2lur+3ETM5+yKvyhE2jERADKCdjHkYJqafDLpM3ge+v43hiTSm0mUOpUwTTLbum/ONoLW5j553yRqAd3Hc0Vcaai7mkKai7/ANdP8grKt4ZV8YahM0biJ7C1RZCp2swkuCQD6gMufqPWtWirsbxlZNd/87nKwNHf6/pl5b6RLY6mJC2pubR0+TyHUxmcqFlAk8vGCQdoYDAyN46pbRafJe3zfYIIpHjd7siIDa5QNknGGIBU9ww9auUUkmjSdRTa028ziSn2Pwz4HW/sZZWt5IDJb+TudGWzlOdh5ypG7A+bK8AnAonuU0XUF1q9HlWUtxNLa2U7LBt3pEvmDzCqJIWWVtjFWKzSH7wdD21FTyG31rW7Xfr3bf6mD4Li8rwvEBBFAjXFy8ccBzGEa4kZdhwMoVIKnABBB71otqsA15NJVZHuGtmuXZACsKhlVQ5zlS5LbePm8qT+6au0VaVlY5qk+ebn3dwooopkHGHS2i+FekWI0p5mVbAz2KwgM5E0TSgq2Bk/MW3YHUk9TW3pIe41i/1KKKWCzuY4URJomiaSRN4eQowBGQY0ywBPl9NoUnYoqFGzOmWIcotNbtv77f5HOePv9I8E6jpUXzXeswvplqg6tLMpQHHXagJkcgEhEdsHFa13qsFnqWn2DLJJcX7uqLGAfLVELNI4zkICFTdz80kY/iFXaKs5gooooA5XUrO5k0PxtGlvKz3PmeQoQky5solG0fxfMCOO4IrNtLLULd9akFlKN0iMrNb7iFGo3TtIikEM6owkUYPOw4OQD3lFZ8mtzsjimoctu34W/wAjgIZ2tI7671F73yodXju86nCIBdx/ZlVMvtWJSGXcobbh0jVtjMCK1iJJ9Zn1u2N1p1jPcXJWbSYUuy5kjtCPuxyA5MUm5lBAdSNx/i9Iopez8y1jEvs9LfL0tY5XS7ZH1LTLOI3TR2Xn6lK92qpMZJnkWMsAAAHD3DbQAV2ruCng35Jo7jx1apBIkrWlhcJcBGBMLO9uyB8fdLBWIz1AOOlbdFUo2VjCVbmlzW6P8b/5s4nS0+1Wz2dlYyw3Y12e7a68nahRbx97+YOMlA0W375BwRs+aqdhpkz6DY2FzqPiCO70+yZdosAIrOQW7xFkdYlaXbvIUI7FjgjIyw9CoqfZm31t62W+v9XRxmhX9rqvjC1m060so4rPTJrWSSzuI5lX95CUXMfSPAfZu2scP8i456bWNVg0TR7nUblZJEgTcIogDJM3RY0BI3OzEKq92YDvV2irirHPWqKo00rW+Zy/juBE0qz1QmQHT7+0kcmRvJSH7VD50kkedjBIwz73B8vbvUqRuHSW1zBeWsVzaTRz28yCSKWJgyyKRkMCOCCDkEVJRVGJxksNjF4i1p9Uj11Glu0eI2K3wjdPs8K5/c/KTuDD14+lWfsdz/wln9qfZ5f7P+27PJ2HPneT5X2v+9j/AJY7Mbcfvc45rqqKz5Dr+su3ytv0027bHE+Ek+06L4WWxsZbM2FuslzI0Plq6PAflVhw+92SQgZHyZfawANyazuT8O9ethbymeX+0/Li2Hc++WYrgdTkEEeuRXVUUKFlYJ4lynzW63/Fv9TnvElk0dtpBsftFpb2N3uZrCASPDH5EsY2R7GyMuq4CnAOeAMjNS3jtAdUim137TNNIy302niRnykSlHgSMOIz5Kc7Eb92cOu5S3Z0U3C7FHEOMUmv+G+7/geRQ0VpZNJiee1S1kdnZkSMxh8uT5mw8qX++VPzAtg5INTP9t/tSDy/s/2DyZPO3bvN83cnl7e23b5u7POdmO9WaKpaI55Pmk2FcfpCyva+FtN+y3SXGk7ftnm20iIm21kiOJGAR/ndR8pOQcjIBNdhRScbsunU5ItW3/ya/UrahqNlpNjJe6reW9laRY8ye5lWONMkAZZiAMkgfU1y/hiVPCnwqsNQ1OC8W4FhDcXFmSxk+0NGg8iKJiBGS+ESFAqhiFVRnFdjRVGRk+FNKn0Lwbouk3bRvcWFhBbStESVZkjVSQSAcZHGQK1qKKACiiigAooooAKKKKACiiigAooooAKKKKAFvv8Aj2H/AF0j/wDQxSUt9/x7D/rpH/6GKq6hp1lq1jJZarZ297aS48yC5iWSN8EEZVgQcEA/UUAYHw3idPhzoUrTySJc2FvPFCwXbao0KEQx4AYovQFy7/3mauooooAKKja5gW6S2aaMXEiNIkRYbmVSoZgOpALqCe24eoqSgAooooAKKKKACiiigAooooAKKzbXWo7zXLzTba1uHWxwlxd/IIklKo4iwW3ltkiNkKVwcbsgipv7Wsvsn2rzv3P2j7Lu2N/rfN8nbjGfv8Z6d+nNFxqLeyLlFVtR1G00nT5r7UZ0t7aBd0kj9AP6kngAcknAp91dw2UKy3L7EaRIgcE/M7hFHHqzAfjSuhqMnay3JqKKha7hS+is2fE8sbyomDyqFQxz04Lr+f1piSb2JqKKrWeo2l+9ytlOkxtZjbzbOQkgAJXPqAwzjoeOoIoCzauizRVCbVB/Zc15ptpcamYpGi+z22xZHZZDG4Hmsi8EN1YZA4zxmbTtQttW0u11HT5fOtLyFJ4JNpXejqGU4IBGQRwRmgGmnZlmiiigQUUUUAFFFFABRRRQAUUUUAFFFFABRRRQAUUUUAFFFFABRRRQAUUUUAFFFFABRRRQAUUUUAFFFFABRRRQAUUUUAFFFFABRRRQAUUUUAFFFFABRRRQAUUUUAFFFFABRRRQAUUUUAFFFFABRRRQAt9/x7D/AK6R/wDoYrlviJePYeDWuE1OTSQL+wWS+jkVDBG15CrtlgVxtLZ3ArjOQRkV1N9/x7D/AK6R/wDoYqrf6fbanbrBexebGk0U6ruIw8UiyIeD2dFOOhxg5FAHDXV1d6f4h/4Rm1vbw6E9zawXF9JcySTWrTR3DNB9pYllLNHagbiZB9rAVl3RbYpE1HUrifT7e8uNQsdLvJ4YLSPVZLS6vYUjgLSJcIwaZoZHlg2syqzFfNcOm491Boul2ujnSbbTbOHTWR4zZRwKsJVs7l2AbcHJyMc5NRXnh3RNR0uDTNQ0ewurC22+RaT2qPFFtXau1CMDCkgYHAOKAOKsLKw1bx14Zuo7rV3+z6ZqSbbi/lWSN4Lu2UxSbH2ybGLoxO8SBFLNJgNXo9UpNF0uW1sraXTbN7ewdJLOJoFK2zIMI0YxhCo4BGMdqpah4T07U76S7ubjV0kkxuW21q8gjGABwkcqqOnYDJ56mgDjtJvp47aTVrbW7y/1M+KLjTDZSXZljWE37q0PkjgFICZg2N6qg+byhso8Faxdz+MtPQTyGz1jQ5dVCXOrSXdxKpkg8qWSFkCWxIkk+SH92TuA4jWu5sPD2kaZeNd2WnW8V2/mhrnZmUiWVpnXefm2mR2bbnAJ4Aoh8O6Jb3y3sGj2EV2k0tws6WqCRZZQBI4YDO5wAGPUgDOaAOK0MSWfwd0vU7vUtXvtQ1iz06OWWTUHDPJMY40UNyIVJlCtJGvmbcvlpAGrmNZ17WLPwpqKwajJby6Prl3HD9k1WW8EZh0eW5EbTuFeYCcbmSQEZGwgqoFey/2dZf2X/Zn2O3+weT9n+yeUvleVt27NmMbdvGMYxxVJfCnh1VdV0HTAJEWNwLOP5lWJolU8cgRuyAdlYr0JFAHHQpqOraNZRC8uL1bS81OFtOj1WSzuriGC8aKORJkYPI0aKE2uwV2lVncEAnsfDFzBdeHoGtpryVI3lhIvmDzRNHIyNE7DO8oylN2W3bc7nzuMl74d0TU7EWWpaPYXdoJmuBBPapJGJWLFn2kY3EuxJ6ksfU1etraCztYra0hjgt4UEcUUShVjUDAUAcAADAAoA47xBpnjm41y4l0LUvIsG2+VH/aMEWPlGflbT5SPmz1kb8Og7WiigDl/Bqzpf+J0vpI5r5dWUXM0MZjilb7HbEFIyWKAIUBBdslWbIDBVteKFS08PqbW23Y1G0kEMIVS7G7jY4yQMsSTkkcnJNaMWkWcGsTapCkkdzOgSbZM4jk6De0edhfCqu8jdtULnAxVqWGOdAk0aSKGVwHUEBlIZT9QQCPQik1dWNKc+Sal2aZyuozS3fgHxFd3cji8ewnSe1LHbaMImPlAeoDZL/x5DD5SgHVSwxzoEmjSRQyuA6ggMpDKfqCAR6EUyWztpvO863ik8+Pypd6A+YnPyt6j5m4PHzH1qaklYqdRSStpr/l/kZupx2z6jo7XNlcXMiXjNbyxKSts/wBnmBkkwRhShdOcjdIvGcEXzDG06zNGhlRSiyFRuVSQSAfQlVz9B6U+iqMTmLOa+fWoNMeS482zv7m6uJGZtj27hzEue4zMgAIxmCQD7gzf0X/kL+If+win/pLb1qiGNZ2mWNBK6hGkCjcygkgE+gLNj6n1oSGOJ5HjjRGlbfIVUAu2AuT6nAA+gFQo2OiVZSvpurfjcIoY4EKQxpGpZnIRQAWYlmP1JJJ9Sa5r4brOPhzoTSyRtbvYW7WcaxkNDAYU2JI2SJHA6uAgbsi9K39QsYtTsZLS5e4SOTG5ra5kgkGCDw8bKw6diMjjoag0y90r+wIbrTHhh0qGIiF1TyoViTgMuQB5eFyrD5SuCCVINWYatmhRTDNGs6wtIgldS6xlhuZQQCQPQFlz9R60+gQUUUUAFFFQrdwvfS2avmeKNJXTB4VywU56clG/L6UDs2TUVWTUbSS4kgWdBLHN9nZG+UmTyxJtGep2ENxnjPoas0A01uFFFFAgopkU0c6F4ZEkUMyEowIDKSrD6ggg+hFCTRyvIkciO0TbJArAlGwGwfQ4IP0IoHZj6KKKBBRRRQAUVDdXcNlCsty+xGkSIHBPzO4RRx6swH41NQOztcKKKKBBRTJpo7eCSa4kSKKNS7yOwVVUDJJJ6ACn0AFFVtQ1Gy0mxkvdVvLeytIseZPcyrHGmSAMsxAGSQPqala5gW6S2aaMXEiNIkRYbmVSoZgOpALqCe24eooAkoqNbmBrp7ZZozcRosjxBhuVWLBWI6gEowB77T6GpKACiiigAoqlba1pd5psWo2mpWc9jM4jiuop1aKRi/lhQ4OCS52gDvx1qzLcwQSQxzTRxvO5jhV2AMjbS21R3O1WOB2UntQBJRRRQAUUUUAFFRrcwNdPbLNGbiNFkeIMNyqxYKxHUAlGAPfafQ1JQAUUUUAFFFFABRRRQAUUUUAFFFFABRRUdzOlray3EokZIkLsIo2kYgDJwqgsx9AASewoAkoqO2uYLy1iubSaOe3mQSRSxMGWRSMhgRwQQcgipKACiiigAooooAKKKKAFvv8Aj2H/AF0j/wDQxWJ4z1C50nwHr+o6fL5N3Z6ZczwSbQ2x0iZlOCCDggcEYrbvv+PYf9dI/wD0MVV1HT7bVtLutO1CLzrS8heCePcV3o6lWGQQRkE8g5oA5PxHc69oem6VaQ6hqGp3uramYZZLKG1jmiX7PLKVt1lxGqhoR/rS7bWYbmbaRSE/jT+zx9vGt2djDcyA3EMdjLqTReXEyyOih4WQMbgFYlMp2w7VJL57XVdIs9ZtVgv0kIRxJHJDM8MsTYI3JIhDocFlJUjIZgeCQc1vBWiG1SERXkbo7P8Aao9RuEunLBQ2+4DiVwQiDDMRiOMY+RcAGBpl5rmueIJ7TTvFf+iWemW1wkv9nIHlmae6TbMrYK4EKrKgEbb0O0w/MprQeNtT1jwnqPi+0f7DbaLZx3TaWAsi3e6ziu3V5Cu4fLMEQpt2spdvMB8sb5+Hfhx9QN3JaSMTbR2pQzuA8aySyMHIO6USNMxkWQsshClgSMnWvPD+mX+qQajd22+5g27SJGVX2tuTegO2TYxLJvB2MSy4JzQByej6trI1TTrq61e4u4dT1/UdMazlihEUEULXZjMZRFfcBbIMszAhm4zgild+INf8O6TqV9rGp3ker21hc3A0++som0+5eOF5P9GmiVWxuQlUkkMvlI5ZAcOvcxeH9Mh+y+Xbbfsl5NfQ/vG+SeXzfMfrznz5eDwN3AGBilB4I0C3kJ+xyTQ7HjS0ubqWe2iVlKFY4HYxxjYzIAqjCsyjCkigDN8Ly+Jhrxi1ODW201rZ2ebWjp+5JgyCNY/sh6FTKW3g/dTBHOdfxTc65aaXG/hm2+03ZmAdPs6TYTa2Tte4gA5287yf9k9RJpXhnTdHumubX7ZNcMhjEt7fz3bIpIJVDM7FASFJC4ztXOdoxrUAYvha51y70uR/E1t9muxMQifZ0hym1cHalxODzu53g/7I6mjr8mrXPjLSNH03V5NLtrmwvLi5eGCOSUmOS2CbDIrKp/etklWBBYYztZeoqs+n20mqQai8Wbu3hkgik3H5UkZGcYzg5MSckZGOOpyAcDrWteLbrX9fj8O2urzvpMywWcVp9gFnM/2aKYC4M7CblpcMYyo2bduGyas3+s65cWS67Zap9ktxr8Wltp/2dJEaFdRW1dt5G7zHwxznaEbaE3Dza6TUPCOj6nfSXV3DcFpsfaIYryaKG5wAv72FHEcuVAU71bKgKcgAVFq3gvRdY1CO+uYJEuY7m3uw8cpC+bDIjrJsOU3kRiMybd/l5TcBxQByeq+NNa0z4U+FfEMc8ct9dWDXN15sQ2zsul3FxggYwDJGhO3b0xwKs28vjkNcxW0GttC1sWabWDpvnI4ljG23+znbvMRnI80FN6xZIXdnfXwB4ZFxFNJpvn+RvEEVzPLNFAjxtG8ccbsUjjKOVMagIQF4+RcSReCtEjjmWSK8ujKgTzL3Ubi5kiG4N+7eR2aI7lRsoVO5EOcqpABx+ttd6j4YNq3iTVxcQ6zpRkivrK3hvLdmvY05xEI3j3YKOilS8T/vJFyo6fxIut2trp6WV7qbWcSML670+G3kvSwC7ZCjoUZMeYXWNDIW8sIuNwq9B4R0eCxurUw3E63WzzZrq8mnm+Q7o8TO5kXYxLLtYbGJZcEk1JfeGdN1G1tIbn7YDZp5cNxDfzxXAXABUzI4kYHapYFjuKqTkgGgCTw/c/a9Dt5v7Q/tHO5ftJh8l22sVxInG2RcbXGFw4b5U+6OT1HWdcs5fGWtLqmbLw3MXh00W6BZ0WygmkR5Mbud7bCuCrElvMXCDrIfD+mW8OnxRW2F02Zri2JkYssrI6M7EnLswlkyWySWLHJ5qkvgvRR4hu9akgklvLu5juZN0pCFo440jDIuFcJ5Qdd4bY7My4JoAyf+Eg1Pyv8AhIPtP+h/2z/ZH9l+WuzZ9t+x+d5mN/mb/wB512bPk27v3tR6RPrZ1JLHX9d1Ow1K6SRGgls7c2rtsYlrOZY+oYFkSZnk8tGLx/xjp/8AhH9M/tz+1/s3+mdd3mNs37dnmeXnZ5mz5PMxv2fLnbxVfT/COj6ZfR3VpDcBoc/Z4ZbyaWG2yCv7qF3McWFJUbFXCkqMAkUAcdpQvNK/Zoa5i1S8luB4XNxbysURrX/QwVWMxqpAUjIJy3qxr0F9Msn0dtK+zRpYNAbb7PENirFt27AFxtGOBjGO1M0rSLPRbVrbTUkity5dYmmd1i4ACRhiRGgAACLhV7AUaPpUGh6PbaZZtI1taJ5UAkIJjjH3EyAMhVwoJySFGSTkkGm07oy9XtZrvxhpcdvfXFiwsLtjJbrGWI8y34+dWGPwzx1rNsTeal4p0qabUrhGgh1CFgiRYlWG7ij+bKHlwF3bccj5dvOeta0he+ivGTM8UbxI+TwrlSwx05KL+X1qt/YtgDCUieNoZpJ0aOV0bc773BIOSrMclD8pwOOBjNxbd/66HXCvFQUWtk1suvN/mjNt7WY/ETUJxfXAjWwtWNuFj2MC1wACdu7AILDBzljkkYArWuo6nFbNqlzffaIjqr2ItPJVVEZvDArbgN29cg56FRjbuO+uhfT7eTUI74q63Ea7NySModecBwDhwNxI3A4JJGCTVOw8N6dp1211DE7TNNLOWdyR5kjMzNt+7uwxUNjdt+XOKOV9A9tTa95dF0XRd/PvuWbJ4Wu9RENzLM63AEqSEkQt5UZ2LxwNpVuM8s30Gbo13DBod/r92/lwXkkl+zgEgQKoWNwBzzDGjEdck8DoNi8t/tdjPbedLB50bR+bC210yMblPYjqD61DdaXbXWlrp+3ybUbF8qIBVKKwPl4xjYQNpXoVJFU0zKMo2s+tr+i/r8Dm5dOuk0/wxbzTS2F7PqMlxcNDsYxTSQXEsiruDLgMzKMg8dyeahu1vrzWLCyk1a6VrHWWt0uFjh8xw1g0u5sx7cjeyjCgbTyCcNXYT2kNxNbyzJue2kMsRyRtYoyZ9/ldhz61Wn0WwuRP5kThp5hcPJHK6OJAgj3KykFTsUL8pGRkdzmHB9DeOJV7yXR9Fu2/0exm6hazTePtKkjvriBVsLljHGsZVgstvkHcpOGyM4IPyjBHOa15qOp27+ItRF9m20aTdHZ+SuJVFtHI6s+N3O47SMbSSTvGFHQ3On293PBNMriW3bdHJHI0bDkEqSpGVJAypypwMg4FU18N6cNWn1J4ne4nmWZ8uQpZURUyowGC7Ay7s7WJIwTTcX0JhWp2XOtlbZd7/l1MTS5r3TbB7/7X5lu+sz232Py1ChZL54927728M+c52lRt25+erN5qFxaaV4yubZkjms2d4XWNchhZxMCePmOT/FnjA6ACtW18P6ZZXzXdtbbJWkeY/vGK+Y5JaTaTt3ncRuxnadudvFTS6TZTW9/BLDuj1HP2pd7DzMxiM9+PlUDjHT1pcsrWG61JzcmvwXdP/PXrcp6XJdQa5e6Zc3st8kNvBcJNOqBwZGlUr8iquB5QI4zknk8Ym1i7mhaxtLV/Jkv7g24nwGMIEbyFgDwTiMgZ4BIJDAbTcW0hS+lvFTE8saRO+TyqFiox04Lt+f0qEaTZDR49LEOLSKNI403tlAmNpDZ3AjAIbOQQDnPNXZ2sY88HPma7dPLf79bdTBn1HU5Lm30uG+8qWPVTYy3fkqzSx/Y2n3bcbVflRkcblzt2nZVy9ubpL42P9qfYUs7Jbo3k6IftJBYNuyAoRdql9u0/vFwyfxaUek2UUdokcOBZyGWH52JDlWVmJzliQ75LZJLEnnmq2raCmrTwyteXFu0LK6hEikUOpJVwsqOFYZPzKAeeScDE8rsa+0puSVrL069+v3dPxMrR7ubXG8Nvcv5klvpyalcyABT50kflx57YYNcHAHBReg4Ja6jqcVs2qXN99oiOqvYi08lVURm8MCtuA3b1yDnoVGNu47629M0a00gSLZhwrLHGodt3lxxoESNSedowTgk/M7HvUNh4b07TrtrqGJ2maaWcs7kjzJGZmbb93dhiobG7b8ucUlGRUq1Jt6adNPVteWr3RlQatq0un6Zf280UkmuRn7PazpiK1cwPNH8yjcw+Ta+ckk7l2AbTQ1eW5k8J69bXOp6kk/8AZk8jW1/bwLIAq5yjxqI3Ug4bbvI3ryjdeqXRNOWe5l+yo5uVZJEkJdNrnLgISVUMeWwBuPLZNMt9A06383Mctz5sZif7ZcSXPyH7yjzGbAOBkDg4Gc4FHLJqw416UZXS/Bd/69SY6ck2jyadqM0t9HNG8UzzbVaRWyCDsCgcHHAH581cqG0tY7K1S3haVkTODNM8rcnPLOSx69zUGp6VBq0dtFdtJ5MFzFcmNCAJGjbegY4zgOEfgjJQA5Usp0RxSd35HN+OLC4vtd8Hrbareacf7WlXfapCxybK5O795G4yApX0w7cZ2ldK8ndfiNo9uBHsk0m/ckxqWBWazAw2NwHzHIBweMg7RjWutPtry4s57mLfJYzGe3bcRscxvGTwefkkcYORznqBQ+n20mqQai8Wbu3hkgik3H5UkZGcYzg5MSckZGOOpyyTFsf+So65/wBgbTv/AEde1yfhzWvHes6bpmqWVrqDPqdmZ3/tX7ENOhL27SRmIQN9o2+b5SgPuPls275sEejJp9tHqk+opFi7uIY4JZNx+ZI2dkGM4GDK/IGTnnoMZMHgjQLeQn7HJNDseNLS5upZ7aJWUoVjgdjHGNjMgCqMKzKMKSKAMC11LXoLe8hs7/V7rWFhDrpet6damUYkQF4nieCGVQrfPiVtpePJVgUelr9x4p1H4VeNF8SxSacU0mZoHjs4YS4Ebl14ubgEEAKc7CAxwc8r2uleGdN0e6a5tftk1wyGMS3t/PdsikglUMzsUBIUkLjO1c52jF3UdPttW0u607UIvOtLyF4J49xXejqVYZBBGQTyDmgDA8RrcaV4Ts45b2TUZl1bTka4vYYWZw9/CDlVRUBAbAIUEYBB3DNS+J/+Ri8Hf9hmT/0gu62r/T7bU7dYL2LzY0minVdxGHikWRDwezopx0OMHIoutPtry4s57mLfJYzGe3bcRscxvGTwefkkcYORznqBQBwOta14tutf1+Pw7a6vO+kzLBZxWn2AWcz/AGaKYC4M7CblpcMYyo2bduGya0vtms2nijGtarqFgkl5stU+xwy6bcRF8InmKvmxyFCi/vHQGZsIJFGw7eoeEdH1O+kuruG4LTY+0QxXk0UNzgBf3sKOI5cqAp3q2VAU5AAo/wCER0f+1Pt/k3G/zvtH2f7ZN9m83du3/Z9/lbt/z5253/P97mgDarJ8TarPo+ifaLRY2uJbm2tIjKCVRp50hDkAgsFMm4qCM4xlc5FnTtKg02S9liaSSa+uWubiSQjLNtVFGAAAFREQYHRATliWNm5toLy1ltruGOe3mQxyxSqGWRSMFSDwQQcEGgDzS8fVdG8banZf23qF7d3dnp0NtJbWlt9tmG6/kMYL7bcMPLdt7IB5a7QC5DkebVfE1n4KnudT1DS7tNfv7N2jjtjLmKK9jV3yjx+Zthw2z5MyOQPubesTwD4dj890tLgXFx5ZlvPt0/2ljHvCN5+/zAwWV03BslDsJ2gKJIPBGgWmjnS7OzktbMXL3UUdvdSxG2kbO4wsrBoQdzDbGVGHYYwzAgGB8QfEeq6N9vn0SbUJZNJ0w6hLa2cFt5Sj94Va5eZgzRt5TDbBhwEkJOWTFnxBqfjm31y4i0LTfPsF2+VJ/Z0EuflGfmbUIifmz1jX8ep29d8IaH4l3jW7H7SskJglQTOizJzgOqsA+0sWQtkoxLLtPNa1tAlraxW8RkZIkCKZZGkYgDAyzEsx9SSSe5oA4Ww1nXLeybXb3VPtdudfl0tdP+zpGiwtqLWqNvA3eYmVOc7Si7Sm4+bRa+IPEE+j6Hq9nc2803iqE/ZLG6jCwWErWklxD86DeygR7JN2SxbcnlgbDv6T4L0XR9QkvraCR7mS5uLsvJKSvmzSO7SbBhN4EhjEm3f5eE3EcVZj8L6LHdXs/wBgjkN6jxzRykyRFZDmVVjYlEEh+ZwoG8gFtx5oA4HxFPfTfD7xbZXuu63HdDQ7qWSy1eztUmAVM5ilhjEUiFTtk2mQr5ifNE3B9L0+1ms7GOC5vrjUJEzuublYxI+STyI1VeM44UcDueazrPwjo9n5+Ybi9+0Qtbyf2leTXv7pvvoPOd9qtgbgMBtq5zgYkl0J10eHT9L1jU9OELlhcJMtzMwOSVZ7lZSRls+owACBxQBm6/Jq1z4y0jR9N1eTS7a5sLy4uXhgjklJjktgmwyKyqf3rZJVgQWGM7WXk9c8b62NEvr/AE+S8e80S2upbq20+3txbloJ7iISzmdt/lSG2YiOE+YgDgsxKGusl8C2l/dWt1rmq6nqtzZpMlvcSSx28sIlMRbY9ukbKf3OMggkSSKSQ2BZ1XwP4c1m1W1v9Lja2W2Fp9nid4YmhAIRGRCFYJklMg+WSWTaeaAK0kmrX3xGurCHV5LPTbGwsrtreGCMtNI81yrKXdThCsQDADdwpVkw27Jg8R6r/wAJzYJFNqF1pmoanc6eZJILaOzQxRTsViAb7R5ivb7Cz5RsSFQAUx2NnpFnY3TXNukhuGtobV5ZZnkZ44i5QEsSSQZHJY8ndyTxWbL4I0CbWIdUazkW8t7k3UEiXUqCGQ53lFDBUD7iZFAAkJy4Y80AcN4E8X+KtZjS0a+t729n0Z54HvYVRPtAtrGdS3lKvyl791YAfcijxht7P1nha8uzqklpqOq6u9z5Jd9P1uzt0lXDLh4pbdVikUBhv2mTBeMExnKtdsPA/hzTV22ulx7DbNaNHK7yq0LRQxMhVyQQUtoVOf7n+02ZbPwrYad58lhPqCXcsLQpd3N9LeS24br5ZuGkC8hSRjDFF3A7RQBW8CfL4YeJeI7fU9Qt4UH3Y4o72ZI0UdlVFVQBwAABwK6Oq2nafbaTpdrp2nxeTaWcKQQR7i2xEUKoySScADknNWaACiiigAooooAKKKKAJLmJpoCqY3blYZ6cEH+lQ7Lr/nnD/wB/T/8AE1booAqbLr/nnD/39P8A8TRsuv8AnnD/AN/T/wDE1booAqbLr/nnD/39P/xNGy6/55w/9/T/APE1booAqbLr/nnD/wB/T/8AE0bLr/nnD/39P/xNW6KAKmy6/wCecP8A39P/AMTRsuv+ecP/AH9P/wATVuigCpsuv+ecP/f0/wDxNGy6/wCecP8A39P/AMTVuigCpsuv+ecP/f0//E0bLr/nnD/39P8A8TVuigCpsuv+ecP/AH9P/wATRsuv+ecP/f0//E1booAqbLr/AJ5w/wDf0/8AxNGy6/55w/8Af0//ABNW6KAKmy6/55w/9/T/APE0bLr/AJ5w/wDf0/8AxNW6KAKmy6/55w/9/T/8TRsuv+ecP/f0/wDxNW6KAKmy6/55w/8Af0//ABNGy6/55w/9/T/8TVuigCpsuv8AnnD/AN/T/wDE0bLr/nnD/wB/T/8AE1booAqbLr/nnD/39P8A8TRsuv8AnnD/AN/T/wDE1booAqbLr/nnD/39P/xNGy6/55w/9/T/APE1booAqbLr/nnD/wB/T/8AE0bLr/nnD/39P/xNW6KAKmy6/wCecP8A39P/AMTRsuv+ecP/AH9P/wATVuigCpsuv+ecP/f0/wDxNGy6/wCecP8A39P/AMTVuigCpsuv+ecP/f0//E0bLr/nnD/39P8A8TVuigCpsuv+ecP/AH9P/wATRsuv+ecP/f0//E1booAqbLr/AJ5w/wDf0/8AxNGy6/55w/8Af0//ABNW6KAKmy6/55w/9/T/APE0bLr/AJ5w/wDf0/8AxNW6KAKmy6/55w/9/T/8TRsuv+ecP/f0/wDxNW6KAKmy6/55w/8Af0//ABNGy6/55w/9/T/8TVuigCpsuv8AnnD/AN/T/wDE0bLr/nnD/wB/T/8AE1booAqbLr/nnD/39P8A8TRsuv8AnnD/AN/T/wDE1booAqbLr/nnD/39P/xNGy6/55w/9/T/APE1booAqbLr/nnD/wB/T/8AE0bLr/nnD/39P/xNW6KAKmy6/wCecP8A39P/AMTRsuv+ecP/AH9P/wATVuigCpsuv+ecP/f0/wDxNGy6/wCecP8A39P/AMTVuigCpsuv+ecP/f0//E0bLr/nnD/39P8A8TVuigCpsuv+ecP/AH9P/wATRsuv+ecP/f0//E1booAqbLr/AJ5w/wDf0/8AxNGy6/55w/8Af0//ABNW6KAKmy6/55w/9/T/APE0bLr/AJ5w/wDf0/8AxNW6KAKmy6/55w/9/T/8TRsuv+ecP/f0/wDxNW6KAKmy6/55w/8Af0//ABNGy6/55w/9/T/8TVuigCpsuv8AnnD/AN/T/wDE0bLr/nnD/wB/T/8AE1booAqbLr/nnD/39P8A8TRsuv8AnnD/AN/T/wDE1booAqbLr/nnD/39P/xNGy6/55w/9/T/APE1booAqbLr/nnD/wB/T/8AE0bLr/nnD/39P/xNW6KAP//Z',\n",
       "  'photo3': 'data:image/jpeg;base64,/9j/4AAQSkZJRgABAQEAYABgAAD/4RCERXhpZgAATU0AKgAAAAgABAE7AAIAAAAGAAAISodpAAQAAAABAAAIUJydAAEAAAAMAAAQcOocAAcAAAgMAAAAPgAAAAAc6gAAAAgAAAAAAAAAAAAAAAAAAAAAAAAAAAAAAAAAAAAAAAAAAAAAAAAAAAAAAAAAAAAAAAAAAAAAAAAAAAAAAAAAAAAAAAAAAAAAAAAAAAAAAAAAAAAAAAAAAAAAAAAAAAAAAAAAAAAAAAAAAAAAAAAAAAAAAAAAAAAAAAAAAAAAAAAAAAAAAAAAAAAAAAAAAAAAAAAAAAAAAAAAAAAAAAAAAAAAAAAAAAAAAAAAAAAAAAAAAAAAAAAAAAAAAAAAAAAAAAAAAAAAAAAAAAAAAAAAAAAAAAAAAAAAAAAAAAAAAAAAAAAAAAAAAAAAAAAAAAAAAAAAAAAAAAAAAAAAAAAAAAAAAAAAAAAAAAAAAAAAAAAAAAAAAAAAAAAAAAAAAAAAAAAAAAAAAAAAAAAAAAAAAAAAAAAAAAAAAAAAAAAAAAAAAAAAAAAAAAAAAAAAAAAAAAAAAAAAAAAAAAAAAAAAAAAAAAAAAAAAAAAAAAAAAAAAAAAAAAAAAAAAAAAAAAAAAAAAAAAAAAAAAAAAAAAAAAAAAAAAAAAAAAAAAAAAAAAAAAAAAAAAAAAAAAAAAAAAAAAAAAAAAAAAAAAAAAAAAAAAAAAAAAAAAAAAAAAAAAAAAAAAAAAAAAAAAAAAAAAAAAAAAAAAAAAAAAAAAAAAAAAAAAAAAAAAAAAAAAAAAAAAAAAAAAAAAAAAAAAAAAAAAAAAAAAAAAAAAAAAAAAAAAAAAAAAAAAAAAAAAAAAAAAAAAAAAAAAAAAAAAAAAAAAAAAAAAAAAAAAAAAAAAAAAAAAAAAAAAAAAAAAAAAAAAAAAAAAAAAAAAAAAAAAAAAAAAAAAAAAAAAAAAAAAAAAAAAAAAAAAAAAAAAAAAAAAAAAAAAAAAAAAAAAAAAAAAAAAAAAAAAAAAAAAAAAAAAAAAAAAAAAAAAAAAAAAAAAAAAAAAAAAAAAAAAAAAAAAAAAAAAAAAAAAAAAAAAAAAAAAAAAAAAAAAAAAAAAAAAAAAAAAAAAAAAAAAAAAAAAAAAAAAAAAAAAAAAAAAAAAAAAAAAAAAAAAAAAAAAAAAAAAAAAAAAAAAAAAAAAAAAAAAAAAAAAAAAAAAAAAAAAAAAAAAAAAAAAAAAAAAAAAAAAAAAAAAAAAAAAAAAAAAAAAAAAAAAAAAAAAAAAAAAAAAAAAAAAAAAAAAAAAAAAAAAAAAAAAAAAAAAAAAAAAAAAAAAAAAAAAAAAAAAAAAAAAAAAAAAAAAAAAAAAAAAAAAAAAAAAAAAAAAAAAAAAAAAAAAAAAAAAAAAAAAAAAAAAAAAAAAAAAAAAAAAAAAAAAAAAAAAAAAAAAAAAAAAAAAAAAAAAAAAAAAAAAAAAAAAAAAAAAAAAAAAAAAAAAAAAAAAAAAAAAAAAAAAAAAAAAAAAAAAAAAAAAAAAAAAAAAAAAAAAAAAAAAAAAAAAAAAAAAAAAAAAAAAAAAAAAAAAAAAAAAAAAAAAAAAAAAAAAAAAAAAAAAAAAAAAAAAAAAAAAAAAAAAAAAAAAAAAAAAAAAAAAAAAAAAAAAAAAAAAAAAAAAAAAAAAAAAAAAAAAAAAAAAAAAAAAAAAAAAAAAAAAAAAAAAAAAAAAAAAAAAAAAAAAAAAAAAAAAAAAAAAAAAAAAAAAAAAAAAAAAAAAAAAAAAAAAAAAAAAAAAAAAAAAAAAAAAAAAAAAAAAAAAAAAAAAAAAAAAAAAAAAAAAAAAAAAAAAAAAAAAAAAAAAAAAAAAAAAAAAAAAAAAAAAAAAAAAAAAAAAAAAAAAAAAAAAAAAAAAAAAAAAAAAAAAAAAAAAAAAAAAAAAAAAAAAAAAAAAAAAAAAAAAAAAAAAAAAAAAAAAAAAAAAAAAAAAAAAAAAAAAAAAAAAAAAAAAAAAAAAAAAAAAAAAAAAAAAAAAAAAAAAAAAAAAAAAAAAAAAAAAAAAAAAAAAAAAAAAAAAAAAAAAAAAAAAAAAAAAAAAAAAAAAAAAAAAAAAAAAAAAAAAAAAAAAAAAAAAAAAAAAAAAAAAAAAAAAAAAAAAAAAAAAAAAAAAAAAAAAAAAAAAAAAAAAAAAAAAAAAAAAAAAAAAAAAAAAAAAAAAAAAAAAAAAAAAAAAAAAAAAAAAAAAAAAAAAAAAAAAAAAAAAAAAAAAAAAAAAAAAAAAAAAAAAAAAAAAAAAAAAAAAAAAAAAAAAAAAAAAAAAAAAAAAAAAAAAAAAAAAAAAAAAAAAAAAAAAAAAAAAAAAAAAAAAAAAAAAAAAAAAAAAAAAAAAAAAAAAAAAAAAAAAAAAAAAAAAAAAAAAAAAAAAAAAAAAAAAAAAAAAAAAAAAAAAAAAAAAAAAAAAAAAAAAAAAAAAAAAAAAAAAAAAAAAAAAAAAAAAAAAAAAAAAAAAAAAAAAAAAAAAAAAAAAAAAAAAAAAAAAAAAAAAAAAAAAAAAAAAAAAAAAAAAAAAAAAAAAAAAAAAAAAAAAAAAAAAAAAAAAAAAAAAAAAAAAAAAAAAAAAAAAAAAAAAAAAAAAAAAAAAAAAAAAAAAAAAAAAAAAAAAAAAAAAAAAAAAAAAAAAAAAAAAAAAAAAAAAAAAAAAAAAAAAAAAAAAAAAAAAAAAAAAAAAAAAAAAAAAAAAAAAAAAAAAAAAAAAAAAAAAAAAAAAAAAAAAAAAAAAAAAAAAAAAAAAAAAAAAAAAAAAAAAAAAAAAAAAAAAAAAAAAAAAAAAAAAAAAAAAAAAAAAAAAAAAAAAAAAAAAAAAAAAAAE5BVkVSAAAB6hwABwAACAwAAAhiAAAAABzqAAAACAAAAAAAAAAAAAAAAAAAAAAAAAAAAAAAAAAAAAAAAAAAAAAAAAAAAAAAAAAAAAAAAAAAAAAAAAAAAAAAAAAAAAAAAAAAAAAAAAAAAAAAAAAAAAAAAAAAAAAAAAAAAAAAAAAAAAAAAAAAAAAAAAAAAAAAAAAAAAAAAAAAAAAAAAAAAAAAAAAAAAAAAAAAAAAAAAAAAAAAAAAAAAAAAAAAAAAAAAAAAAAAAAAAAAAAAAAAAAAAAAAAAAAAAAAAAAAAAAAAAAAAAAAAAAAAAAAAAAAAAAAAAAAAAAAAAAAAAAAAAAAAAAAAAAAAAAAAAAAAAAAAAAAAAAAAAAAAAAAAAAAAAAAAAAAAAAAAAAAAAAAAAAAAAAAAAAAAAAAAAAAAAAAAAAAAAAAAAAAAAAAAAAAAAAAAAAAAAAAAAAAAAAAAAAAAAAAAAAAAAAAAAAAAAAAAAAAAAAAAAAAAAAAAAAAAAAAAAAAAAAAAAAAAAAAAAAAAAAAAAAAAAAAAAAAAAAAAAAAAAAAAAAAAAAAAAAAAAAAAAAAAAAAAAAAAAAAAAAAAAAAAAAAAAAAAAAAAAAAAAAAAAAAAAAAAAAAAAAAAAAAAAAAAAAAAAAAAAAAAAAAAAAAAAAAAAAAAAAAAAAAAAAAAAAAAAAAAAAAAAAAAAAAAAAAAAAAAAAAAAAAAAAAAAAAAAAAAAAAAAAAAAAAAAAAAAAAAAAAAAAAAAAAAAAAAAAAAAAAAAAAAAAAAAAAAAAAAAAAAAAAAAAAAAAAAAAAAAAAAAAAAAAAAAAAAAAAAAAAAAAAAAAAAAAAAAAAAAAAAAAAAAAAAAAAAAAAAAAAAAAAAAAAAAAAAAAAAAAAAAAAAAAAAAAAAAAAAAAAAAAAAAAAAAAAAAAAAAAAAAAAAAAAAAAAAAAAAAAAAAAAAAAAAAAAAAAAAAAAAAAAAAAAAAAAAAAAAAAAAAAAAAAAAAAAAAAAAAAAAAAAAAAAAAAAAAAAAAAAAAAAAAAAAAAAAAAAAAAAAAAAAAAAAAAAAAAAAAAAAAAAAAAAAAAAAAAAAAAAAAAAAAAAAAAAAAAAAAAAAAAAAAAAAAAAAAAAAAAAAAAAAAAAAAAAAAAAAAAAAAAAAAAAAAAAAAAAAAAAAAAAAAAAAAAAAAAAAAAAAAAAAAAAAAAAAAAAAAAAAAAAAAAAAAAAAAAAAAAAAAAAAAAAAAAAAAAAAAAAAAAAAAAAAAAAAAAAAAAAAAAAAAAAAAAAAAAAAAAAAAAAAAAAAAAAAAAAAAAAAAAAAAAAAAAAAAAAAAAAAAAAAAAAAAAAAAAAAAAAAAAAAAAAAAAAAAAAAAAAAAAAAAAAAAAAAAAAAAAAAAAAAAAAAAAAAAAAAAAAAAAAAAAAAAAAAAAAAAAAAAAAAAAAAAAAAAAAAAAAAAAAAAAAAAAAAAAAAAAAAAAAAAAAAAAAAAAAAAAAAAAAAAAAAAAAAAAAAAAAAAAAAAAAAAAAAAAAAAAAAAAAAAAAAAAAAAAAAAAAAAAAAAAAAAAAAAAAAAAAAAAAAAAAAAAAAAAAAAAAAAAAAAAAAAAAAAAAAAAAAAAAAAAAAAAAAAAAAAAAAAAAAAAAAAAAAAAAAAAAAAAAAAAAAAAAAAAAAAAAAAAAAAAAAAAAAAAAAAAAAAAAAAAAAAAAAAAAAAAAAAAAAAAAAAAAAAAAAAAAAAAAAAAAAAAAAAAAAAAAAAAAAAAAAAAAAAAAAAAAAAAAAAAAAAAAAAAAAAAAAAAAAAAAAAAAAAAAAAAAAAAAAAAAAAAAAAAAAAAAAAAAAAAAAAAAAAAAAAAAAAAAAAAAAAAAAAAAAAAAAAAAAAAAAAAAAAAAAAAAAAAAAAAAAAAAAAAAAAAAAAAAAAAAAAAAAAAAAAAAAAAAAAAAAAAAAAAAAAAAAAAAAAAAAAAAAAAAAAAAAAAAAAAAAAAAAAAAAAAAAAAAAAAAAAAAAAAAAAAAAAAAAAAAAAAAAAAAAAAAAAAAAAAAAAAAAAAAAAAAAAAAAAAAAAAAAAAAAAAAAAAAAAAAAAAAAAAAAAAAAAAAAAAAAAAAAAAAAAAAAAAAAAAAAAAAAAAAAAAAAAAAAAAAAAAAAAAAAAAAAAAAAAAAAAAAAAAAAAAAAAAAAAAAAAAAAAAAAAAAAAAAAAAAAAAAAAAAAAAAAAAAAAAAAAAAAAAAAAAAAAAAAAAAAAAAAAAAAAAAAAAAAAAAAAAAAAAAAAAAAAAAAAAAAAAAAAAAAAAAAAAAAAAAAAAAAAAAAAAAAAAAAAAAAAAAAAAAAAAAAAAAAAAAAAAAAAAAAAAAAAAAAAAAAAAAAAAAAAAAAAAAAAAAAAAAAAAAAAAAAAAAAAAAAAAAAAAAAAAAAAAAAAAAAAAAAAAAAAAAAAAAAAAAAAAAAAAAAAAAAAAAAAAAAAAAAAAAAAAAAAAAAAAAAAAAAAAAAAAAAAAAAAAAAAAAAAAAAAAAAAAAAAAAAAAAAAAAAAAAAAAAAAAAAAAAAAAAAAAAAAAAAAAAAAAAAAAAAAAAAAAAAAAAAAAAAAAAAAAAAAAAAAAAAAAAAAAAAAAAAAAAAAAAAAAAAAAAAAAAAAAAAAAAAAAAAAAAAAAAAAAAAAAAAAAAAAAAAAAAAAAAAAAAAAAAAAAAAAAAAAAAAAAAAAAAAAAAAAAAAAAAAAAAAAAAAAAAAAAAAAAAAAAAAAAAAAAAAAAAAAAAAAAAAAAAAAAAAAAAAAABOAEEAVgBFAFIAAAD/4QpeaHR0cDovL25zLmFkb2JlLmNvbS94YXAvMS4wLwA8P3hwYWNrZXQgYmVnaW49J++7vycgaWQ9J1c1TTBNcENlaGlIenJlU3pOVGN6a2M5ZCc/Pg0KPHg6eG1wbWV0YSB4bWxuczp4PSJhZG9iZTpuczptZXRhLyI+PHJkZjpSREYgeG1sbnM6cmRmPSJodHRwOi8vd3d3LnczLm9yZy8xOTk5LzAyLzIyLXJkZi1zeW50YXgtbnMjIj48cmRmOkRlc2NyaXB0aW9uIHJkZjphYm91dD0idXVpZDpmYWY1YmRkNS1iYTNkLTExZGEtYWQzMS1kMzNkNzUxODJmMWIiIHhtbG5zOmRjPSJodHRwOi8vcHVybC5vcmcvZGMvZWxlbWVudHMvMS4xLyIvPjxyZGY6RGVzY3JpcHRpb24gcmRmOmFib3V0PSJ1dWlkOmZhZjViZGQ1LWJhM2QtMTFkYS1hZDMxLWQzM2Q3NTE4MmYxYiIgeG1sbnM6ZGM9Imh0dHA6Ly9wdXJsLm9yZy9kYy9lbGVtZW50cy8xLjEvIj48ZGM6Y3JlYXRvcj48cmRmOlNlcSB4bWxuczpyZGY9Imh0dHA6Ly93d3cudzMub3JnLzE5OTkvMDIvMjItcmRmLXN5bnRheC1ucyMiPjxyZGY6bGk+TkFWRVI8L3JkZjpsaT48L3JkZjpTZXE+DQoJCQk8L2RjOmNyZWF0b3I+PC9yZGY6RGVzY3JpcHRpb24+PC9yZGY6UkRGPjwveDp4bXBtZXRhPg0KICAgICAgICAgICAgICAgICAgICAgICAgICAgICAgICAgICAgICAgICAgICAgICAgICAgICAgICAgICAgICAgICAgICAgICAgICAgICAgICAgICAgICAgICAgICAgICAgICAgIAogICAgICAgICAgICAgICAgICAgICAgICAgICAgICAgICAgICAgICAgICAgICAgICAgICAgICAgICAgICAgICAgICAgICAgICAgICAgICAgICAgICAgICAgICAgICAgICAgICAgCiAgICAgICAgICAgICAgICAgICAgICAgICAgICAgICAgICAgICAgICAgICAgICAgICAgICAgICAgICAgICAgICAgICAgICAgICAgICAgICAgICAgICAgICAgICAgICAgICAgICAKICAgICAgICAgICAgICAgICAgICAgICAgICAgICAgICAgICAgICAgICAgICAgICAgICAgICAgICAgICAgICAgICAgICAgICAgICAgICAgICAgICAgICAgICAgICAgICAgICAgIAogICAgICAgICAgICAgICAgICAgICAgICAgICAgICAgICAgICAgICAgICAgICAgICAgICAgICAgICAgICAgICAgICAgICAgICAgICAgICAgICAgICAgICAgICAgICAgICAgICAgCiAgICAgICAgICAgICAgICAgICAgICAgICAgICAgICAgICAgICAgICAgICAgICAgICAgICAgICAgICAgICAgICAgICAgICAgICAgICAgICAgICAgICAgICAgICAgICAgICAgICAKICAgICAgICAgICAgICAgICAgICAgICAgICAgICAgICAgICAgICAgICAgICAgICAgICAgICAgICAgICAgICAgICAgICAgICAgICAgICAgICAgICAgICAgICAgICAgICAgICAgIAogICAgICAgICAgICAgICAgICAgICAgICAgICAgICAgICAgICAgICAgICAgICAgICAgICAgICAgICAgICAgICAgICAgICAgICAgICAgICAgICAgICAgICAgICAgICAgICAgICAgCiAgICAgICAgICAgICAgICAgICAgICAgICAgICAgICAgICAgICAgICAgICAgICAgICAgICAgICAgICAgICAgICAgICAgICAgICAgICAgICAgICAgICAgICAgICAgICAgICAgICAKICAgICAgICAgICAgICAgICAgICAgICAgICAgICAgICAgICAgICAgICAgICAgICAgICAgICAgICAgICAgICAgICAgICAgICAgICAgICAgICAgICAgICAgICAgICAgICAgICAgIAogICAgICAgICAgICAgICAgICAgICAgICAgICAgICAgICAgICAgICAgICAgICAgICAgICAgICAgICAgICAgICAgICAgICAgICAgICAgICAgICAgICAgICAgICAgICAgICAgICAgCiAgICAgICAgICAgICAgICAgICAgICAgICAgICAgICAgICAgICAgICAgICAgICAgICAgICAgICAgICAgICAgICAgICAgICAgICAgICAgICAgICAgICAgICAgICAgICAgICAgICAKICAgICAgICAgICAgICAgICAgICAgICAgICAgICAgICAgICAgICAgICAgICAgICAgICAgICAgICAgICAgICAgICAgICAgICAgICAgICAgICAgICAgICAgICAgICAgICAgICAgIAogICAgICAgICAgICAgICAgICAgICAgICAgICAgICAgICAgICAgICAgICAgICAgICAgICAgICAgICAgICAgICAgICAgICAgICAgICAgICAgICAgICAgICAgICAgICAgICAgICAgCiAgICAgICAgICAgICAgICAgICAgICAgICAgICAgICAgICAgICAgICAgICAgICAgICAgICAgICAgICAgICAgICAgICAgICAgICAgICAgICAgICAgICAgICAgICAgICAgICAgICAKICAgICAgICAgICAgICAgICAgICAgICAgICAgICAgICAgICAgICAgICAgICAgICAgICAgICAgICAgICAgICAgICAgICAgICAgICAgICAgICAgICAgICAgICAgICAgICAgICAgIAogICAgICAgICAgICAgICAgICAgICAgICAgICAgICAgICAgICAgICAgICAgICAgICAgICAgICAgICAgICAgICAgICAgICAgICAgICAgICAgICAgICAgICAgICAgICAgICAgICAgCiAgICAgICAgICAgICAgICAgICAgICAgICAgICAgICAgICAgICAgICAgICAgICAgICAgICAgICAgICAgICAgICAgICAgICAgICAgICAgICAgICAgICAgICAgICAgICAgICAgICAKICAgICAgICAgICAgICAgICAgICAgICAgICAgICAgICAgICAgICAgICAgICAgICAgICAgICAgICAgICAgICAgICAgICAgICAgICAgICAgICAgICAgICAgICAgICAgICAgICAgIAogICAgICAgICAgICAgICAgICAgICAgICAgICAgICAgICAgICAgICAgICAgICAgICAgICAgICAgICAgICAgICAgICAgICAgICAgICAgICAgICAgICAgICAgICAgICAgICAgICAgCiAgICAgICAgICAgICAgICAgICAgICAgICAgICA8P3hwYWNrZXQgZW5kPSd3Jz8+/9sAQwAHBQUGBQQHBgUGCAcHCAoRCwoJCQoVDxAMERgVGhkYFRgXGx4nIRsdJR0XGCIuIiUoKSssKxogLzMvKjInKisq/9sAQwEHCAgKCQoUCwsUKhwYHCoqKioqKioqKioqKioqKioqKioqKioqKioqKioqKioqKioqKioqKioqKioqKioqKioq/8AAEQgAnQJ8AwEiAAIRAQMRAf/EAB8AAAEFAQEBAQEBAAAAAAAAAAABAgMEBQYHCAkKC//EALUQAAIBAwMCBAMFBQQEAAABfQECAwAEEQUSITFBBhNRYQcicRQygZGhCCNCscEVUtHwJDNicoIJChYXGBkaJSYnKCkqNDU2Nzg5OkNERUZHSElKU1RVVldYWVpjZGVmZ2hpanN0dXZ3eHl6g4SFhoeIiYqSk5SVlpeYmZqio6Slpqeoqaqys7S1tre4ubrCw8TFxsfIycrS09TV1tfY2drh4uPk5ebn6Onq8fLz9PX29/j5+v/EAB8BAAMBAQEBAQEBAQEAAAAAAAABAgMEBQYHCAkKC//EALURAAIBAgQEAwQHBQQEAAECdwABAgMRBAUhMQYSQVEHYXETIjKBCBRCkaGxwQkjM1LwFWJy0QoWJDThJfEXGBkaJicoKSo1Njc4OTpDREVGR0hJSlNUVVZXWFlaY2RlZmdoaWpzdHV2d3h5eoKDhIWGh4iJipKTlJWWl5iZmqKjpKWmp6ipqrKztLW2t7i5usLDxMXGx8jJytLT1NXW19jZ2uLj5OXm5+jp6vLz9PX29/j5+v/aAAwDAQACEQMRAD8A+ib7m1IPQugPuCwqD7Jbf8+8X/fAqe+/49h/10j/APQxUNzdQWdu095PHBCmN0krhVXJwMk8dTQAn2S2/wCfeL/vgUfZLb/n3i/74Fcf4Y1698QaxGXkto05vZIY7/zGVWUxomwLjChQzKT951bj7ldpLLHBC8szrHHGpZ3c4Cgckk9hTatoRCamroj+yW3/AD7xf98Cj7Jbf8+8X/fArj7JHtonv5pNRdrS1FwbWS/n+eeVt8duct95AFTBBLeapK9Ab93ewaV4PtYVvNkreWpM7C0muAJF89gJSpDMC5zkHLZzkg0+UlVNLs6H7Jbf8+8X/fAo+yW3/PvF/wB8CuR01bXUpp7fSnsIbW7lhL2FrLETDDHlpHkVHKsZDiM4/hK5zgiu0pNWKhLmVyH7Jbf8+8X/AHwKPslt/wA+8X/fArD1eKa/1O4hGmx6nDHAiQCUxvDb3B3EmVCwb7piOQCQpOPvHMnh6xvYriebUbyO+8hEs7eZV5ZUH7xzl2wxf5W6ZMQz2wW0FzvmtY2Pslt/z7xf98Cj7Jbf8+8X/fArhzNJdzLJNeX9ncXKmb7IbLUmMfTco2ygEKWAyoA6cDIFbIins/B10YLi/uJbltok8qfzIA5EZZEctIAo+fGSSQSCARh8pKqX6G/9ktv+feL/AL4FH2S2/wCfeL/vgVz3/Em/6mL/AMqNdLFGIYUjQsVRQoLsWJA9SeSfc80mjSMrkf2S2/594v8AvgUfZLb/AJ94v++BWLrV6V1y3srtr+Kye2eX/QkdzOwZQQTGDIgXKnIwG34J4wxpH7/UVn0ea7/s5VkjuftzTOZJAcAIJTuUqQ244wc45I+QtoTz62Nr7Jbf8+8X/fAo+yW3/PvF/wB8CuU122Osyi7WO9ltIcjbPp0Z2MV4VEkhaXBYKWcBsZGARuKa3heAjTnupFUNMwSMLghYowI02sFUFDtMgwqj94cDnJdtLgql5Wsav2S2/wCfeL/vgUfZLb/n3i/74FTUVJoQ/ZLb/n3i/wC+BR9ktv8An3i/74FTUUAQ/ZLb/n3i/wC+BR9ktv8An3i/74FTUUAQ/ZLb/n3i/wC+BR9ktv8An3i/74FTUUAQ/ZLb/n3i/wC+BR9ktv8An3i/74FTUUAQ/ZLb/n3i/wC+BR9ktv8An3i/74FTUUAQ/ZLb/n3i/wC+BR9ktv8An3i/74FTUUAQ/ZLb/n3i/wC+BR9ktv8An3i/74FTUUAQ/ZLb/n3i/wC+BR9ktv8An3i/74FTUUAQ/ZLb/n3i/wC+BR9ktv8An3i/74FTUUAQ/ZLb/n3i/wC+BR9ktv8An3i/74FTUUAQ/ZLb/n3i/wC+BR9ktv8An3i/74FTUUAQ/ZLb/n3i/wC+BR9ktv8An3i/74FTUUAQ/ZLb/n3i/wC+BR9ktv8An3i/74FTUUAQ/ZLb/n3i/wC+BR9ktv8An3i/74FTUUAQ/ZLb/n3i/wC+BR9ktv8An3i/74FTUUAQ/ZLb/n3i/wC+BR9ktv8An3i/74FTUUAQ/ZLb/n3i/wC+BR9ktv8An3i/74FTUUAQ/ZLb/n3i/wC+BR9ktv8An3i/74FTUUAQ/ZLb/n3i/wC+BR9ktv8An3i/74FTUUAQ/ZLb/n3i/wC+BR9ktv8An3i/74FTUUAQ/ZLb/n3i/wC+BR9ktv8An3i/74FTUUAQ/ZLb/n3i/wC+BR9ktv8An3i/74FTUUAQ/ZLb/n3i/wC+BR9ktv8An3i/74FTUUAQ/ZLb/n3i/wC+BR9ktv8An3i/74FTUUAQ/ZLb/n3i/wC+BR9ktv8An3i/74FTUUAQ/ZLb/n3i/wC+BR9ktv8An3i/74FTUUAQ/ZLb/n3i/wC+BR9ktv8An3i/74FTUUAQ/ZLb/n3i/wC+BR9ktv8An3i/74FTUUAQ/ZLb/n3i/wC+BR9ktv8An3i/74FTUUAQ/ZLb/n3i/wC+BR9ktv8An3i/74FTUUALff8AHsP+ukf/AKGKr31nHf2MtpOWEUy7JApwWU/eX2BGQcc4PBB5qxff8ew/66R/+hiorlp1tZWtI45bgITFHLIUVmxwCwDFQT1IBx6HpQG4y2s47Vrh0LM9xKZZGY8k4CjpxgKqqPYc5OSa+raWdWtHtWvbm2hkRo5VgEf7xWGCCWViOM9Mda4fR7/UU+A1/rmsm4F3daNJqLzWuqSPLIWtQ5dGdMW7E5IRFKIcbc9K6jxncz2uhW0ltNJC7atpsZaNipKtewKy5HYqSCO4JFArJqxInhmNLrz5L+7uHkuVnuPOfiXYo2Dam1VIZI23BcnbgnBNT6zpl5qXki0v/sqJuLpiT5ycYO6ORGGOeMkHdyOBWF4o8fQeH9eGkrLokFwtsly7a1q4sFZXZ1URny3LkGJt3AxlOuTiOw8fXOuXEX/CP6TbzxvZw332a81AW97LDJGkm+GHYyuo8wJuaRF8xXUkBdxd2TyRtY3NI0W5067aa6u47rKFFJWZnXkHhpJnwDjkADOFz0FbNFcV4f8Aiho/iLXLfSrOHbNcbtp/tTT5sbVLH5Irl3PA7KfU4GSC9yoxUVZGnd+C7K91C5vLi4keW4k3t5ltbSY4AABeIkAAAYz+pJrRh0dLPSYbDTrqaySJi2+FY8sSSW4ZCoBJJwAAOgwOKsahfxaZYyXdylw8ceNy21tJPIckDhI1Zj17A4HPQVi/D/T47DwHo58q3F3dWcFxezwMj/abhol8yZpFJEjMRkvk7uuTRdkqEU7otNoE7Xcd02u6iZo0aNG2W/CsVLDHlY6ov5Van0+5l8vy9YvYNiBW8tITvI/iO6M8n2wPYVfoouPlRnRaZdxzI765fyqrAlHS3ww9DiIHB9iDWjRRSGlYxm0CdruO6bXdRM0aNGjbLfhWKlhjysdUX8qtaVpZ0uKSMXtzdLJI0mJxH8rMzMxG1V6liec+2Kv0U7iUUnc5g+EpWeRriTSb53kZjPf6UJZmBYkBmEgBwCAMAAAAACugsbOPT9OtrOEs0dvEsSFzkkKABn34qeihtsUYRjsFFFFIsKKKKACiiigAooooAKKKKACiiigAooooAKKKKACiiigAooooAKKKKACiiigAooooAKKKKACiiigAooooAKKKKACiiigAooooAKKKKACiiigAooooAKKKKACiiigAooooAKKKKACiiigAooooAKKKKACiiigAooooAW+/49h/10j/APQxSUt9/wAew/66R/8AoYpKAOc/4RL/AItd/wAId9t/5g39l/a/K/6Y+V5mzP47c+2e9aOu6T/bWnRWvneR5d5a3W7Zuz5NxHNtxkdfL257ZzzjFaVFAGBqOiap/b0uraBqdnZ3FzbRW1wt7YtcqyxNIyFAssZU5mkzktn5cYwc0tc8I6nrUKWc+t281kNjeZd6asl5BKE2Ga3mRkWKTqyt5bFXZiPlwg6yqzpdnVIJI5UFmsMiyxkfM0hZNhHHQASZ5/iHB7A0rlmise18SW11cMn2a6hgFw9p9qljCxGZZCmzOc8kcNjaSQud/wAtUNA8UvLoelTa7bXFobq0RzfXBhEUziLzGPyOSoKq7fMqgAdjgVPOjb6vUs3bb/g/5HT1i+EdMvdD8L2Wj6gLc/2bDHZwTQSs3nxRoqrIwKjYzYJKAsB/eaoNU8UNa6DqV1b2NxHd21pJcwQXSBDMij/WAbh8oJBZSQ6jGVBZQdJ9VEGnx3F1aXEE0rbI7NijTO/OFG1iuSATndgDJYgAkHMiXRmkm15F+isHU9YmfSre406T7NImo2tvdQzRgyIHmRHjPOFOHB3fMCpyvDK1at0l29xZm1lRIkmLXKsOXj8twAOOu8oe3APPYnMJ02ld+f4Fmiqzz3K6pBAlpvtHhkeW680Dy3VkCJs6ncGc5HA8vB+8Krf27bfbvJ2S+R5nkfbMDyfOzjyt2c5zxnG3d8m7f8tNtLcycktzSorAtPGGn3GmpqFxDd2NnLbG5hmuotolUJvcKAScqATggbgCyblBNFx4qWzXbfaRqFtO+3yLdzCzT5lSL5SshUYaWPO4r97jODiPaQte5n7aFr3/AK/rbub9FcxrniKf/hFrt9PWWw1E3cGm/vlRms5riSKNJCAWR9onSTaCQfukg5xtTWlxDptvbaXMUaF4F33EjSM0Suu8Fm3MzFAwyckk5znmrvdXRrG0rWLtFcZ4wvru11C1t7GK5Y3c/ltJbeVvQCJnwvmHbk7e4IwG6HbTZbi5TxPa24lX7LLZzSGMJzvV4hkt6Yc8cd854xqop/h+Jr7J2Tutbv7jtaK5yss6mtrFrVzcPJLFYOWKCMAoogRyq8/N1JyccnHQA1TppbsiMXPb+uh29FcUmt2wVzdJNaFV3os8eGlQkAMqjJJJIG3G8FlBUFhm5pmpXOpWur2OnxTWGqRWqtGbpF2xu4kEZyNwYApk4yO3UECJRjFXuWqM+q0OpoooqDIKKrOl2dUgkjlQWawyLLGR8zSFk2EcdABJnn+IcHtWg1pLnWbjToLO6c2sgjnn2qIoyY1kXksC2QwGFBIPUAEEq5ag2rr1NKiue8L+IW1LR9LN/HcR3F1aRstxNGES6k2AvsA6EHJwQu4Asu5QSNSG0uJtNuLbVJi7TPOu+3kaNliZ22AMu1lYIVGRggjOc80lJPYqpSlTbUuhdorF8I6hc6j4ahfUJfPu7aaeynn2hftD28zwNLtAwu8xl9o4XdjJxmtqqMgorL8Qawmi6Z53WeeQQWy+WzhpWztBC844ycc4Bxk4BfouqHV7aa7RGW2aXFsXieNnj2rhjuHIJyQRxtI75AdtLk8y5uXqaNFVbnUrS0u7e1uJds9znyYwpJfBUHGB23An0GT0BIoHxFaReI5dNuJ40A8qKMkHPnMGYoT0GV2Fc43EsASQQCzByit2bNFNJk85QFUx7TuYtyDxgAY5HXnPGBwc8VYNXsblbp4rhSlozLO7AqsZUkMCx4yNpJ9sHoQSh3RcoqhHrVjJbyzb5IxDjeksDxyfMcLhGAY7jwMDkggZPFH9tWP2T7Rvkx5nl+X5D+bvxnb5eN+dvzYx935unNOzFzR7l+is7RdUGs2015blXsnlxayqpUyIFUEkHkHfvHQcAfU19S8RWml61Da3k8cUJgMkzMDlCzqkZJ6BSd4LHgELkjIyWYc8bX6GzRUEtwFvoLZZVWSRXkKMhJdFwDg9AQzp1zxnjuKsWv6dPfLaQzs8rSvB8sL7RIm7chbG0MAhOCc4wehGUPmS3NGiqdnq1nfTGO2kZm271LRMgkX+8hIAdeR8y5HI9RTLfW9Pu9PS+t7jfbSSJGkoRsMzlVUDjnlgD6HIOCDh2YuZdy/RUUdzFLcSwxtueHHmAA4UkZAz0zjBx1AIPcZlpFBRRRQAUUUUAFFFFABRRRQAUUUUAFFFFABRRRQAUUUUAFFFFABRRRQAUUUUAFFFFABRRRQAUUUUAFFFFABRRRQAt9/x7D/rpH/6GKSlvv8Aj2H/AF0j/wDQxSUAFFFFABRRVZ3uxqkEccSGzaGQyyE/MsgZNgHPQgyZ4/hHI7g0rmDYaNqkkLWWoC3isRqct6rIx84gXTTRpjlcEhWLZzg7doPz0S+FZbvwtoej3cqBbOHybpomOSptJIDsJHXMgIyOn5Vq2viDTL2+a0trnfKsjwn92wXzEJDR7iNu8bSduc7Ruxt5qn4d8UQazpunNOJYbu6t0kIe0lijdym5ljd12t3IAJJAJ5AJrK0Njtc8RrK1ra7d76/mMvNCvtZguxqs1vDK9hPYQtbBmUrKF3SsGxg5RcICduD87ZG25dWd9fWlncyR28Go2UxnjiWZpIWba6bS+0HBRzzt+UkHDAYMN74qsLfQdR1O0L3YsYTKY1jcGQYO1l+XmNiDiQArgMc4Bxf/ALVtRpf9oSGWKD0lgeNyd20Dy2AbJOABjJJGM5FP3e5EnWSV49bLT718/wDhjNk0O5m0+Yu8Qu7vUba+nAJ8tPLeHKKcZOEhAyQMtk4UHA3qypry+1BLZtBkt0hkV2kuriFpAjKQvlmPcjBiS2cn5TGQRk8M07UdQv7HTriOGJ0luJI7iVeFaFRIFmQE9HZY2HLfK/U/epqyehMlOUbt7fh/Vi+9nv1SC9+0XC+TDJD5CviJ97IdzL3ZfLwp7B39ayf7Cud32HfF/Zn237f5mT52/wA7z/LxjbjzOd+c7fl25+etZ7zZqkFl9nuG86GSbz1TMSbGQbWbszeZlR3CP6Uz+1rL+1P7P87/AEnpjY23dt3bN+Nu/b82zO7b82Mc0SUXucc1F/Ecva+FtV1LwfYaRrT29oLSw8mN4Mu/mPbtD869AEWRhwx3nDZQDaZo/C0rYMGh6DpDLPbuWsss8ipcRysC4jTaMRnjB3EjldvOzY+J9H1KAz2l8hgEP2jzpFaNGjAG5gzAAhcgNj7hOGweKjbxVpSQvJM13Ds24Sawnjkfc6oNiMgZ/mdQdoOCy5xkVjyUrbnOoUbb/iv6/rUp6t4cu73TdcS3khF1c30OoWHmMdglgSBohLgZ2mWAbgvO08EHp0NtK89rFLLBJbvIgZoZSpaMkZKnaSuR0OCR6E1iaz4lWDwvcX2kYe7Msdnbx3UToI7maRIovNQ7XVd0iM3GdhyAcjOlMt9aabbx2jG9uEeCOSS42hpE3qJHO3au7ZubgAZ6DtW6slodUEnpHqYuu2klzrVlLGVC2tz5rgnkgwunHvlx+GarS2kj65a3gK+XDbTRMCeSXaIjHt8h/StLxNqq6X9iiihzcX0xiWb7DJciMKjOSUj5Y/LgDIPJbkKaj1ibUrGO9vYYLGO1tMeVbyW5eS9O1SAjhxsLM3lgFWORnnIFa+1ilax1RhUfK9rppfl+bIV8/wC1ybvL+z7F8vGd+/Lbs9sY2Y/4F7ViTWF5daD4gxbNFPqSyGG3d13g+QsYDEEqCShPUjBGccgd/wDZoP8AnjH/AN8Cs1b21hXWJ737Mtvp0h3NHExMaCFJDu45PzE/LkYK981UqkWtSaUpp3gtdPzX62OUvNMvb0G5v0jknt02QJaybS37xHMnzjAbMalUOVBGGZg2RqeDbfUTqOpX+qKyPPFBEqMiJjYZTwqu+F+cdWJzu6DArattT0e7gnmhkhEVuu+SSRPLUR4JEgLAZjIBw4ypwcE4NQLrMF5Y6inh1Vl1O2t/MFrNC0JDsG8tXVgpXJU8HBwQehBOcpQeprzVXB03Gy9NtvuLupy6hHHbLpMEcsslzEsryn5Iod2ZGPIOdgZVxn52TI27iLtFFI4wqhp9jLaX2qzSMhW8u1mjCk5CiCKPn3zGfwxUzvdjVII44kNm0MhlkJ+ZZAybAOehBkzx/COR3hTWrCXVpNMileS7hbbLGkLsIiUDjewGFBU8EkAnIGSCAnbqaRU7Pl1utfS5laJoepW9no1rq72pTR418p7UsTM4hMXzBh8oVXYcEljhvkxtPQXMrwWsssUElw8aFlhiKhpCBkKNxC5PQZIHqRWR4a8SW+vaXZSeYn2ua0SaRURlQsVG/YTwwVjtOCdpwGwavQrfXem3Ed2xsrh3njjkt9paNN7CNxu3Lu2bW5BGeo7VMbW0NK/tHN+00a/4Jk2Gn6voPgZoLKK3utck82dl3f6OLueVpHPJVvJWSRjj7+xcDc3Xo6yfDGqz6x4egub1Y0vI3ltrsRAiPz4ZGilKZJOwvGxXPO3GcHIrWqznMHXdBn1e7E0VxJAYoCkLJdSpslY483apAyilsf395BIABrXsbKDTrGK0tFZYIV2xqzs5UemWJOB29BxU9FO7JUUncpxWcn9sz3sxUqYkhgXOSgBLM3sWJAIHaNTnsKFjpN2LqOS/8kCG5kuw0Tl3kkdWXDEqPlRXKDqSFU/KBtO3RRcOVETLKiTNE3mu2WjSRgqg7QAuQMgZGcnJ5PsKybrRJj4Zt9OgkWeWFoncvI0IuGVgzMzLllYtl9wOd2M5GQduii4OKe5zEnhq5jhSaA+fdSTq86zX8w2RqjhY45iGdcF85GC2X6BtoisdB1nTLK0a2j06W8T7VJMJJpPL86VwUkyVLOVXK5JDYYjdzXWUU+Zkeyj0KekadHpGjWmnxbStvEsZZU2hyBy2PUnJPuaoNpN3cajO1z5It5rmKcurlpFERUxxDKgBdy7yc8F3UDnfW3RSuXyqyRQ+yTjU7q+xHI3kLDbRs5AGMsxLYO3cSoOAeI1PPQZlz4bnl0yOzE0cggsXiBkyBcTvjc7jkrkBgWBLETPgg8noqKLicE9znYvDtytvdTCeSG+nga2iJvppltUYjcys/JbgN0X7qrxyxs6vC01tBpWmReVKskEqMYG8iFI5FbkjAP3MBAc8joMsNmii4citZEFjZx2FjFbRFmWNcF3OWc9SzHuxOST3JJqeiikXsFFFFABRRRQAUUUUAFFFFABRRRQAUUUUAFFFFABRRRQAUUUUAFFFFABRRRQAUUUUAFFFFABRRRQAUUUUAFFFFAC33/HsP+ukf/oYpKW+/wCPYf8AXSP/ANDFJQAUUUUAFFFVnuZU1SC1W2dopYZJGnGdqMrIAp46sHYjn+A9ewNJvY5uws9Ru7NtNmsHtoV1eW8F27jBjS9aVRs4bcxUY427W3bifkplx4avb/wX4f0iVfIkht/IumyreRmylhJxn5sM4GAf05rp4tSsZ7s2sN5byXAVnMKSqXCqxRjjOcBgVPoRjrVDw/4n03xDY20lpeWrXUtuk8tpFcLI8OQMggc8E4yQOay5Y7Nnb7atrKMbJO/zd9f600KGp6XqPiCC8M1slhL/AGZdWEaySh1kkmCZcFekYMYwSAx3HKrgbr97HdX1vp2oR2UsU9jcG4+xSsgdx5ckZXcrFQcSFhzgkAErkkTX3iDTbDR7/Unu4pYLDes/lSKSrr1j64D5IG0kHJA71Zi1Kxn0838N5byWYVnNykqmMKudx3ZxgYOfTFVZX3M3Opyr3dFp167r5/f2ObuLPU1uJJJ9KuLqy1OZ7m7s7eSLehWOGOOJy7qGUqjM4UkZwuWXO/p7SeS4tUlmtZbR2zmGYoWXnHOxmX34J61Tu9SuW+yjRbWK++0xtMszzmOAINuP3iq/J3gqMYIDHPHLLTWZbuCxdLJyZ7uW1uNrFlgaMShmzjld8W0E7c7geDxSVkwqc84JtLT/AIPn5dr6Fx4LltUgnS72WiQyJLa+UD5jsyFH39RtCuMDg+Zk/dFYf9k3vl/2T5P+jf2j/aH27eu3b9p+0eXszu37vl/u7fm3Z+Stx9Qto9Ug055cXdxDJPFHtPzJGyK5zjAwZU4Jyc8dDilaarPf+JtQs7dY/sOmokU8pBLPcuBJsHIwEjaNicEN5wAIKMDUoqRxSgpbnMQaJq+u+BdM0q4sv7Oks9OKiSd8iR3tHhVcD5lx5hL7gCpXaA4O4WX0OW6kimttG1O3lintz5mpamZ22C6hkcIvmyDG2IknKn5VADZOOrtbmWe4vI5LZ4Vt5hHG7ZxMpjRtw46ZYr35U/QY9j4rj1W3vp9JS3vlgmWCFLe5DyMxkMe+RVU+XHkbgwLZTLY4xWHsoLRsUcC5Lvt267FPWtE1C50vX2tbfzbg6nbalZw71H2o2620gj3E4Te8BTcfu53YI69TbTpdWsVxEJFSVA6iWNo2AIyMqwDKfUEAjuKo6bqVzcX1zY6jaxW91BHHMRBOZUKOXC/MVU5zG2RjGMcnJAs3901nbrKiJIWmiiw8ojADyKhOT3AbIHUkYHJFbxslobeycJcnX/PUrapaTXGo6NLCm5La9aWU5A2qbeZM+/zOo49aoTzagniCea40S9vordgLFreSARqpjG58PIp8zcXXJHCjAxubdsT6lY2s6Q3N5bwyuyIsckqqzM5IQAE8lirY9dpx0outSsbF0S9vLe2aRXdBNKqFlQbnIyeQByfQUml3NozmrLlvpbr6/wBeQ9ZJjfSxNb7YFjRkn3g72Jbcu3qMAKc993sa5i6gnvPC3i+aC2uCNQWVrWN4WSSQfZI4/wDVsAwO9GABAJ6jggnpEuZX1Se1a2dYooY5FnOdrszOCo46qEUnn+MdO9mm1zIUKjpSvbt+jOV1WyvdUZdQvbOWzawj2okW24MknnQy+YFUgtGpgXjiRwWAVSF3TeHJb7UNc1HU722+zxzW9vBGvlSptKNMWH71UZv9Yp3bFHzbRkqSdtNSsZUkeO9t3WKf7PIyyqQkuQvlnnhssBt65I9aZ/bGmf2X/aX9o2n2D/n689fK+9t+/nHXjr14qbK97g8UnTcLL/JXTf4oTU76eyjtvsllJeTT3MUIjTICKW+eRmwQoVA7c43FQoO5lBu1my+JNDhtYLmbWdPjguN3kyvdIFl2nDbTnBweDjpUeqarPBrGl6VYLG1zeu8spkBIitoseY+MjJLPFGBnIMobDBGFWmnsc6knszWrN0u0mt9R1mWZNqXN6ssRyDuUW8KZ9vmRhz6VZe5lTVILVbZ2ilhkkacZ2oysgCnjqwdiOf4D17UG8RWx8VroUMtqZ1jEkyyXIWQbgxVUTBLnC5YErhWU85pNrqbwjNp8q6fhf/gGboOnam2n+HrTUrH7EdGjRpH85ZBM3kNEFXac8ByWJxgqAu8HcOmuZ0tbWW4lEjJEhdhFG0jEAZOFUFmPoACT2FZFrrd89xYfb9NS1t9RbZb/AL9jMreW0gEsZQBDtRs4ZsNgcjkbdKFraFYhzc7ySXp6vzfW5y+krqHhzwFJPJp0lxqkr3F6NNjbJFxczPKLfeuRhXlCGX7oALnaucdRVC31aBtHtL+/lt7MXEKykNcKyKdm9gH6MAoY5HGFJ6VNLqVjBp4v5ry3jsyquLl5VEZVsbTuzjByMeuaq6MnCSdrFmiqct/iazW0j+1Rz3DwSyxNkQbUcknGejJswcYLevFXKZLi1uFFFVrW5lnuLyOS2eFbeYRxu2cTKY0bcOOmWK9+VP0ACTZZorKufENjHb+ZZXFvesJrWN0hnUlFnkRUY4zxh9w9QPxqafVY20G41PSdmprHDJJCts4cTsoPyqVzySMcZ5pcyL9lPTTyL9FZPiXVZ9D0dtVjWN7azdZb4ODlbYf611IPBRSZMYYsEKgZYEa1MzCiiqyXMr6pPatbOsUUMciznO12ZnBUcdVCKTz/ABjp3BpNlmiqceoJu1BrkxQQ2Um1pTMpG3y0cs39zG48HsAehFPTUrGW0kuo7y3e3iXfJMsqlEXaHyTnAG0hvoQelK6HyS7Fmiq0WpWM+nm/hvLeSzCs5uUlUxhVzuO7OMDBz6YqGXXdIgtBdTapZR25ZUEz3CBCzKHUZzjJUhh6g56UXQ1Cbdki/RWbquqfZ9CN7p7RTvP5cdq+d0bPKypGxIPKbnUkjnGcZqy90yapBaBEKywySlzKAwKsgACdSDvOSOBgA/eFF0HJK1/X8CzRVaLUrGe7NrDeW8lwFZzCkqlwqsUY4znAYFT6EY60y31fTbu+lsrTULWe6hz5sEU6s6YODlQcjB4570XQuSXYuUVWg1Kxup3htry3mlRnRo45VZlZCA4IB4Kllz6bhnrRp1zLe6XaXVxbPayzwpI8D53RMyglTkDkE46DpRdA4ySuyzRWT4m1WfR9E+0WixtcS3NtaRGUEqjTzpCHIBBYKZNxUEZxjK5yLJuLu1XTYZ4xdyzv5VzPBGUSMiJ2Mm0ltqlkCgFjjeOT3Ykm9i7RWIdV1e41K/t9N02ylisplhMlxfPEzMYkk+6Im4xIB17Vq/bLbyfN+0ReX5nlb94xv37NufXd8uOueOtJNMuVOUbX6k1FVrXUrG+d0sry3uWjVHcQyq5VXG5CcHgEcj1FMttQSTT5ru6MVvHDJMrt5ysqrG7LuLDgcLkg/d5B5BouieSS3Rcoqm+r6bHa3Fy+oWqwW0hinlM6hYnBAKsc4U5IGDzyKY+u6RFp8d/JqlklnK2yO5a4QRu3PAbOCeD+Rouh+zm+jL9FU5L/AC2ntZx/a4LyTaZ4mysaeW7iTIyCCVVew+cc9i99Qto9Ug055cXdxDJPFHtPzJGyK5zjAwZU4Jyc8dDhkuLW5ZoqslzK+qT2rWzrFFDHIs5ztdmZwVHHVQik8/xjp3ytP8Q3N22mzT2MUNlquPsciXJeTmNpV8xCgC/IhzhmwcDkchcyLVKbTa6f8Ob1FZpm1K/0iZrHytNvRNJHG15A0yBUlKhigZCQyrkfMMbgeQOaVrreoax8PrPX9GsYzfXdhFfQ2MkmQ5ZFk8nf8oBIJQOeASGKkDaWQ007M36KradqFtq2l2uo6fL51peQpPBJtK70dQynBAIyCOCM1ZoEFFFFABRRRQAUUUUAFFFFABRRRQAUUUUALff8ew/66R/+hikpb7/j2H/XSP8A9DFVdQe9jsZH0q3t7m7GPLiuZ2hjbkZy6o5HGT905PHHUAFmiqWi6rBrug6fq1osiW9/bR3MSygBlV1DAEAkZwecE1doAKKKKAOJ0tPtVs9nZWMsN2Ndnu2uvJ2oUW8fe/mDjJQNFt++QcEbPmom0vUrjwP4XsrNZba9S3EZchkNs5sJkDMQMph2UZ6g47121FZ+zOx4p3ul1v8An/mcfqNjNq9jfJo+nS2aLo1xYG3ljEG+VgvlRgfdYJhxuB2DzPlY5bGrqUhv7TTr+3huJLS3u/PuIHt3SR0VXUHymAYlXKOBjPyZUE7QduinykOu3bTb9d/+B2OVVo4o7v8AtXSJZ9H1K4eeOI2jzGL5YtoaBVYje4llyRwcbsO2Bq+G4ZYNDRJY3iXzp2hjdSpSEyuYl2nlQIygCnG0cYGMVq0U1GzuTOtzR5bf1/W5Wf7b/akHl/Z/sHkyedu3eb5u5PL29tu3zd2ec7Md6xdF/wBA8Z+IrK5+WTUJotTtj0WSLyIrdgM9WR4csBkKJYuctgdHRVGAVg6ZJc6Z4fuJfsUsrrqN07RbSG8prtyXAwS2EO8ADLYAHUVvUUmi4zsrNdV+H/DnMaSbfT59WvdJ0u4g0tLSJktYbJoGkmUymTZCwUlipiG7HzYAz8vFzxPNGbWzsxIn2me/tXig3DfIqXETOVXqQqgscdAMmtuip5dLGrrXqKpbb9Dlb2W2i8b6h9q0uW+87SreAeVbiXIaSfMR/uh8DlsJ8vzMOM89rLNpvh7U9D1JrfVNVvrCOMGecBzIkCqFVZPnlBkDPGUDZkdwdhBY+l0VLp36mtPFcjT5e3XtYKxZ7x9f0fXLTRnkgnhMtlDdE7Uabyx8yOuThHYoSOQ8bjGVraorRq6scLV1Y4LxFCl5bQzW2kSxWNv9ls7iylgWLz2+2W5SEKSFcIBIA2fL/e/KxBbE2qW1ze6tFrVn/aFjYC5iZnhtD5+5YbiNpRAyMxz5kMeSm7CZwFVWrt6KxdG7vc53h7u9/wCkcjoliyeKYr6P+07iO4hu2lur+3ETM5+yKvyhE2jERADKCdjHkYJqafDLpM3ge+v43hiTSm0mUOpUwTTLbum/ONoLW5j553yRqAd3Hc0Vcaai7mkKai7/ANdP8grKt4ZV8YahM0biJ7C1RZCp2swkuCQD6gMufqPWtWirsbxlZNd/87nKwNHf6/pl5b6RLY6mJC2pubR0+TyHUxmcqFlAk8vGCQdoYDAyN46pbRafJe3zfYIIpHjd7siIDa5QNknGGIBU9ww9auUUkmjSdRTa028ziSn2Pwz4HW/sZZWt5IDJb+TudGWzlOdh5ypG7A+bK8AnAonuU0XUF1q9HlWUtxNLa2U7LBt3pEvmDzCqJIWWVtjFWKzSH7wdD21FTyG31rW7Xfr3bf6mD4Li8rwvEBBFAjXFy8ccBzGEa4kZdhwMoVIKnABBB71otqsA15NJVZHuGtmuXZACsKhlVQ5zlS5LbePm8qT+6au0VaVlY5qk+ebn3dwooopkHGHS2i+FekWI0p5mVbAz2KwgM5E0TSgq2Bk/MW3YHUk9TW3pIe41i/1KKKWCzuY4URJomiaSRN4eQowBGQY0ywBPl9NoUnYoqFGzOmWIcotNbtv77f5HOePv9I8E6jpUXzXeswvplqg6tLMpQHHXagJkcgEhEdsHFa13qsFnqWn2DLJJcX7uqLGAfLVELNI4zkICFTdz80kY/iFXaKs5gooooA5XUrO5k0PxtGlvKz3PmeQoQky5solG0fxfMCOO4IrNtLLULd9akFlKN0iMrNb7iFGo3TtIikEM6owkUYPOw4OQD3lFZ8mtzsjimoctu34W/wAjgIZ2tI7671F73yodXju86nCIBdx/ZlVMvtWJSGXcobbh0jVtjMCK1iJJ9Zn1u2N1p1jPcXJWbSYUuy5kjtCPuxyA5MUm5lBAdSNx/i9Iopez8y1jEvs9LfL0tY5XS7ZH1LTLOI3TR2Xn6lK92qpMZJnkWMsAAAHD3DbQAV2ruCng35Jo7jx1apBIkrWlhcJcBGBMLO9uyB8fdLBWIz1AOOlbdFUo2VjCVbmlzW6P8b/5s4nS0+1Wz2dlYyw3Y12e7a68nahRbx97+YOMlA0W375BwRs+aqdhpkz6DY2FzqPiCO70+yZdosAIrOQW7xFkdYlaXbvIUI7FjgjIyw9CoqfZm31t62W+v9XRxmhX9rqvjC1m060so4rPTJrWSSzuI5lX95CUXMfSPAfZu2scP8i456bWNVg0TR7nUblZJEgTcIogDJM3RY0BI3OzEKq92YDvV2irirHPWqKo00rW+Zy/juBE0qz1QmQHT7+0kcmRvJSH7VD50kkedjBIwz73B8vbvUqRuHSW1zBeWsVzaTRz28yCSKWJgyyKRkMCOCCDkEVJRVGJxksNjF4i1p9Uj11Glu0eI2K3wjdPs8K5/c/KTuDD14+lWfsdz/wln9qfZ5f7P+27PJ2HPneT5X2v+9j/AJY7Mbcfvc45rqqKz5Dr+su3ytv0027bHE+Ek+06L4WWxsZbM2FuslzI0Plq6PAflVhw+92SQgZHyZfawANyazuT8O9ethbymeX+0/Li2Hc++WYrgdTkEEeuRXVUUKFlYJ4lynzW63/Fv9TnvElk0dtpBsftFpb2N3uZrCASPDH5EsY2R7GyMuq4CnAOeAMjNS3jtAdUim137TNNIy302niRnykSlHgSMOIz5Kc7Eb92cOu5S3Z0U3C7FHEOMUmv+G+7/geRQ0VpZNJiee1S1kdnZkSMxh8uT5mw8qX++VPzAtg5INTP9t/tSDy/s/2DyZPO3bvN83cnl7e23b5u7POdmO9WaKpaI55Pmk2FcfpCyva+FtN+y3SXGk7ftnm20iIm21kiOJGAR/ndR8pOQcjIBNdhRScbsunU5ItW3/ya/UrahqNlpNjJe6reW9laRY8ye5lWONMkAZZiAMkgfU1y/hiVPCnwqsNQ1OC8W4FhDcXFmSxk+0NGg8iKJiBGS+ESFAqhiFVRnFdjRVGRk+FNKn0Lwbouk3bRvcWFhBbStESVZkjVSQSAcZHGQK1qKKACiiigAooooAKKKKACiiigAooooAKKKKAFvv8Aj2H/AF0j/wDQxSUt9/x7D/rpH/6GKq6hp1lq1jJZarZ297aS48yC5iWSN8EEZVgQcEA/UUAYHw3idPhzoUrTySJc2FvPFCwXbao0KEQx4AYovQFy7/3mauooooAKKja5gW6S2aaMXEiNIkRYbmVSoZgOpALqCe24eoqSgAooooAKKKKACiiigAooooAKKzbXWo7zXLzTba1uHWxwlxd/IIklKo4iwW3ltkiNkKVwcbsgipv7Wsvsn2rzv3P2j7Lu2N/rfN8nbjGfv8Z6d+nNFxqLeyLlFVtR1G00nT5r7UZ0t7aBd0kj9AP6kngAcknAp91dw2UKy3L7EaRIgcE/M7hFHHqzAfjSuhqMnay3JqKKha7hS+is2fE8sbyomDyqFQxz04Lr+f1piSb2JqKKrWeo2l+9ytlOkxtZjbzbOQkgAJXPqAwzjoeOoIoCzauizRVCbVB/Zc15ptpcamYpGi+z22xZHZZDG4Hmsi8EN1YZA4zxmbTtQttW0u11HT5fOtLyFJ4JNpXejqGU4IBGQRwRmgGmnZlmiiigQUUUUAFFFFABRRRQAUUUUAFFFFABRRRQAUUUUAFFFFABRRRQAUUUUAFFFFABRRRQAUUUUAFFFFABRRRQAUUUUAFFFFABRRRQAUUUUAFFFFABRRRQAUUUUAFFFFABRRRQAUUUUAFFFFABRRRQAt9/x7D/AK6R/wDoYrlviJePYeDWuE1OTSQL+wWS+jkVDBG15CrtlgVxtLZ3ArjOQRkV1N9/x7D/AK6R/wDoYqrf6fbanbrBexebGk0U6ruIw8UiyIeD2dFOOhxg5FAHDXV1d6f4h/4Rm1vbw6E9zawXF9JcySTWrTR3DNB9pYllLNHagbiZB9rAVl3RbYpE1HUrifT7e8uNQsdLvJ4YLSPVZLS6vYUjgLSJcIwaZoZHlg2syqzFfNcOm491Boul2ujnSbbTbOHTWR4zZRwKsJVs7l2AbcHJyMc5NRXnh3RNR0uDTNQ0ewurC22+RaT2qPFFtXau1CMDCkgYHAOKAOKsLKw1bx14Zuo7rV3+z6ZqSbbi/lWSN4Lu2UxSbH2ybGLoxO8SBFLNJgNXo9UpNF0uW1sraXTbN7ewdJLOJoFK2zIMI0YxhCo4BGMdqpah4T07U76S7ubjV0kkxuW21q8gjGABwkcqqOnYDJ56mgDjtJvp47aTVrbW7y/1M+KLjTDZSXZljWE37q0PkjgFICZg2N6qg+byhso8Faxdz+MtPQTyGz1jQ5dVCXOrSXdxKpkg8qWSFkCWxIkk+SH92TuA4jWu5sPD2kaZeNd2WnW8V2/mhrnZmUiWVpnXefm2mR2bbnAJ4Aoh8O6Jb3y3sGj2EV2k0tws6WqCRZZQBI4YDO5wAGPUgDOaAOK0MSWfwd0vU7vUtXvtQ1iz06OWWTUHDPJMY40UNyIVJlCtJGvmbcvlpAGrmNZ17WLPwpqKwajJby6Prl3HD9k1WW8EZh0eW5EbTuFeYCcbmSQEZGwgqoFey/2dZf2X/Zn2O3+weT9n+yeUvleVt27NmMbdvGMYxxVJfCnh1VdV0HTAJEWNwLOP5lWJolU8cgRuyAdlYr0JFAHHQpqOraNZRC8uL1bS81OFtOj1WSzuriGC8aKORJkYPI0aKE2uwV2lVncEAnsfDFzBdeHoGtpryVI3lhIvmDzRNHIyNE7DO8oylN2W3bc7nzuMl74d0TU7EWWpaPYXdoJmuBBPapJGJWLFn2kY3EuxJ6ksfU1etraCztYra0hjgt4UEcUUShVjUDAUAcAADAAoA47xBpnjm41y4l0LUvIsG2+VH/aMEWPlGflbT5SPmz1kb8Og7WiigDl/Bqzpf+J0vpI5r5dWUXM0MZjilb7HbEFIyWKAIUBBdslWbIDBVteKFS08PqbW23Y1G0kEMIVS7G7jY4yQMsSTkkcnJNaMWkWcGsTapCkkdzOgSbZM4jk6De0edhfCqu8jdtULnAxVqWGOdAk0aSKGVwHUEBlIZT9QQCPQik1dWNKc+Sal2aZyuozS3fgHxFd3cji8ewnSe1LHbaMImPlAeoDZL/x5DD5SgHVSwxzoEmjSRQyuA6ggMpDKfqCAR6EUyWztpvO863ik8+Pypd6A+YnPyt6j5m4PHzH1qaklYqdRSStpr/l/kZupx2z6jo7XNlcXMiXjNbyxKSts/wBnmBkkwRhShdOcjdIvGcEXzDG06zNGhlRSiyFRuVSQSAfQlVz9B6U+iqMTmLOa+fWoNMeS482zv7m6uJGZtj27hzEue4zMgAIxmCQD7gzf0X/kL+If+win/pLb1qiGNZ2mWNBK6hGkCjcygkgE+gLNj6n1oSGOJ5HjjRGlbfIVUAu2AuT6nAA+gFQo2OiVZSvpurfjcIoY4EKQxpGpZnIRQAWYlmP1JJJ9Sa5r4brOPhzoTSyRtbvYW7WcaxkNDAYU2JI2SJHA6uAgbsi9K39QsYtTsZLS5e4SOTG5ra5kgkGCDw8bKw6diMjjoag0y90r+wIbrTHhh0qGIiF1TyoViTgMuQB5eFyrD5SuCCVINWYatmhRTDNGs6wtIgldS6xlhuZQQCQPQFlz9R60+gQUUUUAFFFQrdwvfS2avmeKNJXTB4VywU56clG/L6UDs2TUVWTUbSS4kgWdBLHN9nZG+UmTyxJtGep2ENxnjPoas0A01uFFFFAgopkU0c6F4ZEkUMyEowIDKSrD6ggg+hFCTRyvIkciO0TbJArAlGwGwfQ4IP0IoHZj6KKKBBRRRQAUVDdXcNlCsty+xGkSIHBPzO4RRx6swH41NQOztcKKKKBBRTJpo7eCSa4kSKKNS7yOwVVUDJJJ6ACn0AFFVtQ1Gy0mxkvdVvLeytIseZPcyrHGmSAMsxAGSQPqala5gW6S2aaMXEiNIkRYbmVSoZgOpALqCe24eooAkoqNbmBrp7ZZozcRosjxBhuVWLBWI6gEowB77T6GpKACiiigAoqlba1pd5psWo2mpWc9jM4jiuop1aKRi/lhQ4OCS52gDvx1qzLcwQSQxzTRxvO5jhV2AMjbS21R3O1WOB2UntQBJRRRQAUUUUAFFRrcwNdPbLNGbiNFkeIMNyqxYKxHUAlGAPfafQ1JQAUUUUAFFFFABRRRQAUUUUAFFFFABRRUdzOlray3EokZIkLsIo2kYgDJwqgsx9AASewoAkoqO2uYLy1iubSaOe3mQSRSxMGWRSMhgRwQQcgipKACiiigAooooAKKKKAFvv8Aj2H/AF0j/wDQxWJ4z1C50nwHr+o6fL5N3Z6ZczwSbQ2x0iZlOCCDggcEYrbvv+PYf9dI/wD0MVV1HT7bVtLutO1CLzrS8heCePcV3o6lWGQQRkE8g5oA5PxHc69oem6VaQ6hqGp3uramYZZLKG1jmiX7PLKVt1lxGqhoR/rS7bWYbmbaRSE/jT+zx9vGt2djDcyA3EMdjLqTReXEyyOih4WQMbgFYlMp2w7VJL57XVdIs9ZtVgv0kIRxJHJDM8MsTYI3JIhDocFlJUjIZgeCQc1vBWiG1SERXkbo7P8Aao9RuEunLBQ2+4DiVwQiDDMRiOMY+RcAGBpl5rmueIJ7TTvFf+iWemW1wkv9nIHlmae6TbMrYK4EKrKgEbb0O0w/MprQeNtT1jwnqPi+0f7DbaLZx3TaWAsi3e6ziu3V5Cu4fLMEQpt2spdvMB8sb5+Hfhx9QN3JaSMTbR2pQzuA8aySyMHIO6USNMxkWQsshClgSMnWvPD+mX+qQajd22+5g27SJGVX2tuTegO2TYxLJvB2MSy4JzQByej6trI1TTrq61e4u4dT1/UdMazlihEUEULXZjMZRFfcBbIMszAhm4zgild+INf8O6TqV9rGp3ker21hc3A0++som0+5eOF5P9GmiVWxuQlUkkMvlI5ZAcOvcxeH9Mh+y+Xbbfsl5NfQ/vG+SeXzfMfrznz5eDwN3AGBilB4I0C3kJ+xyTQ7HjS0ubqWe2iVlKFY4HYxxjYzIAqjCsyjCkigDN8Ly+Jhrxi1ODW201rZ2ebWjp+5JgyCNY/sh6FTKW3g/dTBHOdfxTc65aaXG/hm2+03ZmAdPs6TYTa2Tte4gA5287yf9k9RJpXhnTdHumubX7ZNcMhjEt7fz3bIpIJVDM7FASFJC4ztXOdoxrUAYvha51y70uR/E1t9muxMQifZ0hym1cHalxODzu53g/7I6mjr8mrXPjLSNH03V5NLtrmwvLi5eGCOSUmOS2CbDIrKp/etklWBBYYztZeoqs+n20mqQai8Wbu3hkgik3H5UkZGcYzg5MSckZGOOpyAcDrWteLbrX9fj8O2urzvpMywWcVp9gFnM/2aKYC4M7CblpcMYyo2bduGyas3+s65cWS67Zap9ktxr8Wltp/2dJEaFdRW1dt5G7zHwxznaEbaE3Dza6TUPCOj6nfSXV3DcFpsfaIYryaKG5wAv72FHEcuVAU71bKgKcgAVFq3gvRdY1CO+uYJEuY7m3uw8cpC+bDIjrJsOU3kRiMybd/l5TcBxQByeq+NNa0z4U+FfEMc8ct9dWDXN15sQ2zsul3FxggYwDJGhO3b0xwKs28vjkNcxW0GttC1sWabWDpvnI4ljG23+znbvMRnI80FN6xZIXdnfXwB4ZFxFNJpvn+RvEEVzPLNFAjxtG8ccbsUjjKOVMagIQF4+RcSReCtEjjmWSK8ujKgTzL3Ubi5kiG4N+7eR2aI7lRsoVO5EOcqpABx+ttd6j4YNq3iTVxcQ6zpRkivrK3hvLdmvY05xEI3j3YKOilS8T/vJFyo6fxIut2trp6WV7qbWcSML670+G3kvSwC7ZCjoUZMeYXWNDIW8sIuNwq9B4R0eCxurUw3E63WzzZrq8mnm+Q7o8TO5kXYxLLtYbGJZcEk1JfeGdN1G1tIbn7YDZp5cNxDfzxXAXABUzI4kYHapYFjuKqTkgGgCTw/c/a9Dt5v7Q/tHO5ftJh8l22sVxInG2RcbXGFw4b5U+6OT1HWdcs5fGWtLqmbLw3MXh00W6BZ0WygmkR5Mbud7bCuCrElvMXCDrIfD+mW8OnxRW2F02Zri2JkYssrI6M7EnLswlkyWySWLHJ5qkvgvRR4hu9akgklvLu5juZN0pCFo440jDIuFcJ5Qdd4bY7My4JoAyf+Eg1Pyv8AhIPtP+h/2z/ZH9l+WuzZ9t+x+d5mN/mb/wB512bPk27v3tR6RPrZ1JLHX9d1Ow1K6SRGgls7c2rtsYlrOZY+oYFkSZnk8tGLx/xjp/8AhH9M/tz+1/s3+mdd3mNs37dnmeXnZ5mz5PMxv2fLnbxVfT/COj6ZfR3VpDcBoc/Z4ZbyaWG2yCv7qF3McWFJUbFXCkqMAkUAcdpQvNK/Zoa5i1S8luB4XNxbysURrX/QwVWMxqpAUjIJy3qxr0F9Msn0dtK+zRpYNAbb7PENirFt27AFxtGOBjGO1M0rSLPRbVrbTUkity5dYmmd1i4ACRhiRGgAACLhV7AUaPpUGh6PbaZZtI1taJ5UAkIJjjH3EyAMhVwoJySFGSTkkGm07oy9XtZrvxhpcdvfXFiwsLtjJbrGWI8y34+dWGPwzx1rNsTeal4p0qabUrhGgh1CFgiRYlWG7ij+bKHlwF3bccj5dvOeta0he+ivGTM8UbxI+TwrlSwx05KL+X1qt/YtgDCUieNoZpJ0aOV0bc773BIOSrMclD8pwOOBjNxbd/66HXCvFQUWtk1suvN/mjNt7WY/ETUJxfXAjWwtWNuFj2MC1wACdu7AILDBzljkkYArWuo6nFbNqlzffaIjqr2ItPJVVEZvDArbgN29cg56FRjbuO+uhfT7eTUI74q63Ea7NySModecBwDhwNxI3A4JJGCTVOw8N6dp1211DE7TNNLOWdyR5kjMzNt+7uwxUNjdt+XOKOV9A9tTa95dF0XRd/PvuWbJ4Wu9RENzLM63AEqSEkQt5UZ2LxwNpVuM8s30Gbo13DBod/r92/lwXkkl+zgEgQKoWNwBzzDGjEdck8DoNi8t/tdjPbedLB50bR+bC210yMblPYjqD61DdaXbXWlrp+3ybUbF8qIBVKKwPl4xjYQNpXoVJFU0zKMo2s+tr+i/r8Dm5dOuk0/wxbzTS2F7PqMlxcNDsYxTSQXEsiruDLgMzKMg8dyeahu1vrzWLCyk1a6VrHWWt0uFjh8xw1g0u5sx7cjeyjCgbTyCcNXYT2kNxNbyzJue2kMsRyRtYoyZ9/ldhz61Wn0WwuRP5kThp5hcPJHK6OJAgj3KykFTsUL8pGRkdzmHB9DeOJV7yXR9Fu2/0exm6hazTePtKkjvriBVsLljHGsZVgstvkHcpOGyM4IPyjBHOa15qOp27+ItRF9m20aTdHZ+SuJVFtHI6s+N3O47SMbSSTvGFHQ3On293PBNMriW3bdHJHI0bDkEqSpGVJAypypwMg4FU18N6cNWn1J4ne4nmWZ8uQpZURUyowGC7Ay7s7WJIwTTcX0JhWp2XOtlbZd7/l1MTS5r3TbB7/7X5lu+sz232Py1ChZL54927728M+c52lRt25+erN5qFxaaV4yubZkjms2d4XWNchhZxMCePmOT/FnjA6ACtW18P6ZZXzXdtbbJWkeY/vGK+Y5JaTaTt3ncRuxnadudvFTS6TZTW9/BLDuj1HP2pd7DzMxiM9+PlUDjHT1pcsrWG61JzcmvwXdP/PXrcp6XJdQa5e6Zc3st8kNvBcJNOqBwZGlUr8iquB5QI4zknk8Ym1i7mhaxtLV/Jkv7g24nwGMIEbyFgDwTiMgZ4BIJDAbTcW0hS+lvFTE8saRO+TyqFiox04Lt+f0qEaTZDR49LEOLSKNI403tlAmNpDZ3AjAIbOQQDnPNXZ2sY88HPma7dPLf79bdTBn1HU5Lm30uG+8qWPVTYy3fkqzSx/Y2n3bcbVflRkcblzt2nZVy9ubpL42P9qfYUs7Jbo3k6IftJBYNuyAoRdql9u0/vFwyfxaUek2UUdokcOBZyGWH52JDlWVmJzliQ75LZJLEnnmq2raCmrTwyteXFu0LK6hEikUOpJVwsqOFYZPzKAeeScDE8rsa+0puSVrL069+v3dPxMrR7ubXG8Nvcv5klvpyalcyABT50kflx57YYNcHAHBReg4Ja6jqcVs2qXN99oiOqvYi08lVURm8MCtuA3b1yDnoVGNu47629M0a00gSLZhwrLHGodt3lxxoESNSedowTgk/M7HvUNh4b07TrtrqGJ2maaWcs7kjzJGZmbb93dhiobG7b8ucUlGRUq1Jt6adNPVteWr3RlQatq0un6Zf280UkmuRn7PazpiK1cwPNH8yjcw+Ta+ckk7l2AbTQ1eW5k8J69bXOp6kk/8AZk8jW1/bwLIAq5yjxqI3Ug4bbvI3ryjdeqXRNOWe5l+yo5uVZJEkJdNrnLgISVUMeWwBuPLZNMt9A06383Mctz5sZif7ZcSXPyH7yjzGbAOBkDg4Gc4FHLJqw416UZXS/Bd/69SY6ck2jyadqM0t9HNG8UzzbVaRWyCDsCgcHHAH581cqG0tY7K1S3haVkTODNM8rcnPLOSx69zUGp6VBq0dtFdtJ5MFzFcmNCAJGjbegY4zgOEfgjJQA5Usp0RxSd35HN+OLC4vtd8Hrbareacf7WlXfapCxybK5O795G4yApX0w7cZ2ldK8ndfiNo9uBHsk0m/ckxqWBWazAw2NwHzHIBweMg7RjWutPtry4s57mLfJYzGe3bcRscxvGTwefkkcYORznqBQ+n20mqQai8Wbu3hkgik3H5UkZGcYzg5MSckZGOOpyyTFsf+So65/wBgbTv/AEde1yfhzWvHes6bpmqWVrqDPqdmZ3/tX7ENOhL27SRmIQN9o2+b5SgPuPls275sEejJp9tHqk+opFi7uIY4JZNx+ZI2dkGM4GDK/IGTnnoMZMHgjQLeQn7HJNDseNLS5upZ7aJWUoVjgdjHGNjMgCqMKzKMKSKAMC11LXoLe8hs7/V7rWFhDrpet6damUYkQF4nieCGVQrfPiVtpePJVgUelr9x4p1H4VeNF8SxSacU0mZoHjs4YS4Ebl14ubgEEAKc7CAxwc8r2uleGdN0e6a5tftk1wyGMS3t/PdsikglUMzsUBIUkLjO1c52jF3UdPttW0u607UIvOtLyF4J49xXejqVYZBBGQTyDmgDA8RrcaV4Ts45b2TUZl1bTka4vYYWZw9/CDlVRUBAbAIUEYBB3DNS+J/+Ri8Hf9hmT/0gu62r/T7bU7dYL2LzY0minVdxGHikWRDwezopx0OMHIoutPtry4s57mLfJYzGe3bcRscxvGTwefkkcYORznqBQBwOta14tutf1+Pw7a6vO+kzLBZxWn2AWcz/AGaKYC4M7CblpcMYyo2bduGya0vtms2nijGtarqFgkl5stU+xwy6bcRF8InmKvmxyFCi/vHQGZsIJFGw7eoeEdH1O+kuruG4LTY+0QxXk0UNzgBf3sKOI5cqAp3q2VAU5AAo/wCER0f+1Pt/k3G/zvtH2f7ZN9m83du3/Z9/lbt/z5253/P97mgDarJ8TarPo+ifaLRY2uJbm2tIjKCVRp50hDkAgsFMm4qCM4xlc5FnTtKg02S9liaSSa+uWubiSQjLNtVFGAAAFREQYHRATliWNm5toLy1ltruGOe3mQxyxSqGWRSMFSDwQQcEGgDzS8fVdG8banZf23qF7d3dnp0NtJbWlt9tmG6/kMYL7bcMPLdt7IB5a7QC5DkebVfE1n4KnudT1DS7tNfv7N2jjtjLmKK9jV3yjx+Zthw2z5MyOQPubesTwD4dj890tLgXFx5ZlvPt0/2ljHvCN5+/zAwWV03BslDsJ2gKJIPBGgWmjnS7OzktbMXL3UUdvdSxG2kbO4wsrBoQdzDbGVGHYYwzAgGB8QfEeq6N9vn0SbUJZNJ0w6hLa2cFt5Sj94Va5eZgzRt5TDbBhwEkJOWTFnxBqfjm31y4i0LTfPsF2+VJ/Z0EuflGfmbUIifmz1jX8ep29d8IaH4l3jW7H7SskJglQTOizJzgOqsA+0sWQtkoxLLtPNa1tAlraxW8RkZIkCKZZGkYgDAyzEsx9SSSe5oA4Ww1nXLeybXb3VPtdudfl0tdP+zpGiwtqLWqNvA3eYmVOc7Si7Sm4+bRa+IPEE+j6Hq9nc2803iqE/ZLG6jCwWErWklxD86DeygR7JN2SxbcnlgbDv6T4L0XR9QkvraCR7mS5uLsvJKSvmzSO7SbBhN4EhjEm3f5eE3EcVZj8L6LHdXs/wBgjkN6jxzRykyRFZDmVVjYlEEh+ZwoG8gFtx5oA4HxFPfTfD7xbZXuu63HdDQ7qWSy1eztUmAVM5ilhjEUiFTtk2mQr5ifNE3B9L0+1ms7GOC5vrjUJEzuublYxI+STyI1VeM44UcDueazrPwjo9n5+Ybi9+0Qtbyf2leTXv7pvvoPOd9qtgbgMBtq5zgYkl0J10eHT9L1jU9OELlhcJMtzMwOSVZ7lZSRls+owACBxQBm6/Jq1z4y0jR9N1eTS7a5sLy4uXhgjklJjktgmwyKyqf3rZJVgQWGM7WXk9c8b62NEvr/AE+S8e80S2upbq20+3txbloJ7iISzmdt/lSG2YiOE+YgDgsxKGusl8C2l/dWt1rmq6nqtzZpMlvcSSx28sIlMRbY9ukbKf3OMggkSSKSQ2BZ1XwP4c1m1W1v9Lja2W2Fp9nid4YmhAIRGRCFYJklMg+WSWTaeaAK0kmrX3xGurCHV5LPTbGwsrtreGCMtNI81yrKXdThCsQDADdwpVkw27Jg8R6r/wAJzYJFNqF1pmoanc6eZJILaOzQxRTsViAb7R5ivb7Cz5RsSFQAUx2NnpFnY3TXNukhuGtobV5ZZnkZ44i5QEsSSQZHJY8ndyTxWbL4I0CbWIdUazkW8t7k3UEiXUqCGQ53lFDBUD7iZFAAkJy4Y80AcN4E8X+KtZjS0a+t729n0Z54HvYVRPtAtrGdS3lKvyl791YAfcijxht7P1nha8uzqklpqOq6u9z5Jd9P1uzt0lXDLh4pbdVikUBhv2mTBeMExnKtdsPA/hzTV22ulx7DbNaNHK7yq0LRQxMhVyQQUtoVOf7n+02ZbPwrYad58lhPqCXcsLQpd3N9LeS24br5ZuGkC8hSRjDFF3A7RQBW8CfL4YeJeI7fU9Qt4UH3Y4o72ZI0UdlVFVQBwAABwK6Oq2nafbaTpdrp2nxeTaWcKQQR7i2xEUKoySScADknNWaACiiigAooooAKKKKAJLmJpoCqY3blYZ6cEH+lQ7Lr/nnD/wB/T/8AE1booAqbLr/nnD/39P8A8TRsuv8AnnD/AN/T/wDE1booAqbLr/nnD/39P/xNGy6/55w/9/T/APE1booAqbLr/nnD/wB/T/8AE0bLr/nnD/39P/xNW6KAKmy6/wCecP8A39P/AMTRsuv+ecP/AH9P/wATVuigCpsuv+ecP/f0/wDxNGy6/wCecP8A39P/AMTVuigCpsuv+ecP/f0//E0bLr/nnD/39P8A8TVuigCpsuv+ecP/AH9P/wATRsuv+ecP/f0//E1booAqbLr/AJ5w/wDf0/8AxNGy6/55w/8Af0//ABNW6KAKmy6/55w/9/T/APE0bLr/AJ5w/wDf0/8AxNW6KAKmy6/55w/9/T/8TRsuv+ecP/f0/wDxNW6KAKmy6/55w/8Af0//ABNGy6/55w/9/T/8TVuigCpsuv8AnnD/AN/T/wDE0bLr/nnD/wB/T/8AE1booAqbLr/nnD/39P8A8TRsuv8AnnD/AN/T/wDE1booAqbLr/nnD/39P/xNGy6/55w/9/T/APE1booAqbLr/nnD/wB/T/8AE0bLr/nnD/39P/xNW6KAKmy6/wCecP8A39P/AMTRsuv+ecP/AH9P/wATVuigCpsuv+ecP/f0/wDxNGy6/wCecP8A39P/AMTVuigCpsuv+ecP/f0//E0bLr/nnD/39P8A8TVuigCpsuv+ecP/AH9P/wATRsuv+ecP/f0//E1booAqbLr/AJ5w/wDf0/8AxNGy6/55w/8Af0//ABNW6KAKmy6/55w/9/T/APE0bLr/AJ5w/wDf0/8AxNW6KAKmy6/55w/9/T/8TRsuv+ecP/f0/wDxNW6KAKmy6/55w/8Af0//ABNGy6/55w/9/T/8TVuigCpsuv8AnnD/AN/T/wDE0bLr/nnD/wB/T/8AE1booAqbLr/nnD/39P8A8TRsuv8AnnD/AN/T/wDE1booAqbLr/nnD/39P/xNGy6/55w/9/T/APE1booAqbLr/nnD/wB/T/8AE0bLr/nnD/39P/xNW6KAKmy6/wCecP8A39P/AMTRsuv+ecP/AH9P/wATVuigCpsuv+ecP/f0/wDxNGy6/wCecP8A39P/AMTVuigCpsuv+ecP/f0//E0bLr/nnD/39P8A8TVuigCpsuv+ecP/AH9P/wATRsuv+ecP/f0//E1booAqbLr/AJ5w/wDf0/8AxNGy6/55w/8Af0//ABNW6KAKmy6/55w/9/T/APE0bLr/AJ5w/wDf0/8AxNW6KAKmy6/55w/9/T/8TRsuv+ecP/f0/wDxNW6KAKmy6/55w/8Af0//ABNGy6/55w/9/T/8TVuigCpsuv8AnnD/AN/T/wDE0bLr/nnD/wB/T/8AE1booAqbLr/nnD/39P8A8TRsuv8AnnD/AN/T/wDE1booAqbLr/nnD/39P/xNGy6/55w/9/T/APE1booAqbLr/nnD/wB/T/8AE0bLr/nnD/39P/xNW6KAP//Z'},\n",
       " 'form': {'k1': 'v1'},\n",
       " 'headers': {'Accept': '*/*',\n",
       "  'Accept-Encoding': 'gzip, deflate',\n",
       "  'Connection': 'close',\n",
       "  'Content-Length': '84323',\n",
       "  'Content-Type': 'multipart/form-data; boundary=978db8b56a794c0a9ad0c842bd377a5b',\n",
       "  'Host': 'httpbin.org',\n",
       "  'User-Agent': 'python-requests/2.18.4'},\n",
       " 'json': None,\n",
       " 'origin': '211.249.69.177',\n",
       " 'url': 'http://httpbin.org/post'}"
      ]
     },
     "execution_count": 56,
     "metadata": {},
     "output_type": "execute_result"
    }
   ],
   "source": [
    "response.json()"
   ]
  },
  {
   "cell_type": "code",
   "execution_count": null,
   "metadata": {
    "collapsed": true
   },
   "outputs": [],
   "source": []
  }
 ],
 "metadata": {
  "kernelspec": {
   "display_name": "Python 3",
   "language": "python",
   "name": "python3"
  },
  "language_info": {
   "codemirror_mode": {
    "name": "ipython",
    "version": 3
   },
   "file_extension": ".py",
   "mimetype": "text/x-python",
   "name": "python",
   "nbconvert_exporter": "python",
   "pygments_lexer": "ipython3",
   "version": "3.6.0"
  }
 },
 "nbformat": 4,
 "nbformat_minor": 2
}
