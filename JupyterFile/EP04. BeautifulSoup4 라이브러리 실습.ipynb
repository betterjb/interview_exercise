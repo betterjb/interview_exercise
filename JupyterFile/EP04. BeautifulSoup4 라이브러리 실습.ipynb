{
 "cells": [
  {
   "cell_type": "code",
   "execution_count": 13,
   "metadata": {
    "collapsed": false
   },
   "outputs": [
    {
     "name": "stdout",
     "output_type": "stream",
     "text": [
      "NEVER - 국민의 아들\n",
      "SIGNAL - TWICE\n",
      "LONELY - 씨스타\n",
      "I LUV IT - PSY\n",
      "New Face - PSY\n"
     ]
    }
   ],
   "source": [
    "from bs4 import BeautifulSoup\n",
    "html = '''\n",
    "<ol>\n",
    "    <li>NEVER - 국민의 아들</li>\n",
    "    <li>SIGNAL - TWICE</li>\n",
    "    <li>LONELY - 씨스타</li>\n",
    "    <li>I LUV IT - PSY</li>\n",
    "    <li>New Face - PSY</li>\n",
    "</ol>\n",
    "'''\n",
    "\n",
    "soup = BeautifulSoup(html, 'html.parser')\n",
    "for tag in soup.select('li'):\n",
    "    print(tag.text)"
   ]
  },
  {
   "cell_type": "code",
   "execution_count": 28,
   "metadata": {
    "collapsed": false
   },
   "outputs": [
    {
     "name": "stdout",
     "output_type": "stream",
     "text": [
      "1 여행\n",
      "2 FAKE LOVE\n",
      "3 빙글뱅글 (Bingle Bangle)\n",
      "4 밤 (Time for the moon night)\n",
      "5 주지마\n",
      "6 지나오다\n",
      "7 데리러 가 (Good Evening)\n",
      "8 LATATA\n",
      "9 You\n",
      "10 바람사람\n",
      "11 What is Love?\n",
      "12 전하지 못한 진심 (Feat. Steve Aoki)\n",
      "13 붕붕 (Feat. 식케이) (Prod. by GroovyRoom)\n",
      "14 사랑을 했다 (LOVE SCENARIO)\n",
      "15 뿜뿜\n",
      "16 모든 날, 모든 순간 (Every day, Every Moment)\n",
      "17 야경\n",
      "18 소나기 (Feat. 10cm)\n",
      "19 Anpanman\n",
      "20 DNA\n",
      "21 별이 빛나는 밤\n",
      "22 그날처럼\n",
      "23 My Way\n",
      "24 그때 헤어지면 돼\n",
      "25 잊을만하면\n",
      "26 HandClap\n",
      "27 다시, 우리\n",
      "28 Roller Coaster\n",
      "29 낙원\n",
      "30 봄날\n",
      "31 Airplane pt.2\n",
      "32 EVERYDAY\n",
      "33 Havana (Feat. Young Thug)\n",
      "34 선물\n",
      "35 Love Maze\n",
      "36 욕심\n",
      "37 Lonely\n",
      "38 안녕, 곰인형\n",
      "39 Magic Shop\n",
      "40 134340\n",
      "41 꽃 길\n",
      "42 Shape Of You\n",
      "43 넋두리\n",
      "44 빛나리\n",
      "45 가을 안부\n",
      "46 바코드 (Prod. by GroovyRoom)\n",
      "47 So What\n",
      "48 미안해\n",
      "49 이 별\n",
      "50 Clip\n"
     ]
    }
   ],
   "source": [
    "# 복잡하게 크롤링한 코딩의 예) 지니 차트 가져오기 연습해봄\n",
    "import requests\n",
    "from bs4 import BeautifulSoup\n",
    "\n",
    "headers = {\n",
    "'User-Agent': 'Mozilla/5.0 (Macintosh; Intel Mac OS X 10.13; rv:57.0) Gecko/20100101 Firefox/57.0',\n",
    "}\n",
    "html = requests.get('http://www.genie.co.kr/chart/top200', headers=headers).text\n",
    "soup = BeautifulSoup(html, 'html.parser')\n",
    "\n",
    "tag_list = []\n",
    "for tr_tag in soup.find(class_='music-list-wrap').find_all('tr'):\n",
    "    # print(tr_tag)\n",
    "    tag = tr_tag.find(class_='title')\n",
    "    if tag:\n",
    "        tag_list.extend(tag)\n",
    "        \n",
    "for idx, tag in enumerate(tag_list, 1):\n",
    "    print(idx, tag.strip())"
   ]
  },
  {
   "cell_type": "code",
   "execution_count": 21,
   "metadata": {
    "collapsed": false
   },
   "outputs": [
    {
     "name": "stdout",
     "output_type": "stream",
     "text": [
      "1 여행\n",
      "2 FAKE LOVE\n",
      "3 전하지 못한 진심 (Feat. Steve Aoki)\n",
      "4 밤 (Time for the moon night)\n",
      "5 Anpanman\n",
      "6 DNA\n",
      "7 주지마\n",
      "8 Airplane pt.2\n",
      "9 봄날\n",
      "10 낙원\n",
      "11 134340\n",
      "12 Love Maze\n",
      "13 Magic Shop\n",
      "14 지나오다\n",
      "15 So What\n",
      "16 Intro : Singularity\n",
      "17 빙글뱅글 (Bingle Bangle)\n",
      "18 Outro : Tear\n",
      "19 You\n",
      "20 What is Love?\n",
      "21 사랑을 했다 (LOVE SCENARIO)\n",
      "22 붕붕 (Feat. 식케이) (Prod. GroovyRoom)\n",
      "23 별이 빛나는 밤\n",
      "24 모든 날, 모든 순간 (Every day, Every Moment)\n",
      "25 뿜뿜\n",
      "26 My Way\n",
      "27 잊을만하면\n",
      "28 소나기 (Feat. 10cm)\n",
      "29 LATATA\n",
      "30 그날처럼\n",
      "31 花요일 (Blooming Day)\n",
      "32 EVERYDAY\n",
      "33 HandClap\n",
      "34 그때 헤어지면 돼\n",
      "35 Roller Coaster\n",
      "36 꽃 길\n",
      "37 선물\n",
      "38 Havana (Feat. Young Thug)\n",
      "39 데리러 가 (Good Evening)\n",
      "40 BOOMERANG (부메랑)\n",
      "41 넋두리\n",
      "42 욕심\n",
      "43 에너제틱 (Energetic)\n",
      "44 약속해요 (I.P.U.)\n",
      "45 가을 안부\n",
      "46 Beautiful\n",
      "47 Universe\n",
      "48 바코드 (Prod. GroovyRoom)\n",
      "49 Shape of You\n",
      "50 Lonely\n",
      "51 이 별\n",
      "52 Playdate\n",
      "53 Jenga (Feat. Gaeko)\n",
      "54 빛나리\n",
      "55 Vroom Vroom\n",
      "56 미안해\n",
      "57 바람사람\n",
      "58 Bad Boy\n",
      "59 내일 만나 (Sweet Dreams!)\n",
      "60 열애중\n",
      "61 REALLY REALLY\n",
      "62 우리 둘만 아는\n",
      "63 북 (Prod. SLO)\n",
      "64 Monday Blues\n",
      "65 Heart Shaker\n",
      "66 All Day All Night\n",
      "67 휴일 (Lazy)\n",
      "68 밤편지\n",
      "69 Thursday\n",
      "70 비행운\n",
      "71 비도 오고 그래서 (Feat. 신용재)\n",
      "72 밤이 되니까\n",
      "73 안녕, 곰인형\n",
      "74 전혀 (Feat. 우원재) (Prod. GroovyRoom)\n",
      "75 안녕 (You & I)\n",
      "76 야경\n",
      "77 좋니\n",
      "78 all of my life\n",
      "79 시차 (We Are) (Feat. 로꼬 & GRAY)\n",
      "80 눈 떠보니 이별이더라\n",
      "81 LIKEY\n",
      "82 Undercover\n",
      "83 instagram\n",
      "84 Thunder\n",
      "85 JUMP\n",
      "86 빨간 맛 (Red Flavor)\n",
      "87 어린 왕자 (Prod. Godic)\n",
      "88 어른\n",
      "89 눈사람\n",
      "90 GOLD\n",
      "91 그리워하다\n",
      "92 결혼\n",
      "93 너의 이름을\n",
      "94 다시, 우리\n",
      "95 #첫사랑\n",
      "96 Clip\n",
      "97 끝사랑\n",
      "98 보여\n",
      "99 마지막처럼\n",
      "100 There`s Nothing Holdin` Me Back\n"
     ]
    }
   ],
   "source": [
    "# 복잡하게 크롤링한 코딩의 예) 멜론 차트 목록 가져오기\n",
    "import requests\n",
    "from bs4 import BeautifulSoup\n",
    "\n",
    "# User-Agent 헤더 검사를 통해 요청을 막고 있기 때문에 User-Agent 헤더를 커스텀 지정해서 요청\n",
    "headers = {\n",
    "'User-Agent': 'Mozilla/5.0 (Macintosh; Intel Mac OS X 10.13; rv:57.0) Gecko/20100101 Firefox/57.0',\n",
    "}\n",
    "\n",
    "html = requests.get('http://www.melon.com/chart/index.htm', headers=headers).text\n",
    "soup = BeautifulSoup(html, 'html.parser')\n",
    "\n",
    "tag_list = []\n",
    "for tr_tag in soup.find(id='tb_list').find_all('tr'):\n",
    "    tag = tr_tag.find(class_='wrap_song_info')\n",
    "    if tag:\n",
    "        tag_sub_list = tag.find_all(href=lambda value: (value and 'playSong' in value))\n",
    "        #print(tag_sub_list)\n",
    "        tag_list.extend(tag_sub_list)\n",
    "\n",
    "for idx, tag in enumerate(tag_list, 1):\n",
    "    print(idx, tag.text)"
   ]
  },
  {
   "cell_type": "code",
   "execution_count": 20,
   "metadata": {
    "collapsed": false
   },
   "outputs": [
    {
     "name": "stdout",
     "output_type": "stream",
     "text": [
      "1 여행\n",
      "2 FAKE LOVE\n",
      "3 빙글뱅글 (Bingle Bangle)\n",
      "4 밤 (Time for the moon night)\n",
      "5 주지마\n",
      "6 지나오다\n",
      "7 데리러 가 (Good Evening)\n",
      "8 LATATA\n",
      "9 You\n",
      "10 바람사람\n",
      "11 What is Love?\n",
      "12 전하지 못한 진심 (Feat. Steve Aoki)\n",
      "13 붕붕 (Feat. 식케이) (Prod. by GroovyRoom)\n",
      "14 사랑을 했다 (LOVE SCENARIO)\n",
      "15 뿜뿜\n",
      "16 모든 날, 모든 순간 (Every day, Every Moment)\n",
      "17 야경\n",
      "18 소나기 (Feat. 10cm)\n",
      "19 Anpanman\n",
      "20 DNA\n",
      "21 별이 빛나는 밤\n",
      "22 그날처럼\n",
      "23 My Way\n",
      "24 그때 헤어지면 돼\n",
      "25 잊을만하면\n",
      "26 HandClap\n",
      "27 다시, 우리\n",
      "28 Roller Coaster\n",
      "29 낙원\n",
      "30 봄날\n",
      "31 Airplane pt.2\n",
      "32 EVERYDAY\n",
      "33 Havana (Feat. Young Thug)\n",
      "34 선물\n",
      "35 Love Maze\n",
      "36 욕심\n",
      "37 Lonely\n",
      "38 안녕, 곰인형\n",
      "39 Magic Shop\n",
      "40 134340\n",
      "41 꽃 길\n",
      "42 Shape Of You\n",
      "43 넋두리\n",
      "44 빛나리\n",
      "45 가을 안부\n",
      "46 바코드 (Prod. by GroovyRoom)\n",
      "47 So What\n",
      "48 미안해\n",
      "49 이 별\n",
      "50 Clip\n"
     ]
    }
   ],
   "source": [
    "# 간단하게 크롤링한 코딩의 예) 지니 차트 가져오기\n",
    "import requests\n",
    "from bs4 import BeautifulSoup\n",
    "headers = {\n",
    "'User-Agent': 'Mozilla/5.0 (Macintosh; Intel Mac OS X 10.13; rv:57.0) Gecko/20100101 Firefox/57.0',\n",
    "}\n",
    "html = requests.get('http://www.genie.co.kr/chart/top200', headers=headers).text\n",
    "soup = BeautifulSoup(html, 'html.parser')\n",
    "\n",
    "tag_list = soup.select('.music-list-wrap tr .title')\n",
    "for idx, tag in enumerate(tag_list, 1):\n",
    "    print(idx, tag.text.strip()) "
   ]
  },
  {
   "cell_type": "code",
   "execution_count": 30,
   "metadata": {
    "collapsed": false
   },
   "outputs": [],
   "source": [
    "## 아래 부분 부터는 다시 보아야 할 부분\n",
    "\n",
    "import requests\n",
    "from bs4 import BeautifulSoup\n",
    "params = {\n",
    "    'q': 'EPA:BRNTB',\n",
    "    'startdate': 'Jan 01, 2016',\n",
    "    'enddate': 'Jun 02, 2016',\n",
    "}\n",
    "response = requests.get('https://www.google.com/finance/historical', params=params)\n",
    "#print(response.request.url)\n",
    "html = response.text\n",
    "soup = BeautifulSoup(html, 'lxml') #'html.parser')\n",
    "for tr_tag in soup.select('#prices > table > tr'):\n",
    "    row = [td_tag.text.strip() for td_tag in tr_tag.select('th, td')]\n",
    "    print(row)"
   ]
  },
  {
   "cell_type": "code",
   "execution_count": 71,
   "metadata": {
    "collapsed": false
   },
   "outputs": [
    {
     "data": {
      "text/plain": [
       "'Mozilla/5.0 (compatible; MSIE 9.0; Windows NT 6.0; Trident/5.0; chromeframe/11.0.696.57)'"
      ]
     },
     "execution_count": 71,
     "metadata": {},
     "output_type": "execute_result"
    }
   ],
   "source": [
    "import requests\n",
    "from bs4 import BeautifulSoup\n",
    "from fake_useragent import UserAgent\n",
    "ua = UserAgent()\n",
    "ua.ie"
   ]
  },
  {
   "cell_type": "code",
   "execution_count": 78,
   "metadata": {
    "collapsed": false
   },
   "outputs": [
    {
     "name": "stdout",
     "output_type": "stream",
     "text": [
      "None Fallout 76 – Official Teaser Trailer\n",
      "26674 This piano I made out of random rocks\n",
      "9995 In a world first, Scotland to roll out free sanitary products for low-income women\n",
      "15265 Everyone has belly rolls. Including the superior reptilian race\n",
      "12484 Dust Devil in Arizona\n",
      "20912 PsBattle: Bugs looking through leaf holes\n",
      "23155 Summer is coming.....\n",
      "22491 Foxes getting their lunch\n",
      "18405 TIL that Valentina Tereshkova became the first woman in space on 16 June 1963, where she spent three days orbiting the Earth 48 times, and is the only woman to have completed a solo space mission\n",
      "5190 Call me cynical... but i don't believe that you do that.\n",
      "7494 First rule of parenting\n",
      "5852 Underwater welder is greeted by a cute seal\n",
      "6230 Bees rescuing one of their comrades when it gets injured in battle.\n",
      "7649 Human corneas have been 3D printed for the first time. Stem cells from a healthy donor cornea were mixed with alginate, a gel derived from seaweed, and collagen to create a “bio-ink”. Using a 3D printer, this bio-ink was extruded into concentric circles to form an artificial cornea.\n",
      "12137 It just won't STAY UP!\n",
      "3987 Trying to impress the hot girl at work\n",
      "10355 Looks genuine to me…\n",
      "7017 Green Building in Singapore\n",
      "5917 A Japanese prisoner captured near Nauro on the Kokoda Track being cared for by Australian stretcher bearers, New Guinea, October 1942\n",
      "37137 Hate walking into these things. Take that!\n",
      "6305 The “I can’t afford to pay for my kids’ school lunch we can barely make ends meet” starter pack\n",
      "12941 EASTER EGG! Dance on all 4 tiles and this triggers a special effect. At loot lake factorys!\n",
      "10111 meirl\n",
      "4473 HMB while I slide across this puddle barefoot\n",
      "12673 Wisconsin aerial fall photo [3889] x [2915] [OC]\n"
     ]
    }
   ],
   "source": [
    "html = requests.get(\"https://www.reddit.com/\", headers={'User-Agent':ua.ie}).text\n",
    "soup = BeautifulSoup(html,'html.parser')\n",
    "\n",
    "for tag in soup.select('#siteTable .thing'):\n",
    "    score = tag.select('.score.unvoted')[0].get('title',None)\n",
    "    name = tag.find('a', class_='title').text\n",
    "    print(score,name)"
   ]
  },
  {
   "cell_type": "code",
   "execution_count": 79,
   "metadata": {
    "collapsed": false
   },
   "outputs": [
    {
     "data": {
      "text/plain": [
       "[<a class=\"title may-blank outbound\" data-event-action=\"title\" data-href-url=\"https://www.youtube.com/watch?v=-ye84Zrqndo\" data-outbound-expiration=\"1527696907000\" data-outbound-url=\"https://out.reddit.com/t3_8n8s85?url=https%3A%2F%2Fwww.youtube.com%2Fwatch%3Fv%3D-ye84Zrqndo&amp;token=AQAAC84OW0F0c_eVE1Af2w5IJQKxOTLzE1Q6diQyIz7xoAyOhmpV&amp;app_name=reddit.com\" href=\"https://www.youtube.com/watch?v=-ye84Zrqndo\" rel=\"\" tabindex=\"1\">Fallout 76 – Official Teaser Trailer</a>,\n",
       " <a class=\"title may-blank \" data-event-action=\"title\" data-href-url=\"/r/mildlyinteresting/comments/8n88mg/this_piano_i_made_out_of_random_rocks/\" data-inbound-url=\"/r/mildlyinteresting/comments/8n88mg/this_piano_i_made_out_of_random_rocks/?utm_content=title&amp;utm_medium=best&amp;utm_source=reddit&amp;utm_name=frontpage\" href=\"/r/mildlyinteresting/comments/8n88mg/this_piano_i_made_out_of_random_rocks/\" rel=\"\" tabindex=\"1\">This piano I made out of random rocks</a>,\n",
       " <a class=\"title may-blank outbound\" data-event-action=\"title\" data-href-url=\"https://www.scotsman.com/news/scotland-to-roll-out-free-sanitary-products-for-low-income-women-1-4747093\" data-outbound-expiration=\"1527696907000\" data-outbound-url=\"https://out.reddit.com/t3_8n83pd?url=https%3A%2F%2Fwww.scotsman.com%2Fnews%2Fscotland-to-roll-out-free-sanitary-products-for-low-income-women-1-4747093&amp;token=AQAAC84OW59sEMfdv3nvWWocW4qxzxKF42qTHD6s9iZusScEE4TH&amp;app_name=reddit.com\" href=\"https://www.scotsman.com/news/scotland-to-roll-out-free-sanitary-products-for-low-income-women-1-4747093\" rel=\"\" tabindex=\"1\">In a world first, Scotland to roll out free sanitary products for low-income women</a>,\n",
       " <a class=\"title may-blank \" data-event-action=\"title\" data-href-url=\"/r/Eyebleach/comments/8n7s3h/everyone_has_belly_rolls_including_the_superior/\" data-inbound-url=\"/r/Eyebleach/comments/8n7s3h/everyone_has_belly_rolls_including_the_superior/?utm_content=title&amp;utm_medium=best&amp;utm_source=reddit&amp;utm_name=frontpage\" href=\"/r/Eyebleach/comments/8n7s3h/everyone_has_belly_rolls_including_the_superior/\" rel=\"\" tabindex=\"1\">Everyone has belly rolls. Including the superior reptilian race</a>,\n",
       " <a class=\"title may-blank outbound\" data-event-action=\"title\" data-href-url=\"https://i.imgur.com/hRak7Zv.gifv\" data-outbound-expiration=\"1527696907000\" data-outbound-url=\"https://out.reddit.com/t3_8n7kut?url=https%3A%2F%2Fi.imgur.com%2FhRak7Zv.gifv&amp;token=AQAAC84OWyqTYWMJx9WOdD7zPFTyCQjI-IjIUf7MDl6lgsYrB8XM&amp;app_name=reddit.com\" href=\"https://i.imgur.com/hRak7Zv.gifv\" rel=\"\" tabindex=\"1\">Dust Devil in Arizona</a>,\n",
       " <a class=\"title may-blank outbound\" data-event-action=\"title\" data-href-url=\"https://i.imgur.com/bDejmWw.jpg\" data-outbound-expiration=\"1527696907000\" data-outbound-url=\"https://out.reddit.com/t3_8n7cr3?url=https%3A%2F%2Fi.imgur.com%2FbDejmWw.jpg&amp;token=AQAAC84OWw_Y6txvglKTbBy74yTORr6Q_8_vPuRnkh6sP_nBO3OH&amp;app_name=reddit.com\" href=\"https://i.imgur.com/bDejmWw.jpg\" rel=\"\" tabindex=\"1\">PsBattle: Bugs looking through leaf holes</a>,\n",
       " <a class=\"title may-blank outbound\" data-event-action=\"title\" data-href-url=\"https://i.redd.it/1b3v129pwy011.jpg\" data-outbound-expiration=\"0\" data-outbound-url=\"https://i.redd.it/1b3v129pwy011.jpg\" href=\"https://i.redd.it/1b3v129pwy011.jpg\" rel=\"\" tabindex=\"1\">Summer is coming.....</a>,\n",
       " <a class=\"title may-blank \" data-event-action=\"title\" data-href-url=\"/r/aww/comments/8n7998/foxes_getting_their_lunch/\" data-inbound-url=\"/r/aww/comments/8n7998/foxes_getting_their_lunch/?utm_content=title&amp;utm_medium=best&amp;utm_source=reddit&amp;utm_name=frontpage\" href=\"/r/aww/comments/8n7998/foxes_getting_their_lunch/\" rel=\"\" tabindex=\"1\">Foxes getting their lunch</a>,\n",
       " <a class=\"title may-blank outbound\" data-event-action=\"title\" data-href-url=\"https://en.wikipedia.org/wiki/Valentina_Tereshkova?repost\" data-outbound-expiration=\"1527696907000\" data-outbound-url=\"https://out.reddit.com/t3_8n758k?url=https%3A%2F%2Fen.wikipedia.org%2Fwiki%2FValentina_Tereshkova%3Frepost&amp;token=AQAAC84OW33HXJ0Y7LPyLJYDTGK5vslzv18gLfJmKaKo4JERwiCu&amp;app_name=reddit.com\" href=\"https://en.wikipedia.org/wiki/Valentina_Tereshkova?repost\" rel=\"\" tabindex=\"1\">TIL that Valentina Tereshkova became the first woman in space on 16 June 1963, where she spent three days orbiting the Earth 48 times, and is the only woman to have completed a solo space mission</a>,\n",
       " <a class=\"title may-blank outbound\" data-event-action=\"title\" data-href-url=\"https://i.imgur.com/jVL6Bev.jpg\" data-outbound-expiration=\"1527696907000\" data-outbound-url=\"https://out.reddit.com/t3_8n86lz?url=https%3A%2F%2Fi.imgur.com%2FjVL6Bev.jpg&amp;token=AQAAC84OW0wonH1UqVuxlwmb5lsqGGiJIGW7JkSwcJh2N3c7aAQA&amp;app_name=reddit.com\" href=\"https://i.imgur.com/jVL6Bev.jpg\" rel=\"\" tabindex=\"1\">Call me cynical... but i don't believe that you do that.</a>,\n",
       " <a class=\"title may-blank outbound\" data-event-action=\"title\" data-href-url=\"https://i.imgur.com/WGq5jRY.jpg\" data-outbound-expiration=\"1527696907000\" data-outbound-url=\"https://out.reddit.com/t3_8n7l53?url=https%3A%2F%2Fi.imgur.com%2FWGq5jRY.jpg&amp;token=AQAAC84OW2-BqlUQKuf75EpqVlZdlnMbzNXdxLZYFAcYKPIhGdTt&amp;app_name=reddit.com\" href=\"https://i.imgur.com/WGq5jRY.jpg\" rel=\"\" tabindex=\"1\">First rule of parenting</a>,\n",
       " <a class=\"title may-blank outbound\" data-event-action=\"title\" data-href-url=\"https://i.imgur.com/yqShjj3.gifv\" data-outbound-expiration=\"1527696907000\" data-outbound-url=\"https://out.reddit.com/t3_8n7y9e?url=https%3A%2F%2Fi.imgur.com%2FyqShjj3.gifv&amp;token=AQAAC84OW1oCfm7Hq_dE7pVNCdjvrLNe1YJISza44zaFAlyqC4IW&amp;app_name=reddit.com\" href=\"https://i.imgur.com/yqShjj3.gifv\" rel=\"\" tabindex=\"1\">Underwater welder is greeted by a cute seal</a>,\n",
       " <a class=\"title may-blank outbound\" data-event-action=\"title\" data-href-url=\"https://i.imgur.com/mIW8BBz.gifv\" data-outbound-expiration=\"1527696907000\" data-outbound-url=\"https://out.reddit.com/t3_8n7u9p?url=https%3A%2F%2Fi.imgur.com%2FmIW8BBz.gifv&amp;token=AQAAC84OWyf3c_KO8LuiQSv33TqDgK94oZFk7TkaX2kmqzQV_VAd&amp;app_name=reddit.com\" href=\"https://i.imgur.com/mIW8BBz.gifv\" rel=\"\" tabindex=\"1\">Bees rescuing one of their comrades when it gets injured in battle.</a>,\n",
       " <a class=\"title may-blank outbound\" data-event-action=\"title\" data-href-url=\"https://www.ft.com/content/39079a94-6361-11e8-a39d-4df188287fff\" data-outbound-expiration=\"1527696907000\" data-outbound-url=\"https://out.reddit.com/t3_8n7jc2?url=https%3A%2F%2Fwww.ft.com%2Fcontent%2F39079a94-6361-11e8-a39d-4df188287fff&amp;token=AQAAC84OW27zHFHj5fNVkle7QDe4BtU9brtO5Q_QphPGxsbVFEqg&amp;app_name=reddit.com\" href=\"https://www.ft.com/content/39079a94-6361-11e8-a39d-4df188287fff\" rel=\"\" tabindex=\"1\">Human corneas have been 3D printed for the first time. Stem cells from a healthy donor cornea were mixed with alginate, a gel derived from seaweed, and collagen to create a “bio-ink”. Using a 3D printer, this bio-ink was extruded into concentric circles to form an artificial cornea.</a>,\n",
       " <a class=\"title may-blank outbound\" data-event-action=\"title\" data-href-url=\"https://gfycat.com/gargantuanunawarebedlingtonterrier\" data-outbound-expiration=\"1527696907000\" data-outbound-url=\"https://out.reddit.com/t3_8n7ctf?url=https%3A%2F%2Fgfycat.com%2Fgargantuanunawarebedlingtonterrier&amp;token=AQAAC84OWwhSvklZU6Gbao5846uFNNEAV6s7Zx_Q8ILHFOc-R3By&amp;app_name=reddit.com\" href=\"https://gfycat.com/gargantuanunawarebedlingtonterrier\" rel=\"\" tabindex=\"1\">It just won't STAY UP!</a>,\n",
       " <a class=\"title may-blank \" data-event-action=\"title\" data-href-url=\"/r/instant_regret/comments/8n8ggx/trying_to_impress_the_hot_girl_at_work/\" data-inbound-url=\"/r/instant_regret/comments/8n8ggx/trying_to_impress_the_hot_girl_at_work/?utm_content=title&amp;utm_medium=best&amp;utm_source=reddit&amp;utm_name=frontpage\" href=\"/r/instant_regret/comments/8n8ggx/trying_to_impress_the_hot_girl_at_work/\" rel=\"\" tabindex=\"1\">Trying to impress the hot girl at work</a>,\n",
       " <a class=\"title may-blank outbound\" data-event-action=\"title\" data-href-url=\"https://i.imgur.com/h1MnMoP.jpg\" data-outbound-expiration=\"1527696907000\" data-outbound-url=\"https://out.reddit.com/t3_8n79bn?url=https%3A%2F%2Fi.imgur.com%2Fh1MnMoP.jpg&amp;token=AQAAC84OW1GWUcSJnYkuaVX8We8fFXDcr7ACsYHIvO7V3X3ePDD7&amp;app_name=reddit.com\" href=\"https://i.imgur.com/h1MnMoP.jpg\" rel=\"\" tabindex=\"1\">Looks genuine to me…</a>,\n",
       " <a class=\"title may-blank outbound\" data-event-action=\"title\" data-href-url=\"https://i.imgur.com/LiOLz1m.jpg\" data-outbound-expiration=\"1527696907000\" data-outbound-url=\"https://out.reddit.com/t3_8n7mkc?url=https%3A%2F%2Fi.imgur.com%2FLiOLz1m.jpg&amp;token=AQAAC84OWy9_g8ho1HDGr5a6ITGO1EtzZd-pnEnVE05XEoxJZvTp&amp;app_name=reddit.com\" href=\"https://i.imgur.com/LiOLz1m.jpg\" rel=\"\" tabindex=\"1\">Green Building in Singapore</a>,\n",
       " <a class=\"title may-blank \" data-event-action=\"title\" data-href-url=\"/r/ColorizedHistory/comments/8n7npw/a_japanese_prisoner_captured_near_nauro_on_the/\" data-inbound-url=\"/r/ColorizedHistory/comments/8n7npw/a_japanese_prisoner_captured_near_nauro_on_the/?utm_content=title&amp;utm_medium=best&amp;utm_source=reddit&amp;utm_name=frontpage\" href=\"/r/ColorizedHistory/comments/8n7npw/a_japanese_prisoner_captured_near_nauro_on_the/\" rel=\"\" tabindex=\"1\">A Japanese prisoner captured near Nauro on the Kokoda Track being cared for by Australian stretcher bearers, New Guinea, October 1942</a>,\n",
       " <a class=\"title may-blank \" data-event-action=\"title\" data-href-url=\"/r/gifs/comments/8n6xog/hate_walking_into_these_things_take_that/\" data-inbound-url=\"/r/gifs/comments/8n6xog/hate_walking_into_these_things_take_that/?utm_content=title&amp;utm_medium=best&amp;utm_source=reddit&amp;utm_name=frontpage\" href=\"/r/gifs/comments/8n6xog/hate_walking_into_these_things_take_that/\" rel=\"\" tabindex=\"1\">Hate walking into these things. Take that!</a>,\n",
       " <a class=\"title may-blank \" data-event-action=\"title\" data-href-url=\"/r/FunnyandSad/comments/8n7ojj/the_i_cant_afford_to_pay_for_my_kids_school_lunch/\" data-inbound-url=\"/r/FunnyandSad/comments/8n7ojj/the_i_cant_afford_to_pay_for_my_kids_school_lunch/?utm_content=title&amp;utm_medium=best&amp;utm_source=reddit&amp;utm_name=frontpage\" href=\"/r/FunnyandSad/comments/8n7ojj/the_i_cant_afford_to_pay_for_my_kids_school_lunch/\" rel=\"\" tabindex=\"1\">The “I can’t afford to pay for my kids’ school lunch we can barely make ends meet” starter pack</a>,\n",
       " <a class=\"title may-blank \" data-event-action=\"title\" data-href-url=\"/r/FortNiteBR/comments/8n78qt/easter_egg_dance_on_all_4_tiles_and_this_triggers/\" data-inbound-url=\"/r/FortNiteBR/comments/8n78qt/easter_egg_dance_on_all_4_tiles_and_this_triggers/?utm_content=title&amp;utm_medium=best&amp;utm_source=reddit&amp;utm_name=frontpage\" href=\"/r/FortNiteBR/comments/8n78qt/easter_egg_dance_on_all_4_tiles_and_this_triggers/\" rel=\"\" tabindex=\"1\">EASTER EGG! Dance on all 4 tiles and this triggers a special effect. At loot lake factorys!</a>,\n",
       " <a class=\"title may-blank \" data-event-action=\"title\" data-href-url=\"/r/meirl/comments/8n74tk/meirl/\" data-inbound-url=\"/r/meirl/comments/8n74tk/meirl/?utm_content=title&amp;utm_medium=best&amp;utm_source=reddit&amp;utm_name=frontpage\" href=\"/r/meirl/comments/8n74tk/meirl/\" rel=\"\" tabindex=\"1\">meirl</a>,\n",
       " <a class=\"title may-blank \" data-event-action=\"title\" data-href-url=\"/r/holdmybeer/comments/8n7wv8/hmb_while_i_slide_across_this_puddle_barefoot/\" data-inbound-url=\"/r/holdmybeer/comments/8n7wv8/hmb_while_i_slide_across_this_puddle_barefoot/?utm_content=title&amp;utm_medium=best&amp;utm_source=reddit&amp;utm_name=frontpage\" href=\"/r/holdmybeer/comments/8n7wv8/hmb_while_i_slide_across_this_puddle_barefoot/\" rel=\"\" tabindex=\"1\">HMB while I slide across this puddle barefoot</a>,\n",
       " <a class=\"title may-blank outbound\" data-event-action=\"title\" data-href-url=\"https://imgur.com/9YQ3Lye\" data-outbound-expiration=\"1527696907000\" data-outbound-url=\"https://out.reddit.com/t3_8n6xaw?url=https%3A%2F%2Fimgur.com%2F9YQ3Lye&amp;token=AQAAC84OW_5yK1t4or84u1p-UbFs9uQp3NKW8GYcCsHRaDd9TbkT&amp;app_name=reddit.com\" href=\"https://imgur.com/9YQ3Lye\" rel=\"\" tabindex=\"1\">Wisconsin aerial fall photo [3889] x [2915] [OC]</a>]"
      ]
     },
     "execution_count": 79,
     "metadata": {},
     "output_type": "execute_result"
    }
   ],
   "source": [
    "soup.select('#siteTable a.title')"
   ]
  },
  {
   "cell_type": "code",
   "execution_count": null,
   "metadata": {
    "collapsed": true
   },
   "outputs": [],
   "source": []
  }
 ],
 "metadata": {
  "kernelspec": {
   "display_name": "Python 3",
   "language": "python",
   "name": "python3"
  },
  "language_info": {
   "codemirror_mode": {
    "name": "ipython",
    "version": 3
   },
   "file_extension": ".py",
   "mimetype": "text/x-python",
   "name": "python",
   "nbconvert_exporter": "python",
   "pygments_lexer": "ipython3",
   "version": "3.6.0"
  }
 },
 "nbformat": 4,
 "nbformat_minor": 2
}
